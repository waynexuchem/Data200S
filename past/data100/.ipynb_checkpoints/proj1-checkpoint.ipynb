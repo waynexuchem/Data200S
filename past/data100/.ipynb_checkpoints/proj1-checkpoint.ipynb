{
 "cells": [
  {
   "cell_type": "code",
   "execution_count": 1,
   "metadata": {
    "deletable": false,
    "editable": false
   },
   "outputs": [],
   "source": [
    "# Initialize Otter\n",
    "import otter\n",
    "grader = otter.Notebook()"
   ]
  },
  {
   "cell_type": "markdown",
   "metadata": {
    "nbgrader": {
     "grade": false,
     "grade_id": "intro-hw2",
     "locked": true,
     "schema_version": 2,
     "solution": false
    }
   },
   "source": [
    "# Project 1: Food Safety\n",
    "## Cleaning and Exploring Data with Pandas\n",
    "## Due Date: Thursday 09/24, 11:59 PM\n",
    "## Collaboration Policy\n",
    "\n",
    "Data science is a collaborative activity. While you may talk with others about\n",
    "the project, we ask that you **write your solutions individually**. If you do\n",
    "discuss the assignments with others please **include their names** at the top\n",
    "of your notebook."
   ]
  },
  {
   "cell_type": "markdown",
   "metadata": {},
   "source": [
    "**Collaborators**: *list collaborators here*"
   ]
  },
  {
   "cell_type": "markdown",
   "metadata": {},
   "source": [
    "\n",
    "## This Assignment\n",
    "\n",
    "In this project, we will investigate restaurant food safety scores for restaurants in San Francisco. The scores and violation information have been [made available by the San Francisco Department of Public Health](https://data.sfgov.org/Health-and-Social-Services/Restaurant-Scores-LIVES-Standard/pyih-qa8i). The main goal for this assignment is to walk through the process of Data Cleaning and EDA. \n",
    "\n",
    "\n",
    "As we clean and explore these data, you will gain practice with:\n",
    "* Reading simple csv files and using Pandas\n",
    "* Working with data at different levels of granularity\n",
    "* Identifying the type of data collected, missing values, anomalies, etc.\n",
    "* Exploring characteristics and distributions of individual variables\n",
    "\n",
    "## Score Breakdown \n",
    "Question | Points\n",
    "--- | ---\n",
    "1a | 1\n",
    "1b | 0\n",
    "1c | 0\n",
    "1d | 3\n",
    "1e | 1\n",
    "2a | 1\n",
    "2b | 1\n",
    "2ci | 1\n",
    "2cii | 1\n",
    "2d | 2\n",
    "3a | 1\n",
    "3b | 2\n",
    "3ci | 1\n",
    "3cii | 1\n",
    "3d | 3\n",
    "3e | 2\n",
    "3f | 2\n",
    "4a | 1\n",
    "4bi | 1\n",
    "4bii | 1\n",
    "4biii | 1\n",
    "4ci | 1\n",
    "4cii | 1\n",
    "4ciii | 1\n",
    "4civ | 1\n",
    "4di | 2\n",
    "4dii | 2\n",
    "4e | 2\n",
    "5a | 2\n",
    "5b | 3\n",
    "5c | 2\n",
    "5d | 2\n",
    "6a|1\n",
    "6b|2\n",
    "7a|2\n",
    "7b|1\n",
    "7ci|4\n",
    "7cii|2\n",
    "7d|2\n",
    "7e|1\n",
    "7f|1\n",
    "7g|3\n",
    "8a|4\n",
    "8b|4\n",
    "Total | 73"
   ]
  },
  {
   "cell_type": "markdown",
   "metadata": {},
   "source": [
    "## Before You Start\n",
    "\n",
    "For each question in the assignment, please write down your answer in the answer cell(s) right below the question. \n",
    "\n",
    "We understand that it is helpful to have extra cells breaking down the process towards reaching your final answer. If you happen to create new cells below your answer to run codes, **NEVER** add cells between a question cell and the answer cell below it. It will cause errors when we run the autograder, and it will sometimes cause a failure to generate the PDF file.\n",
    "\n",
    "**Important note: The local autograder tests will not be comprehensive. You can pass the automated tests in your notebook but still fail tests in the autograder.** Please be sure to check your results carefully.\n",
    "\n",
    "Finally, unless we state otherwise, try to avoid using python for loops or list comprehensions.  The majority of this assignment can be done using builtin commands in Pandas and numpy.  \n"
   ]
  },
  {
   "cell_type": "code",
   "execution_count": 2,
   "metadata": {
    "nbgrader": {
     "grade": false,
     "grade_id": "import",
     "locked": true,
     "schema_version": 2,
     "solution": false
    }
   },
   "outputs": [],
   "source": [
    "import numpy as np\n",
    "import pandas as pd\n",
    "\n",
    "import matplotlib\n",
    "import matplotlib.pyplot as plt\n",
    "import seaborn as sns\n",
    "sns.set()\n",
    "plt.style.use('fivethirtyeight')\n",
    "\n",
    "import zipfile\n",
    "import os # Used to interact with the file system"
   ]
  },
  {
   "cell_type": "markdown",
   "metadata": {
    "nbgrader": {
     "grade": false,
     "grade_id": "download",
     "locked": true,
     "schema_version": 2,
     "solution": false
    }
   },
   "source": [
    "## Obtaining the Data\n",
    "\n",
    "### File Systems and I/O\n",
    "\n"
   ]
  },
  {
   "cell_type": "markdown",
   "metadata": {},
   "source": [
    "In general, we will focus on using python commands to investigate files.  However, it can sometimes be easier to use shell commands in your local operating system.  The following cells demonstrate how to do this."
   ]
  },
  {
   "cell_type": "code",
   "execution_count": 3,
   "metadata": {},
   "outputs": [],
   "source": [
    "from pathlib import Path\n",
    "data_dir = Path('.')\n",
    "data_dir.mkdir(exist_ok = True)\n",
    "file_path = data_dir / Path('data.zip')\n",
    "dest_path = file_path"
   ]
  },
  {
   "cell_type": "markdown",
   "metadata": {},
   "source": [
    "After running the cell above, if you list the contents of the directory containing this notebook, you should see `data.zip`.\n",
    "\n",
    "*Note*: The command below starts with an `!`. This tells our Jupyter notebook to pass this command to the operating system. In this case, the command is the `ls` Unix command which lists files in the current directory."
   ]
  },
  {
   "cell_type": "code",
   "execution_count": 4,
   "metadata": {},
   "outputs": [
    {
     "name": "stdout",
     "output_type": "stream",
     "text": [
      "data  data.zip\tds100_utils.py\tpics  proj1.ipynb  __pycache__\ttests\r\n"
     ]
    }
   ],
   "source": [
    "!ls "
   ]
  },
  {
   "cell_type": "markdown",
   "metadata": {},
   "source": [
    "## 1: Loading Food Safety Data\n",
    "\n",
    "We have data, but we don't have any specific questions about the data yet. Let's focus on understanding the structure of the data; this involves answering questions such as:\n",
    "\n",
    "* Is the data in a standard format or encoding?\n",
    "* Is the data organized in records?\n",
    "* What are the fields in each record?\n",
    "\n",
    "Let's start by looking at the contents of `data.zip`. It's not a just single file but rather a compressed directory of multiple files. We could inspect it by uncompressing it using a shell command such as `!unzip data.zip`, but in this project we're going to do almost everything in Python for maximum portability."
   ]
  },
  {
   "cell_type": "markdown",
   "metadata": {
    "deletable": false,
    "editable": false
   },
   "source": [
    "## Question 1a: Looking Inside and Extracting the Zip Files\n",
    "\n",
    "Assign `my_zip` to a `zipfile.Zipfile` object representing `data.zip`, and assign `list_names` to a list of all the names of the contents in `data.zip`.\n",
    "\n",
    "Hint: The [Python docs](https://docs.python.org/3/library/zipfile.html) describe how to create a `zipfile.ZipFile` object.\n",
    "\n",
    "<!--\n",
    "BEGIN QUESTION\n",
    "name: q1a\n",
    "points: 1\n",
    "-->"
   ]
  },
  {
   "cell_type": "code",
   "execution_count": 5,
   "metadata": {},
   "outputs": [
    {
     "data": {
      "text/plain": [
       "['data/',\n",
       " 'data/bus.csv',\n",
       " 'data/ins.csv',\n",
       " 'data/ins2vio.csv',\n",
       " 'data/vio.csv',\n",
       " 'data/sf_zipcodes.json',\n",
       " 'data/legend.csv']"
      ]
     },
     "execution_count": 5,
     "metadata": {},
     "output_type": "execute_result"
    }
   ],
   "source": [
    "from zipfile import ZipFile\n",
    "\n",
    "my_zip = zipfile.ZipFile(dest_path, mode='r')\n",
    "list_names = my_zip.namelist()\n",
    "list_names"
   ]
  },
  {
   "cell_type": "code",
   "execution_count": 6,
   "metadata": {
    "deletable": false,
    "editable": false
   },
   "outputs": [
    {
     "data": {
      "text/html": [
       "\n",
       "    \n",
       "    \n",
       "        <p>All tests passed!</p>\n",
       "    \n",
       "    "
      ],
      "text/plain": [
       "\n",
       "    All tests passed!\n",
       "    "
      ]
     },
     "execution_count": 6,
     "metadata": {},
     "output_type": "execute_result"
    }
   ],
   "source": [
    "grader.check(\"q1a\")"
   ]
  },
  {
   "cell_type": "markdown",
   "metadata": {},
   "source": [
    "In your answer above, if you have written something like `zipfile.ZipFile('data.zip', ...)`, we suggest changing it to read `zipfile.ZipFile(dest_path, ...)`. In general, we **strongly suggest having your filenames hard coded as string literals only once** in a notebook. It is very dangerous to hard code things twice because if you change one but forget to change the other, you can end up with bugs that are very hard to find."
   ]
  },
  {
   "cell_type": "markdown",
   "metadata": {},
   "source": [
    "Now display the files' names and their sizes. Format your solution by printing each file and its size on a new line.\n",
    "\n",
    "If you're not sure how to proceed, read about the attributes of a `ZipFile` object in the Python docs linked above."
   ]
  },
  {
   "cell_type": "code",
   "execution_count": 7,
   "metadata": {},
   "outputs": [
    {
     "name": "stdout",
     "output_type": "stream",
     "text": [
      "data/ 0\n",
      "data/bus.csv 665365\n",
      "data/ins.csv 1860919\n",
      "data/ins2vio.csv 1032799\n",
      "data/vio.csv 4213\n",
      "data/sf_zipcodes.json 474\n",
      "data/legend.csv 120\n"
     ]
    }
   ],
   "source": [
    "for file in my_zip.infolist():\n",
    "    print(file.filename, file.file_size)"
   ]
  },
  {
   "cell_type": "markdown",
   "metadata": {},
   "source": [
    "Often when working with zipped data, we'll never unzip the actual zipfile. This saves space on our local computer. However, for this project the files are small, so we're just going to unzip everything. This has the added benefit that you can look inside the csv files using a text editor, which might be handy for understanding the structure of the files. The cell below will unzip the csv files into a subdirectory called `data`. Simply run this cell, i.e. don't modify it."
   ]
  },
  {
   "cell_type": "code",
   "execution_count": 8,
   "metadata": {},
   "outputs": [
    {
     "name": "stdout",
     "output_type": "stream",
     "text": [
      "bus.csv  ins2vio.csv  ins.csv  legend.csv  sf_zipcodes.json  vio.csv\r\n"
     ]
    }
   ],
   "source": [
    "data_dir = Path('.')\n",
    "my_zip.extractall(data_dir)\n",
    "!ls {data_dir / Path(\"data\")}"
   ]
  },
  {
   "cell_type": "markdown",
   "metadata": {},
   "source": [
    "The cell above created a folder called `data`, and in it there should be five CSV files. Let's open up `legend.csv` to see its contents. To do this, click on 'Jupyter' in the top left, then navigate to `fa20/proj/proj1/data/` and click on `legend.csv`. The file will open up in another tab. You should see something that looks like:\n",
    "\n",
    "    \"Minimum_Score\",\"Maximum_Score\",\"Description\"\n",
    "    0,70,\"Poor\"\n",
    "    71,85,\"Needs Improvement\"\n",
    "    86,90,\"Adequate\"\n",
    "    91,100,\"Good\""
   ]
  },
  {
   "cell_type": "markdown",
   "metadata": {},
   "source": [
    "## Question 1b\n",
    "\n",
    "The `legend.csv` file does indeed look like a well-formed CSV file. Let's check the other three files. Rather than opening up each file manually, let's use Python to print out the first 5 lines of each. The `ds100_utils` library has a method called `head` that will allow you to retrieve the first N lines of a file as a list. For example `ds100_utils.head('data/legend.csv', 5)` will return the first 5 lines of \"data/legend.csv\". Try using this function to print out the first 5 lines of all six files that we just extracted from the zipfile."
   ]
  },
  {
   "cell_type": "code",
   "execution_count": 9,
   "metadata": {},
   "outputs": [
    {
     "name": "stdout",
     "output_type": "stream",
     "text": [
      "['\"business id column\",\"name\",\"address\",\"city\",\"state\",\"postal_code\",\"latitude\",\"longitude\",\"phone_number\"\\n', '\"1000\",\"HEUNG YUEN RESTAURANT\",\"3279 22nd St\",\"San Francisco\",\"CA\",\"94110\",\"37.755282\",\"-122.420493\",\"-9999\"\\n', '\"100010\",\"ILLY CAFFE SF_PIER 39\",\"PIER 39  K-106-B\",\"San Francisco\",\"CA\",\"94133\",\"-9999\",\"-9999\",\"+14154827284\"\\n', '\"100017\",\"AMICI\\'S EAST COAST PIZZERIA\",\"475 06th St\",\"San Francisco\",\"CA\",\"94103\",\"-9999\",\"-9999\",\"+14155279839\"\\n', '\"100026\",\"LOCAL CATERING\",\"1566 CARROLL AVE\",\"San Francisco\",\"CA\",\"94124\",\"-9999\",\"-9999\",\"+14155860315\"\\n']\n",
      "['\"iid\",\"vid\"\\n', '\"97975_20190725\",\"103124\"\\n', '\"85986_20161011\",\"103114\"\\n', '\"95754_20190327\",\"103124\"\\n', '\"77005_20170429\",\"103120\"\\n']\n",
      "['\"iid\",\"date\",\"score\",\"type\"\\n', '\"100010_20190329\",\"03/29/2019 12:00:00 AM\",\"-1\",\"New Construction\"\\n', '\"100010_20190403\",\"04/03/2019 12:00:00 AM\",\"100\",\"Routine - Unscheduled\"\\n', '\"100017_20190417\",\"04/17/2019 12:00:00 AM\",\"-1\",\"New Ownership\"\\n', '\"100017_20190816\",\"08/16/2019 12:00:00 AM\",\"91\",\"Routine - Unscheduled\"\\n']\n",
      "['\"Minimum_Score\",\"Maximum_Score\",\"Description\"\\n', '0,70,\"Poor\"\\n', '71,85,\"Needs Improvement\"\\n', '86,90,\"Adequate\"\\n', '91,100,\"Good\"\\n']\n",
      "['{\"zip_codes\": [\"94102\", \"94103\", \"94104\", \"94105\", \"94107\", \"94108\", \"94109\", \"94110\", \"94111\", \"94112\", \"94114\", \"94115\", \"94116\", \"94117\", \"94118\", \"94119\", \"94120\", \"94121\", \"94122\", \"94123\", \"94124\", \"94125\", \"94126\", \"94127\", \"94128\", \"94129\", \"94130\", \"94131\", \"94132\", \"94133\", \"94134\", \"94137\", \"94139\", \"94140\", \"94141\", \"94142\", \"94143\", \"94144\", \"94145\", \"94146\", \"94147\", \"94151\", \"94158\", \"94159\", \"94160\", \"94161\", \"94163\", \"94164\", \"94172\", \"94177\", \"94188\"]}']\n",
      "['\"description\",\"risk_category\",\"vid\"\\n', '\"Consumer advisory not provided for raw or undercooked foods\",\"Moderate Risk\",103128\\n', '\"Contaminated or adulterated food\",\"High Risk\",103108\\n', '\"Discharge from employee nose mouth or eye\",\"Moderate Risk\",103117\\n', '\"Employee eating or smoking\",\"Moderate Risk\",103118\\n']\n"
     ]
    }
   ],
   "source": [
    "import ds100_utils\n",
    "\n",
    "print(ds100_utils.head('data/bus.csv', 5))\n",
    "print(ds100_utils.head('data/ins2vio.csv', 5))\n",
    "print(ds100_utils.head('data/ins.csv', 5))\n",
    "print(ds100_utils.head('data/legend.csv', 5))\n",
    "print(ds100_utils.head('data/sf_zipcodes.json', 5))\n",
    "print(ds100_utils.head('data/vio.csv', 5))"
   ]
  },
  {
   "cell_type": "markdown",
   "metadata": {},
   "source": [
    "## Question 1c: Reading in the Files\n",
    "\n",
    "Based on the above information, let's attempt to load `bus.csv`, `ins2vio.csv`, `ins.csv`, and `vio.csv` into pandas dataframes with the following names: `bus`, `ins2vio`, `ins`, and `vio` respectively.\n",
    "\n",
    "*Note:* Because of character encoding issues one of the files (`bus`) will require an additional argument `encoding='ISO-8859-1'` when calling `pd.read_csv`. At some point in your future, you should read all about [character encodings](https://diveintopython3.problemsolving.io/strings.html). We won't discuss these in detail in DS100."
   ]
  },
  {
   "cell_type": "code",
   "execution_count": 10,
   "metadata": {},
   "outputs": [],
   "source": [
    "# path to directory containing data\n",
    "dsDir = Path('data')\n",
    "\n",
    "bus = pd.read_csv('data/bus.csv', encoding='ISO-8859-1')\n",
    "ins2vio = pd.read_csv('data/ins2vio.csv')\n",
    "ins = pd.read_csv('data/ins.csv')\n",
    "vio = pd.read_csv('data/vio.csv')\n",
    "\n",
    "\n",
    "#This code is essential for the autograder to function properly. Do not edit\n",
    "ins_test = ins"
   ]
  },
  {
   "cell_type": "markdown",
   "metadata": {},
   "source": [
    "Now that you've read in the files, let's try some `pd.DataFrame` methods ([docs](https://pandas.pydata.org/pandas-docs/version/0.21/generated/pandas.DataFrame.html)).\n",
    "Use the `DataFrame.head` method to show the top few lines of the `bus`, `ins`, and `vio` dataframes. To show multiple return outputs in one single cell, you can use `display()`. "
   ]
  },
  {
   "cell_type": "code",
   "execution_count": 11,
   "metadata": {},
   "outputs": [
    {
     "data": {
      "text/html": [
       "<div>\n",
       "<style scoped>\n",
       "    .dataframe tbody tr th:only-of-type {\n",
       "        vertical-align: middle;\n",
       "    }\n",
       "\n",
       "    .dataframe tbody tr th {\n",
       "        vertical-align: top;\n",
       "    }\n",
       "\n",
       "    .dataframe thead th {\n",
       "        text-align: right;\n",
       "    }\n",
       "</style>\n",
       "<table border=\"1\" class=\"dataframe\">\n",
       "  <thead>\n",
       "    <tr style=\"text-align: right;\">\n",
       "      <th></th>\n",
       "      <th>business id column</th>\n",
       "      <th>name</th>\n",
       "      <th>address</th>\n",
       "      <th>city</th>\n",
       "      <th>state</th>\n",
       "      <th>postal_code</th>\n",
       "      <th>latitude</th>\n",
       "      <th>longitude</th>\n",
       "      <th>phone_number</th>\n",
       "    </tr>\n",
       "  </thead>\n",
       "  <tbody>\n",
       "    <tr>\n",
       "      <th>0</th>\n",
       "      <td>1000</td>\n",
       "      <td>HEUNG YUEN RESTAURANT</td>\n",
       "      <td>3279 22nd St</td>\n",
       "      <td>San Francisco</td>\n",
       "      <td>CA</td>\n",
       "      <td>94110</td>\n",
       "      <td>37.755282</td>\n",
       "      <td>-122.420493</td>\n",
       "      <td>-9999</td>\n",
       "    </tr>\n",
       "    <tr>\n",
       "      <th>1</th>\n",
       "      <td>100010</td>\n",
       "      <td>ILLY CAFFE SF_PIER 39</td>\n",
       "      <td>PIER 39  K-106-B</td>\n",
       "      <td>San Francisco</td>\n",
       "      <td>CA</td>\n",
       "      <td>94133</td>\n",
       "      <td>-9999.000000</td>\n",
       "      <td>-9999.000000</td>\n",
       "      <td>14154827284</td>\n",
       "    </tr>\n",
       "    <tr>\n",
       "      <th>2</th>\n",
       "      <td>100017</td>\n",
       "      <td>AMICI'S EAST COAST PIZZERIA</td>\n",
       "      <td>475 06th St</td>\n",
       "      <td>San Francisco</td>\n",
       "      <td>CA</td>\n",
       "      <td>94103</td>\n",
       "      <td>-9999.000000</td>\n",
       "      <td>-9999.000000</td>\n",
       "      <td>14155279839</td>\n",
       "    </tr>\n",
       "    <tr>\n",
       "      <th>3</th>\n",
       "      <td>100026</td>\n",
       "      <td>LOCAL CATERING</td>\n",
       "      <td>1566 CARROLL AVE</td>\n",
       "      <td>San Francisco</td>\n",
       "      <td>CA</td>\n",
       "      <td>94124</td>\n",
       "      <td>-9999.000000</td>\n",
       "      <td>-9999.000000</td>\n",
       "      <td>14155860315</td>\n",
       "    </tr>\n",
       "    <tr>\n",
       "      <th>4</th>\n",
       "      <td>100030</td>\n",
       "      <td>OUI OUI! MACARON</td>\n",
       "      <td>2200 JERROLD AVE STE C</td>\n",
       "      <td>San Francisco</td>\n",
       "      <td>CA</td>\n",
       "      <td>94124</td>\n",
       "      <td>-9999.000000</td>\n",
       "      <td>-9999.000000</td>\n",
       "      <td>14159702675</td>\n",
       "    </tr>\n",
       "  </tbody>\n",
       "</table>\n",
       "</div>"
      ],
      "text/plain": [
       "   business id column                         name                 address  \\\n",
       "0                1000        HEUNG YUEN RESTAURANT            3279 22nd St   \n",
       "1              100010        ILLY CAFFE SF_PIER 39        PIER 39  K-106-B   \n",
       "2              100017  AMICI'S EAST COAST PIZZERIA             475 06th St   \n",
       "3              100026               LOCAL CATERING        1566 CARROLL AVE   \n",
       "4              100030             OUI OUI! MACARON  2200 JERROLD AVE STE C   \n",
       "\n",
       "            city state postal_code     latitude    longitude  phone_number  \n",
       "0  San Francisco    CA       94110    37.755282  -122.420493         -9999  \n",
       "1  San Francisco    CA       94133 -9999.000000 -9999.000000   14154827284  \n",
       "2  San Francisco    CA       94103 -9999.000000 -9999.000000   14155279839  \n",
       "3  San Francisco    CA       94124 -9999.000000 -9999.000000   14155860315  \n",
       "4  San Francisco    CA       94124 -9999.000000 -9999.000000   14159702675  "
      ]
     },
     "metadata": {},
     "output_type": "display_data"
    },
    {
     "data": {
      "text/html": [
       "<div>\n",
       "<style scoped>\n",
       "    .dataframe tbody tr th:only-of-type {\n",
       "        vertical-align: middle;\n",
       "    }\n",
       "\n",
       "    .dataframe tbody tr th {\n",
       "        vertical-align: top;\n",
       "    }\n",
       "\n",
       "    .dataframe thead th {\n",
       "        text-align: right;\n",
       "    }\n",
       "</style>\n",
       "<table border=\"1\" class=\"dataframe\">\n",
       "  <thead>\n",
       "    <tr style=\"text-align: right;\">\n",
       "      <th></th>\n",
       "      <th>iid</th>\n",
       "      <th>date</th>\n",
       "      <th>score</th>\n",
       "      <th>type</th>\n",
       "    </tr>\n",
       "  </thead>\n",
       "  <tbody>\n",
       "    <tr>\n",
       "      <th>0</th>\n",
       "      <td>100010_20190329</td>\n",
       "      <td>03/29/2019 12:00:00 AM</td>\n",
       "      <td>-1</td>\n",
       "      <td>New Construction</td>\n",
       "    </tr>\n",
       "    <tr>\n",
       "      <th>1</th>\n",
       "      <td>100010_20190403</td>\n",
       "      <td>04/03/2019 12:00:00 AM</td>\n",
       "      <td>100</td>\n",
       "      <td>Routine - Unscheduled</td>\n",
       "    </tr>\n",
       "    <tr>\n",
       "      <th>2</th>\n",
       "      <td>100017_20190417</td>\n",
       "      <td>04/17/2019 12:00:00 AM</td>\n",
       "      <td>-1</td>\n",
       "      <td>New Ownership</td>\n",
       "    </tr>\n",
       "    <tr>\n",
       "      <th>3</th>\n",
       "      <td>100017_20190816</td>\n",
       "      <td>08/16/2019 12:00:00 AM</td>\n",
       "      <td>91</td>\n",
       "      <td>Routine - Unscheduled</td>\n",
       "    </tr>\n",
       "    <tr>\n",
       "      <th>4</th>\n",
       "      <td>100017_20190826</td>\n",
       "      <td>08/26/2019 12:00:00 AM</td>\n",
       "      <td>-1</td>\n",
       "      <td>Reinspection/Followup</td>\n",
       "    </tr>\n",
       "  </tbody>\n",
       "</table>\n",
       "</div>"
      ],
      "text/plain": [
       "               iid                    date  score                   type\n",
       "0  100010_20190329  03/29/2019 12:00:00 AM     -1       New Construction\n",
       "1  100010_20190403  04/03/2019 12:00:00 AM    100  Routine - Unscheduled\n",
       "2  100017_20190417  04/17/2019 12:00:00 AM     -1          New Ownership\n",
       "3  100017_20190816  08/16/2019 12:00:00 AM     91  Routine - Unscheduled\n",
       "4  100017_20190826  08/26/2019 12:00:00 AM     -1  Reinspection/Followup"
      ]
     },
     "metadata": {},
     "output_type": "display_data"
    },
    {
     "data": {
      "text/html": [
       "<div>\n",
       "<style scoped>\n",
       "    .dataframe tbody tr th:only-of-type {\n",
       "        vertical-align: middle;\n",
       "    }\n",
       "\n",
       "    .dataframe tbody tr th {\n",
       "        vertical-align: top;\n",
       "    }\n",
       "\n",
       "    .dataframe thead th {\n",
       "        text-align: right;\n",
       "    }\n",
       "</style>\n",
       "<table border=\"1\" class=\"dataframe\">\n",
       "  <thead>\n",
       "    <tr style=\"text-align: right;\">\n",
       "      <th></th>\n",
       "      <th>description</th>\n",
       "      <th>risk_category</th>\n",
       "      <th>vid</th>\n",
       "    </tr>\n",
       "  </thead>\n",
       "  <tbody>\n",
       "    <tr>\n",
       "      <th>0</th>\n",
       "      <td>Consumer advisory not provided for raw or unde...</td>\n",
       "      <td>Moderate Risk</td>\n",
       "      <td>103128</td>\n",
       "    </tr>\n",
       "    <tr>\n",
       "      <th>1</th>\n",
       "      <td>Contaminated or adulterated food</td>\n",
       "      <td>High Risk</td>\n",
       "      <td>103108</td>\n",
       "    </tr>\n",
       "    <tr>\n",
       "      <th>2</th>\n",
       "      <td>Discharge from employee nose mouth or eye</td>\n",
       "      <td>Moderate Risk</td>\n",
       "      <td>103117</td>\n",
       "    </tr>\n",
       "    <tr>\n",
       "      <th>3</th>\n",
       "      <td>Employee eating or smoking</td>\n",
       "      <td>Moderate Risk</td>\n",
       "      <td>103118</td>\n",
       "    </tr>\n",
       "    <tr>\n",
       "      <th>4</th>\n",
       "      <td>Food in poor condition</td>\n",
       "      <td>Moderate Risk</td>\n",
       "      <td>103123</td>\n",
       "    </tr>\n",
       "  </tbody>\n",
       "</table>\n",
       "</div>"
      ],
      "text/plain": [
       "                                         description  risk_category     vid\n",
       "0  Consumer advisory not provided for raw or unde...  Moderate Risk  103128\n",
       "1                   Contaminated or adulterated food      High Risk  103108\n",
       "2          Discharge from employee nose mouth or eye  Moderate Risk  103117\n",
       "3                         Employee eating or smoking  Moderate Risk  103118\n",
       "4                             Food in poor condition  Moderate Risk  103123"
      ]
     },
     "metadata": {},
     "output_type": "display_data"
    }
   ],
   "source": [
    "a = bus.head()\n",
    "b = ins.head()\n",
    "c = vio.head()\n",
    "\n",
    "display(a,b,c)"
   ]
  },
  {
   "cell_type": "markdown",
   "metadata": {},
   "source": [
    "The `DataFrame.describe` method can also be handy for computing summaries of numeric columns of our dataframes. Try it out with each of our 4 dataframes."
   ]
  },
  {
   "cell_type": "code",
   "execution_count": 12,
   "metadata": {},
   "outputs": [
    {
     "data": {
      "text/html": [
       "<div>\n",
       "<style scoped>\n",
       "    .dataframe tbody tr th:only-of-type {\n",
       "        vertical-align: middle;\n",
       "    }\n",
       "\n",
       "    .dataframe tbody tr th {\n",
       "        vertical-align: top;\n",
       "    }\n",
       "\n",
       "    .dataframe thead th {\n",
       "        text-align: right;\n",
       "    }\n",
       "</style>\n",
       "<table border=\"1\" class=\"dataframe\">\n",
       "  <thead>\n",
       "    <tr style=\"text-align: right;\">\n",
       "      <th></th>\n",
       "      <th>business id column</th>\n",
       "      <th>latitude</th>\n",
       "      <th>longitude</th>\n",
       "      <th>phone_number</th>\n",
       "    </tr>\n",
       "  </thead>\n",
       "  <tbody>\n",
       "    <tr>\n",
       "      <th>count</th>\n",
       "      <td>6253.000000</td>\n",
       "      <td>6253.000000</td>\n",
       "      <td>6253.000000</td>\n",
       "      <td>6.253000e+03</td>\n",
       "    </tr>\n",
       "    <tr>\n",
       "      <th>mean</th>\n",
       "      <td>60448.948984</td>\n",
       "      <td>-5575.337966</td>\n",
       "      <td>-5645.817699</td>\n",
       "      <td>4.701819e+09</td>\n",
       "    </tr>\n",
       "    <tr>\n",
       "      <th>std</th>\n",
       "      <td>36480.132445</td>\n",
       "      <td>4983.390142</td>\n",
       "      <td>4903.993683</td>\n",
       "      <td>6.667508e+09</td>\n",
       "    </tr>\n",
       "    <tr>\n",
       "      <th>min</th>\n",
       "      <td>19.000000</td>\n",
       "      <td>-9999.000000</td>\n",
       "      <td>-9999.000000</td>\n",
       "      <td>-9.999000e+03</td>\n",
       "    </tr>\n",
       "    <tr>\n",
       "      <th>25%</th>\n",
       "      <td>18399.000000</td>\n",
       "      <td>-9999.000000</td>\n",
       "      <td>-9999.000000</td>\n",
       "      <td>-9.999000e+03</td>\n",
       "    </tr>\n",
       "    <tr>\n",
       "      <th>50%</th>\n",
       "      <td>75685.000000</td>\n",
       "      <td>-9999.000000</td>\n",
       "      <td>-9999.000000</td>\n",
       "      <td>-9.999000e+03</td>\n",
       "    </tr>\n",
       "    <tr>\n",
       "      <th>75%</th>\n",
       "      <td>90886.000000</td>\n",
       "      <td>37.776494</td>\n",
       "      <td>-122.421553</td>\n",
       "      <td>1.415533e+10</td>\n",
       "    </tr>\n",
       "    <tr>\n",
       "      <th>max</th>\n",
       "      <td>102705.000000</td>\n",
       "      <td>37.824494</td>\n",
       "      <td>0.000000</td>\n",
       "      <td>1.415988e+10</td>\n",
       "    </tr>\n",
       "  </tbody>\n",
       "</table>\n",
       "</div>"
      ],
      "text/plain": [
       "       business id column     latitude    longitude  phone_number\n",
       "count         6253.000000  6253.000000  6253.000000  6.253000e+03\n",
       "mean         60448.948984 -5575.337966 -5645.817699  4.701819e+09\n",
       "std          36480.132445  4983.390142  4903.993683  6.667508e+09\n",
       "min             19.000000 -9999.000000 -9999.000000 -9.999000e+03\n",
       "25%          18399.000000 -9999.000000 -9999.000000 -9.999000e+03\n",
       "50%          75685.000000 -9999.000000 -9999.000000 -9.999000e+03\n",
       "75%          90886.000000    37.776494  -122.421553  1.415533e+10\n",
       "max         102705.000000    37.824494     0.000000  1.415988e+10"
      ]
     },
     "metadata": {},
     "output_type": "display_data"
    },
    {
     "data": {
      "text/html": [
       "<div>\n",
       "<style scoped>\n",
       "    .dataframe tbody tr th:only-of-type {\n",
       "        vertical-align: middle;\n",
       "    }\n",
       "\n",
       "    .dataframe tbody tr th {\n",
       "        vertical-align: top;\n",
       "    }\n",
       "\n",
       "    .dataframe thead th {\n",
       "        text-align: right;\n",
       "    }\n",
       "</style>\n",
       "<table border=\"1\" class=\"dataframe\">\n",
       "  <thead>\n",
       "    <tr style=\"text-align: right;\">\n",
       "      <th></th>\n",
       "      <th>vid</th>\n",
       "    </tr>\n",
       "  </thead>\n",
       "  <tbody>\n",
       "    <tr>\n",
       "      <th>count</th>\n",
       "      <td>40210.000000</td>\n",
       "    </tr>\n",
       "    <tr>\n",
       "      <th>mean</th>\n",
       "      <td>103133.603357</td>\n",
       "    </tr>\n",
       "    <tr>\n",
       "      <th>std</th>\n",
       "      <td>16.863080</td>\n",
       "    </tr>\n",
       "    <tr>\n",
       "      <th>min</th>\n",
       "      <td>103102.000000</td>\n",
       "    </tr>\n",
       "    <tr>\n",
       "      <th>25%</th>\n",
       "      <td>103120.000000</td>\n",
       "    </tr>\n",
       "    <tr>\n",
       "      <th>50%</th>\n",
       "      <td>103133.000000</td>\n",
       "    </tr>\n",
       "    <tr>\n",
       "      <th>75%</th>\n",
       "      <td>103149.000000</td>\n",
       "    </tr>\n",
       "    <tr>\n",
       "      <th>max</th>\n",
       "      <td>103177.000000</td>\n",
       "    </tr>\n",
       "  </tbody>\n",
       "</table>\n",
       "</div>"
      ],
      "text/plain": [
       "                 vid\n",
       "count   40210.000000\n",
       "mean   103133.603357\n",
       "std        16.863080\n",
       "min    103102.000000\n",
       "25%    103120.000000\n",
       "50%    103133.000000\n",
       "75%    103149.000000\n",
       "max    103177.000000"
      ]
     },
     "metadata": {},
     "output_type": "display_data"
    },
    {
     "data": {
      "text/html": [
       "<div>\n",
       "<style scoped>\n",
       "    .dataframe tbody tr th:only-of-type {\n",
       "        vertical-align: middle;\n",
       "    }\n",
       "\n",
       "    .dataframe tbody tr th {\n",
       "        vertical-align: top;\n",
       "    }\n",
       "\n",
       "    .dataframe thead th {\n",
       "        text-align: right;\n",
       "    }\n",
       "</style>\n",
       "<table border=\"1\" class=\"dataframe\">\n",
       "  <thead>\n",
       "    <tr style=\"text-align: right;\">\n",
       "      <th></th>\n",
       "      <th>score</th>\n",
       "    </tr>\n",
       "  </thead>\n",
       "  <tbody>\n",
       "    <tr>\n",
       "      <th>count</th>\n",
       "      <td>26663.000000</td>\n",
       "    </tr>\n",
       "    <tr>\n",
       "      <th>mean</th>\n",
       "      <td>47.227694</td>\n",
       "    </tr>\n",
       "    <tr>\n",
       "      <th>std</th>\n",
       "      <td>46.094369</td>\n",
       "    </tr>\n",
       "    <tr>\n",
       "      <th>min</th>\n",
       "      <td>-1.000000</td>\n",
       "    </tr>\n",
       "    <tr>\n",
       "      <th>25%</th>\n",
       "      <td>-1.000000</td>\n",
       "    </tr>\n",
       "    <tr>\n",
       "      <th>50%</th>\n",
       "      <td>76.000000</td>\n",
       "    </tr>\n",
       "    <tr>\n",
       "      <th>75%</th>\n",
       "      <td>92.000000</td>\n",
       "    </tr>\n",
       "    <tr>\n",
       "      <th>max</th>\n",
       "      <td>100.000000</td>\n",
       "    </tr>\n",
       "  </tbody>\n",
       "</table>\n",
       "</div>"
      ],
      "text/plain": [
       "              score\n",
       "count  26663.000000\n",
       "mean      47.227694\n",
       "std       46.094369\n",
       "min       -1.000000\n",
       "25%       -1.000000\n",
       "50%       76.000000\n",
       "75%       92.000000\n",
       "max      100.000000"
      ]
     },
     "metadata": {},
     "output_type": "display_data"
    },
    {
     "data": {
      "text/html": [
       "<div>\n",
       "<style scoped>\n",
       "    .dataframe tbody tr th:only-of-type {\n",
       "        vertical-align: middle;\n",
       "    }\n",
       "\n",
       "    .dataframe tbody tr th {\n",
       "        vertical-align: top;\n",
       "    }\n",
       "\n",
       "    .dataframe thead th {\n",
       "        text-align: right;\n",
       "    }\n",
       "</style>\n",
       "<table border=\"1\" class=\"dataframe\">\n",
       "  <thead>\n",
       "    <tr style=\"text-align: right;\">\n",
       "      <th></th>\n",
       "      <th>vid</th>\n",
       "    </tr>\n",
       "  </thead>\n",
       "  <tbody>\n",
       "    <tr>\n",
       "      <th>count</th>\n",
       "      <td>65.000000</td>\n",
       "    </tr>\n",
       "    <tr>\n",
       "      <th>mean</th>\n",
       "      <td>103136.276923</td>\n",
       "    </tr>\n",
       "    <tr>\n",
       "      <th>std</th>\n",
       "      <td>21.001866</td>\n",
       "    </tr>\n",
       "    <tr>\n",
       "      <th>min</th>\n",
       "      <td>103102.000000</td>\n",
       "    </tr>\n",
       "    <tr>\n",
       "      <th>25%</th>\n",
       "      <td>103119.000000</td>\n",
       "    </tr>\n",
       "    <tr>\n",
       "      <th>50%</th>\n",
       "      <td>103135.000000</td>\n",
       "    </tr>\n",
       "    <tr>\n",
       "      <th>75%</th>\n",
       "      <td>103153.000000</td>\n",
       "    </tr>\n",
       "    <tr>\n",
       "      <th>max</th>\n",
       "      <td>103177.000000</td>\n",
       "    </tr>\n",
       "  </tbody>\n",
       "</table>\n",
       "</div>"
      ],
      "text/plain": [
       "                 vid\n",
       "count      65.000000\n",
       "mean   103136.276923\n",
       "std        21.001866\n",
       "min    103102.000000\n",
       "25%    103119.000000\n",
       "50%    103135.000000\n",
       "75%    103153.000000\n",
       "max    103177.000000"
      ]
     },
     "metadata": {},
     "output_type": "display_data"
    }
   ],
   "source": [
    "a_1 = bus.describe()\n",
    "b_1 = ins2vio.describe()\n",
    "c_1 = ins.describe()\n",
    "d_1 = vio.describe()\n",
    "\n",
    "display(a_1, b_1, c_1, d_1)"
   ]
  },
  {
   "cell_type": "markdown",
   "metadata": {},
   "source": [
    "Now, we perform some sanity checks for you to verify that you loaded the data with the right structure. Run the following cells to load some basic utilities (you do not need to change these at all):"
   ]
  },
  {
   "cell_type": "markdown",
   "metadata": {},
   "source": [
    "First, we check the basic structure of the data frames you created:"
   ]
  },
  {
   "cell_type": "code",
   "execution_count": 13,
   "metadata": {},
   "outputs": [],
   "source": [
    "assert all(bus.columns == ['business id column', 'name', 'address', 'city', 'state', 'postal_code',\n",
    "                           'latitude', 'longitude', 'phone_number'])\n",
    "assert 6250 <= len(bus) <= 6260\n",
    "\n",
    "assert all(ins.columns == ['iid', 'date', 'score', 'type'])\n",
    "assert 26660 <= len(ins) <= 26670\n",
    "\n",
    "assert all(vio.columns == ['description', 'risk_category', 'vid'])\n",
    "assert 60 <= len(vio) <= 65\n",
    "\n",
    "assert all(ins2vio.columns == ['iid', 'vid'])\n",
    "assert 40210 <= len(ins2vio) <= 40220"
   ]
  },
  {
   "cell_type": "markdown",
   "metadata": {},
   "source": [
    "Next we'll check that the statistics match what we expect. The following are hard-coded statistical summaries of the correct data."
   ]
  },
  {
   "cell_type": "code",
   "execution_count": 14,
   "metadata": {},
   "outputs": [
    {
     "name": "stdout",
     "output_type": "stream",
     "text": [
      "What we expect from your Businesses dataframe:\n"
     ]
    },
    {
     "data": {
      "text/html": [
       "<div>\n",
       "<style scoped>\n",
       "    .dataframe tbody tr th:only-of-type {\n",
       "        vertical-align: middle;\n",
       "    }\n",
       "\n",
       "    .dataframe tbody tr th {\n",
       "        vertical-align: top;\n",
       "    }\n",
       "\n",
       "    .dataframe thead th {\n",
       "        text-align: right;\n",
       "    }\n",
       "</style>\n",
       "<table border=\"1\" class=\"dataframe\">\n",
       "  <thead>\n",
       "    <tr style=\"text-align: right;\">\n",
       "      <th></th>\n",
       "      <th>business id column</th>\n",
       "      <th>latitude</th>\n",
       "      <th>longitude</th>\n",
       "    </tr>\n",
       "  </thead>\n",
       "  <tbody>\n",
       "    <tr>\n",
       "      <th>min</th>\n",
       "      <td>19.0</td>\n",
       "      <td>-9999.000000</td>\n",
       "      <td>-9999.0</td>\n",
       "    </tr>\n",
       "    <tr>\n",
       "      <th>50%</th>\n",
       "      <td>75685.0</td>\n",
       "      <td>-9999.000000</td>\n",
       "      <td>-9999.0</td>\n",
       "    </tr>\n",
       "    <tr>\n",
       "      <th>max</th>\n",
       "      <td>102705.0</td>\n",
       "      <td>37.824494</td>\n",
       "      <td>0.0</td>\n",
       "    </tr>\n",
       "  </tbody>\n",
       "</table>\n",
       "</div>"
      ],
      "text/plain": [
       "     business id column     latitude  longitude\n",
       "min                19.0 -9999.000000    -9999.0\n",
       "50%             75685.0 -9999.000000    -9999.0\n",
       "max            102705.0    37.824494        0.0"
      ]
     },
     "metadata": {},
     "output_type": "display_data"
    },
    {
     "name": "stdout",
     "output_type": "stream",
     "text": [
      "What we expect from your Inspections dataframe:\n"
     ]
    },
    {
     "data": {
      "text/html": [
       "<div>\n",
       "<style scoped>\n",
       "    .dataframe tbody tr th:only-of-type {\n",
       "        vertical-align: middle;\n",
       "    }\n",
       "\n",
       "    .dataframe tbody tr th {\n",
       "        vertical-align: top;\n",
       "    }\n",
       "\n",
       "    .dataframe thead th {\n",
       "        text-align: right;\n",
       "    }\n",
       "</style>\n",
       "<table border=\"1\" class=\"dataframe\">\n",
       "  <thead>\n",
       "    <tr style=\"text-align: right;\">\n",
       "      <th></th>\n",
       "      <th>score</th>\n",
       "    </tr>\n",
       "  </thead>\n",
       "  <tbody>\n",
       "    <tr>\n",
       "      <th>min</th>\n",
       "      <td>-1.0</td>\n",
       "    </tr>\n",
       "    <tr>\n",
       "      <th>50%</th>\n",
       "      <td>76.0</td>\n",
       "    </tr>\n",
       "    <tr>\n",
       "      <th>max</th>\n",
       "      <td>100.0</td>\n",
       "    </tr>\n",
       "  </tbody>\n",
       "</table>\n",
       "</div>"
      ],
      "text/plain": [
       "     score\n",
       "min   -1.0\n",
       "50%   76.0\n",
       "max  100.0"
      ]
     },
     "metadata": {},
     "output_type": "display_data"
    },
    {
     "name": "stdout",
     "output_type": "stream",
     "text": [
      "What we expect from your Violations dataframe:\n"
     ]
    },
    {
     "data": {
      "text/html": [
       "<div>\n",
       "<style scoped>\n",
       "    .dataframe tbody tr th:only-of-type {\n",
       "        vertical-align: middle;\n",
       "    }\n",
       "\n",
       "    .dataframe tbody tr th {\n",
       "        vertical-align: top;\n",
       "    }\n",
       "\n",
       "    .dataframe thead th {\n",
       "        text-align: right;\n",
       "    }\n",
       "</style>\n",
       "<table border=\"1\" class=\"dataframe\">\n",
       "  <thead>\n",
       "    <tr style=\"text-align: right;\">\n",
       "      <th></th>\n",
       "      <th>vid</th>\n",
       "    </tr>\n",
       "  </thead>\n",
       "  <tbody>\n",
       "    <tr>\n",
       "      <th>min</th>\n",
       "      <td>103102.0</td>\n",
       "    </tr>\n",
       "    <tr>\n",
       "      <th>50%</th>\n",
       "      <td>103135.0</td>\n",
       "    </tr>\n",
       "    <tr>\n",
       "      <th>max</th>\n",
       "      <td>103177.0</td>\n",
       "    </tr>\n",
       "  </tbody>\n",
       "</table>\n",
       "</div>"
      ],
      "text/plain": [
       "          vid\n",
       "min  103102.0\n",
       "50%  103135.0\n",
       "max  103177.0"
      ]
     },
     "metadata": {},
     "output_type": "display_data"
    }
   ],
   "source": [
    "bus_summary = pd.DataFrame(**{'columns': ['business id column', 'latitude', 'longitude'],\n",
    " 'data': {'business id column': {'50%': 75685.0, 'max': 102705.0, 'min': 19.0},\n",
    "  'latitude': {'50%': -9999.0, 'max': 37.824494, 'min': -9999.0},\n",
    "  'longitude': {'50%': -9999.0,\n",
    "   'max': 0.0,\n",
    "   'min': -9999.0}},\n",
    " 'index': ['min', '50%', 'max']})\n",
    "\n",
    "ins_summary = pd.DataFrame(**{'columns': ['score'],\n",
    " 'data': {'score': {'50%': 76.0, 'max': 100.0, 'min': -1.0}},\n",
    " 'index': ['min', '50%', 'max']})\n",
    "\n",
    "vio_summary = pd.DataFrame(**{'columns': ['vid'],\n",
    " 'data': {'vid': {'50%': 103135.0, 'max': 103177.0, 'min': 103102.0}},\n",
    " 'index': ['min', '50%', 'max']})\n",
    "\n",
    "from IPython.display import display\n",
    "\n",
    "print('What we expect from your Businesses dataframe:')\n",
    "display(bus_summary)\n",
    "print('What we expect from your Inspections dataframe:')\n",
    "display(ins_summary)\n",
    "print('What we expect from your Violations dataframe:')\n",
    "display(vio_summary)"
   ]
  },
  {
   "cell_type": "markdown",
   "metadata": {},
   "source": [
    "The code below defines a testing function that we'll use to verify that your data has the same statistics as what we expect. Run these cells to define the function. The `df_allclose` function has this name because we are verifying that all of the statistics for your dataframe are close to the expected values. Why not `df_allequal`? It's a bad idea in almost all cases to compare two floating point values like 37.780435, as rounding error can cause spurious failures."
   ]
  },
  {
   "cell_type": "markdown",
   "metadata": {
    "deletable": false,
    "editable": false
   },
   "source": [
    "## Question 1d: Verifying the data\n",
    "\n",
    "Now let's run the automated tests. If your dataframes are correct, then the following cell will seem to do nothing, which is a good thing! However, if your variables don't match the correct answers in the main summary statistics shown above, an exception will be raised.\n",
    "\n",
    "<!--\n",
    "BEGIN QUESTION\n",
    "name: q1d\n",
    "points: 3\n",
    "-->"
   ]
  },
  {
   "cell_type": "code",
   "execution_count": 15,
   "metadata": {},
   "outputs": [],
   "source": [
    "\"\"\"Run this cell to load this utility comparison function that we will use in various\n",
    "tests below (both tests you can see and those we run internally for grading).\n",
    "\n",
    "Do not modify the function in any way.\n",
    "\"\"\"\n",
    "\n",
    "\n",
    "def df_allclose(actual, desired, columns=None, rtol=5e-2):\n",
    "    \"\"\"Compare selected columns of two dataframes on a few summary statistics.\n",
    "    \n",
    "    Compute the min, median and max of the two dataframes on the given columns, and compare\n",
    "    that they match numerically to the given relative tolerance.\n",
    "    \n",
    "    If they don't match, an AssertionError is raised (by `numpy.testing`).\n",
    "    \"\"\"    \n",
    "    # summary statistics to compare on\n",
    "    stats = ['min', '50%', 'max']\n",
    "    \n",
    "    # For the desired values, we can provide a full DF with the same structure as\n",
    "    # the actual data, or pre-computed summary statistics.\n",
    "    # We assume a pre-computed summary was provided if columns is None. In that case, \n",
    "    # `desired` *must* have the same structure as the actual's summary\n",
    "    if columns is None:\n",
    "        des = desired\n",
    "        columns = desired.columns\n",
    "    else:\n",
    "        des = desired[columns].describe().loc[stats]\n",
    "\n",
    "    # Extract summary stats from actual DF\n",
    "    act = actual[columns].describe().loc[stats]\n",
    "\n",
    "    return np.allclose(act, des, rtol)"
   ]
  },
  {
   "cell_type": "code",
   "execution_count": 16,
   "metadata": {
    "deletable": false,
    "editable": false
   },
   "outputs": [
    {
     "data": {
      "text/html": [
       "\n",
       "    \n",
       "    \n",
       "        <p>All tests passed!</p>\n",
       "    \n",
       "    "
      ],
      "text/plain": [
       "\n",
       "    All tests passed!\n",
       "    "
      ]
     },
     "execution_count": 16,
     "metadata": {},
     "output_type": "execute_result"
    }
   ],
   "source": [
    "grader.check(\"q1d\")"
   ]
  },
  {
   "cell_type": "markdown",
   "metadata": {},
   "source": [
    "### Question 1e: Identifying Issues with the Data"
   ]
  },
  {
   "cell_type": "markdown",
   "metadata": {
    "deletable": false,
    "editable": false
   },
   "source": [
    "<!-- BEGIN QUESTION -->\n",
    "\n",
    "Use the `head` command on your three files again. This time, describe at least one potential problem with the data you see. Consider issues with missing values and bad data.\n",
    "\n",
    "<!--\n",
    "BEGIN QUESTION\n",
    "name: q1e\n",
    "manual: True\n",
    "points: 1\n",
    "-->"
   ]
  },
  {
   "cell_type": "markdown",
   "metadata": {},
   "source": [
    "_Type your answer here, replacing this text._"
   ]
  },
  {
   "cell_type": "markdown",
   "metadata": {},
   "source": [
    "<!-- END QUESTION -->\n",
    "\n",
    "\n",
    "\n",
    "We will explore each file in turn, including determining its granularity and primary keys and exploring many of the variables individually. Let's begin with the businesses file, which has been read into the `bus` dataframe."
   ]
  },
  {
   "cell_type": "markdown",
   "metadata": {
    "nbgrader": {
     "grade": false,
     "grade_id": "business-data",
     "locked": true,
     "schema_version": 2,
     "solution": false
    }
   },
   "source": [
    "<br/><br/><br/>\n",
    "\n",
    "---\n",
    "\n",
    "<br/><br/><br/>\n",
    "\n",
    "# 2: Examining the Business Data File\n",
    "\n",
    "From its name alone, we expect the `bus.csv` file to contain information about the restaurants. Let's investigate the granularity of this dataset."
   ]
  },
  {
   "cell_type": "code",
   "execution_count": 17,
   "metadata": {},
   "outputs": [
    {
     "data": {
      "text/html": [
       "<div>\n",
       "<style scoped>\n",
       "    .dataframe tbody tr th:only-of-type {\n",
       "        vertical-align: middle;\n",
       "    }\n",
       "\n",
       "    .dataframe tbody tr th {\n",
       "        vertical-align: top;\n",
       "    }\n",
       "\n",
       "    .dataframe thead th {\n",
       "        text-align: right;\n",
       "    }\n",
       "</style>\n",
       "<table border=\"1\" class=\"dataframe\">\n",
       "  <thead>\n",
       "    <tr style=\"text-align: right;\">\n",
       "      <th></th>\n",
       "      <th>business id column</th>\n",
       "      <th>name</th>\n",
       "      <th>address</th>\n",
       "      <th>city</th>\n",
       "      <th>state</th>\n",
       "      <th>postal_code</th>\n",
       "      <th>latitude</th>\n",
       "      <th>longitude</th>\n",
       "      <th>phone_number</th>\n",
       "    </tr>\n",
       "  </thead>\n",
       "  <tbody>\n",
       "    <tr>\n",
       "      <th>0</th>\n",
       "      <td>1000</td>\n",
       "      <td>HEUNG YUEN RESTAURANT</td>\n",
       "      <td>3279 22nd St</td>\n",
       "      <td>San Francisco</td>\n",
       "      <td>CA</td>\n",
       "      <td>94110</td>\n",
       "      <td>37.755282</td>\n",
       "      <td>-122.420493</td>\n",
       "      <td>-9999</td>\n",
       "    </tr>\n",
       "    <tr>\n",
       "      <th>1</th>\n",
       "      <td>100010</td>\n",
       "      <td>ILLY CAFFE SF_PIER 39</td>\n",
       "      <td>PIER 39  K-106-B</td>\n",
       "      <td>San Francisco</td>\n",
       "      <td>CA</td>\n",
       "      <td>94133</td>\n",
       "      <td>-9999.000000</td>\n",
       "      <td>-9999.000000</td>\n",
       "      <td>14154827284</td>\n",
       "    </tr>\n",
       "    <tr>\n",
       "      <th>2</th>\n",
       "      <td>100017</td>\n",
       "      <td>AMICI'S EAST COAST PIZZERIA</td>\n",
       "      <td>475 06th St</td>\n",
       "      <td>San Francisco</td>\n",
       "      <td>CA</td>\n",
       "      <td>94103</td>\n",
       "      <td>-9999.000000</td>\n",
       "      <td>-9999.000000</td>\n",
       "      <td>14155279839</td>\n",
       "    </tr>\n",
       "    <tr>\n",
       "      <th>3</th>\n",
       "      <td>100026</td>\n",
       "      <td>LOCAL CATERING</td>\n",
       "      <td>1566 CARROLL AVE</td>\n",
       "      <td>San Francisco</td>\n",
       "      <td>CA</td>\n",
       "      <td>94124</td>\n",
       "      <td>-9999.000000</td>\n",
       "      <td>-9999.000000</td>\n",
       "      <td>14155860315</td>\n",
       "    </tr>\n",
       "    <tr>\n",
       "      <th>4</th>\n",
       "      <td>100030</td>\n",
       "      <td>OUI OUI! MACARON</td>\n",
       "      <td>2200 JERROLD AVE STE C</td>\n",
       "      <td>San Francisco</td>\n",
       "      <td>CA</td>\n",
       "      <td>94124</td>\n",
       "      <td>-9999.000000</td>\n",
       "      <td>-9999.000000</td>\n",
       "      <td>14159702675</td>\n",
       "    </tr>\n",
       "  </tbody>\n",
       "</table>\n",
       "</div>"
      ],
      "text/plain": [
       "   business id column                         name                 address  \\\n",
       "0                1000        HEUNG YUEN RESTAURANT            3279 22nd St   \n",
       "1              100010        ILLY CAFFE SF_PIER 39        PIER 39  K-106-B   \n",
       "2              100017  AMICI'S EAST COAST PIZZERIA             475 06th St   \n",
       "3              100026               LOCAL CATERING        1566 CARROLL AVE   \n",
       "4              100030             OUI OUI! MACARON  2200 JERROLD AVE STE C   \n",
       "\n",
       "            city state postal_code     latitude    longitude  phone_number  \n",
       "0  San Francisco    CA       94110    37.755282  -122.420493         -9999  \n",
       "1  San Francisco    CA       94133 -9999.000000 -9999.000000   14154827284  \n",
       "2  San Francisco    CA       94103 -9999.000000 -9999.000000   14155279839  \n",
       "3  San Francisco    CA       94124 -9999.000000 -9999.000000   14155860315  \n",
       "4  San Francisco    CA       94124 -9999.000000 -9999.000000   14159702675  "
      ]
     },
     "execution_count": 17,
     "metadata": {},
     "output_type": "execute_result"
    }
   ],
   "source": [
    "bus.head()"
   ]
  },
  {
   "cell_type": "markdown",
   "metadata": {
    "deletable": false,
    "editable": false
   },
   "source": [
    "<br/><br/><br/>\n",
    "\n",
    "---\n",
    "\n",
    "## Question 2a\n",
    "\n",
    "The `bus` dataframe contains a column called `business id column` which probably corresponds to a unique business id.  However, let's first rename that column to `bid`.  Modify the `bus` dataframe by renaming that column to `bid`.\n",
    "\n",
    "**Note**: In practice we might want to do this renaming when the table is loaded but for grading purposes we will do it here.\n",
    "\n",
    "<!--\n",
    "BEGIN QUESTION\n",
    "name: q2a\n",
    "points: 1\n",
    "-->"
   ]
  },
  {
   "cell_type": "code",
   "execution_count": 18,
   "metadata": {},
   "outputs": [
    {
     "data": {
      "text/html": [
       "<div>\n",
       "<style scoped>\n",
       "    .dataframe tbody tr th:only-of-type {\n",
       "        vertical-align: middle;\n",
       "    }\n",
       "\n",
       "    .dataframe tbody tr th {\n",
       "        vertical-align: top;\n",
       "    }\n",
       "\n",
       "    .dataframe thead th {\n",
       "        text-align: right;\n",
       "    }\n",
       "</style>\n",
       "<table border=\"1\" class=\"dataframe\">\n",
       "  <thead>\n",
       "    <tr style=\"text-align: right;\">\n",
       "      <th></th>\n",
       "      <th>bid</th>\n",
       "      <th>name</th>\n",
       "      <th>address</th>\n",
       "      <th>city</th>\n",
       "      <th>state</th>\n",
       "      <th>postal_code</th>\n",
       "      <th>latitude</th>\n",
       "      <th>longitude</th>\n",
       "      <th>phone_number</th>\n",
       "    </tr>\n",
       "  </thead>\n",
       "  <tbody>\n",
       "    <tr>\n",
       "      <th>0</th>\n",
       "      <td>1000</td>\n",
       "      <td>HEUNG YUEN RESTAURANT</td>\n",
       "      <td>3279 22nd St</td>\n",
       "      <td>San Francisco</td>\n",
       "      <td>CA</td>\n",
       "      <td>94110</td>\n",
       "      <td>37.755282</td>\n",
       "      <td>-122.420493</td>\n",
       "      <td>-9999</td>\n",
       "    </tr>\n",
       "    <tr>\n",
       "      <th>1</th>\n",
       "      <td>100010</td>\n",
       "      <td>ILLY CAFFE SF_PIER 39</td>\n",
       "      <td>PIER 39  K-106-B</td>\n",
       "      <td>San Francisco</td>\n",
       "      <td>CA</td>\n",
       "      <td>94133</td>\n",
       "      <td>-9999.000000</td>\n",
       "      <td>-9999.000000</td>\n",
       "      <td>14154827284</td>\n",
       "    </tr>\n",
       "    <tr>\n",
       "      <th>2</th>\n",
       "      <td>100017</td>\n",
       "      <td>AMICI'S EAST COAST PIZZERIA</td>\n",
       "      <td>475 06th St</td>\n",
       "      <td>San Francisco</td>\n",
       "      <td>CA</td>\n",
       "      <td>94103</td>\n",
       "      <td>-9999.000000</td>\n",
       "      <td>-9999.000000</td>\n",
       "      <td>14155279839</td>\n",
       "    </tr>\n",
       "    <tr>\n",
       "      <th>3</th>\n",
       "      <td>100026</td>\n",
       "      <td>LOCAL CATERING</td>\n",
       "      <td>1566 CARROLL AVE</td>\n",
       "      <td>San Francisco</td>\n",
       "      <td>CA</td>\n",
       "      <td>94124</td>\n",
       "      <td>-9999.000000</td>\n",
       "      <td>-9999.000000</td>\n",
       "      <td>14155860315</td>\n",
       "    </tr>\n",
       "    <tr>\n",
       "      <th>4</th>\n",
       "      <td>100030</td>\n",
       "      <td>OUI OUI! MACARON</td>\n",
       "      <td>2200 JERROLD AVE STE C</td>\n",
       "      <td>San Francisco</td>\n",
       "      <td>CA</td>\n",
       "      <td>94124</td>\n",
       "      <td>-9999.000000</td>\n",
       "      <td>-9999.000000</td>\n",
       "      <td>14159702675</td>\n",
       "    </tr>\n",
       "  </tbody>\n",
       "</table>\n",
       "</div>"
      ],
      "text/plain": [
       "      bid                         name                 address           city  \\\n",
       "0    1000        HEUNG YUEN RESTAURANT            3279 22nd St  San Francisco   \n",
       "1  100010        ILLY CAFFE SF_PIER 39        PIER 39  K-106-B  San Francisco   \n",
       "2  100017  AMICI'S EAST COAST PIZZERIA             475 06th St  San Francisco   \n",
       "3  100026               LOCAL CATERING        1566 CARROLL AVE  San Francisco   \n",
       "4  100030             OUI OUI! MACARON  2200 JERROLD AVE STE C  San Francisco   \n",
       "\n",
       "  state postal_code     latitude    longitude  phone_number  \n",
       "0    CA       94110    37.755282  -122.420493         -9999  \n",
       "1    CA       94133 -9999.000000 -9999.000000   14154827284  \n",
       "2    CA       94103 -9999.000000 -9999.000000   14155279839  \n",
       "3    CA       94124 -9999.000000 -9999.000000   14155860315  \n",
       "4    CA       94124 -9999.000000 -9999.000000   14159702675  "
      ]
     },
     "execution_count": 18,
     "metadata": {},
     "output_type": "execute_result"
    }
   ],
   "source": [
    "bus = bus.rename(columns = {'business id column': 'bid'})\n",
    "bus.head()"
   ]
  },
  {
   "cell_type": "code",
   "execution_count": 19,
   "metadata": {
    "deletable": false,
    "editable": false
   },
   "outputs": [
    {
     "data": {
      "text/html": [
       "\n",
       "    \n",
       "    \n",
       "        <p>All tests passed!</p>\n",
       "    \n",
       "    "
      ],
      "text/plain": [
       "\n",
       "    All tests passed!\n",
       "    "
      ]
     },
     "execution_count": 19,
     "metadata": {},
     "output_type": "execute_result"
    }
   ],
   "source": [
    "grader.check(\"q2a\")"
   ]
  },
  {
   "cell_type": "markdown",
   "metadata": {
    "deletable": false,
    "editable": false,
    "nbgrader": {
     "grade": false,
     "grade_id": "q2a",
     "locked": true,
     "schema_version": 2,
     "solution": false
    }
   },
   "source": [
    "<br/><br/><br/>\n",
    "\n",
    "---\n",
    "\n",
    "## Question 2b\n",
    "\n",
    "Examining the entries in `bus`, is the `bid` unique for each record (i.e. each row of data)? Your code should compute the answer, i.e. don't just hard code `True` or `False`.\n",
    "\n",
    "Hint: use `value_counts()` or `unique()` to determine if the `bid` series has any duplicates.\n",
    "\n",
    "<!--\n",
    "BEGIN QUESTION\n",
    "name: q2b\n",
    "points: 1\n",
    "-->"
   ]
  },
  {
   "cell_type": "code",
   "execution_count": 20,
   "metadata": {
    "ExecuteTime": {
     "end_time": "2018-08-18T01:21:53.936572Z",
     "start_time": "2018-08-18T01:21:53.927344Z"
    },
    "nbgrader": {
     "grade": false,
     "grade_id": "q2a-answer",
     "locked": false,
     "schema_version": 2,
     "solution": true
    },
    "tags": [
     "solution"
    ]
   },
   "outputs": [
    {
     "data": {
      "text/plain": [
       "True"
      ]
     },
     "execution_count": 20,
     "metadata": {},
     "output_type": "execute_result"
    }
   ],
   "source": [
    "is_bid_unique = len(bus['bid'].unique()) == len(bus)\n",
    "is_bid_unique"
   ]
  },
  {
   "cell_type": "code",
   "execution_count": 21,
   "metadata": {
    "deletable": false,
    "editable": false
   },
   "outputs": [
    {
     "data": {
      "text/html": [
       "\n",
       "    \n",
       "    \n",
       "        <p>All tests passed!</p>\n",
       "    \n",
       "    "
      ],
      "text/plain": [
       "\n",
       "    All tests passed!\n",
       "    "
      ]
     },
     "execution_count": 21,
     "metadata": {},
     "output_type": "execute_result"
    }
   ],
   "source": [
    "grader.check(\"q2b\")"
   ]
  },
  {
   "cell_type": "markdown",
   "metadata": {
    "deletable": false,
    "editable": false
   },
   "source": [
    "<br/><br/><br/>\n",
    "\n",
    "---\n",
    "\n",
    "\n",
    "## Question 2c\n",
    "\n",
    "In the two cells below create two **series** \n",
    "\n",
    "1. where the index is the `name` of the business and the value is the number of records with that `name`\n",
    "2. where the index is the `address` of the business and the value is the number of records with that `address`\n",
    "\n",
    "Order both series in descending order by count. You may need to use `groupby()`, `size()`, `sort_values()`, or `value_counts()`. \n",
    "\n",
    "**Step 1**\n",
    "\n",
    "<!--\n",
    "BEGIN QUESTION\n",
    "name: q2ci\n",
    "points: 1\n",
    "-->"
   ]
  },
  {
   "cell_type": "code",
   "execution_count": 22,
   "metadata": {},
   "outputs": [
    {
     "data": {
      "text/plain": [
       "Peet's Coffee & Tea                                       20\n",
       "Starbucks Coffee                                          13\n",
       "Jamba Juice                                               10\n",
       "McDonald's                                                10\n",
       "Proper Food                                                9\n",
       "STARBUCKS                                                  9\n",
       "Specialty's Cafe & Bakery                                  8\n",
       "Mixt Greens/Mixt                                           8\n",
       "Whole Foods Market                                         7\n",
       "Starbucks                                                  7\n",
       "Philz Coffee                                               7\n",
       "The Organic Coup                                           7\n",
       "Blue Bottle Coffee                                         7\n",
       "Bon Appetit @ Twitter                                      6\n",
       "BlueStar Refreshment Services @ Uber Technologies, Inc     6\n",
       "Lee's Deli                                                 6\n",
       "STARBUCKS COFFEE                                           5\n",
       "Annie's Hot Dogs & Pretzels                                5\n",
       "PEET'S COFFEE & TEA                                        5\n",
       "Bon Appetit Management Co                                  5\n",
       "Name: name, dtype: int64"
      ]
     },
     "execution_count": 22,
     "metadata": {},
     "output_type": "execute_result"
    }
   ],
   "source": [
    "name_counts = bus['name'].value_counts()\n",
    "name_counts.head(20)"
   ]
  },
  {
   "cell_type": "code",
   "execution_count": 23,
   "metadata": {
    "deletable": false,
    "editable": false
   },
   "outputs": [
    {
     "data": {
      "text/html": [
       "\n",
       "    \n",
       "    \n",
       "        <p>All tests passed!</p>\n",
       "    \n",
       "    "
      ],
      "text/plain": [
       "\n",
       "    All tests passed!\n",
       "    "
      ]
     },
     "execution_count": 23,
     "metadata": {},
     "output_type": "execute_result"
    }
   ],
   "source": [
    "grader.check(\"q2ci\")"
   ]
  },
  {
   "cell_type": "markdown",
   "metadata": {
    "deletable": false,
    "editable": false
   },
   "source": [
    "**Step 2**\n",
    "\n",
    "<!--\n",
    "BEGIN QUESTION\n",
    "name: q2cii\n",
    "points: 1\n",
    "-->"
   ]
  },
  {
   "cell_type": "code",
   "execution_count": 24,
   "metadata": {},
   "outputs": [
    {
     "data": {
      "text/plain": [
       "Off The Grid              39\n",
       "428 11th St               34\n",
       "3251 20th Ave             17\n",
       "2948 Folsom St            17\n",
       "Pier 41                   16\n",
       "103 Horne Ave             14\n",
       "24 Willie Mays Plaza      13\n",
       "Off the Grid              11\n",
       "2948 Folsom St.           10\n",
       "1 United Nations Plaza    10\n",
       "Name: address, dtype: int64"
      ]
     },
     "execution_count": 24,
     "metadata": {},
     "output_type": "execute_result"
    }
   ],
   "source": [
    "address_counts = bus['address'].value_counts()\n",
    "address_counts.head(10)"
   ]
  },
  {
   "cell_type": "code",
   "execution_count": 25,
   "metadata": {
    "deletable": false,
    "editable": false
   },
   "outputs": [
    {
     "data": {
      "text/html": [
       "\n",
       "    \n",
       "    \n",
       "        <p>All tests passed!</p>\n",
       "    \n",
       "    "
      ],
      "text/plain": [
       "\n",
       "    All tests passed!\n",
       "    "
      ]
     },
     "execution_count": 25,
     "metadata": {},
     "output_type": "execute_result"
    }
   ],
   "source": [
    "grader.check(\"q2cii\")"
   ]
  },
  {
   "cell_type": "markdown",
   "metadata": {
    "deletable": false,
    "editable": false,
    "nbgrader": {
     "grade": false,
     "grade_id": "q2b",
     "locked": true,
     "schema_version": 2,
     "solution": false
    },
    "tags": [
     "written"
    ]
   },
   "source": [
    "<br/><br/><br/>\n",
    "\n",
    "---\n",
    "\n",
    "\n",
    "## Question 2d\n",
    "\n",
    "Based on the above calculations answer each of the following questions by filling the value in the variable.\n",
    "\n",
    "1. What does each record represent?  \n",
    "1. What is the minimal primary key?\n",
    "\n",
    "<!--\n",
    "BEGIN QUESTION\n",
    "name: q2d\n",
    "points: 2\n",
    "-->"
   ]
  },
  {
   "cell_type": "code",
   "execution_count": 26,
   "metadata": {},
   "outputs": [],
   "source": [
    "# What does each record represent?  Valid answers are:\n",
    "#    \"One location of a restaurant.\"\n",
    "#    \"A chain of restaurants.\"\n",
    "#    \"A city block.\"\n",
    "q2d_part1 = \"A chain of restaurants.\"\n",
    "\n",
    "# What is the minimal primary key? Valid answers are:\n",
    "#    \"bid\"\n",
    "#    \"bid, name\"\n",
    "#    \"bid, name, address\"\n",
    "q2d_part2 = \"bid\""
   ]
  },
  {
   "cell_type": "code",
   "execution_count": 27,
   "metadata": {
    "deletable": false,
    "editable": false
   },
   "outputs": [
    {
     "data": {
      "text/html": [
       "\n",
       "    \n",
       "    \n",
       "        <p>All tests passed!</p>\n",
       "    \n",
       "    "
      ],
      "text/plain": [
       "\n",
       "    All tests passed!\n",
       "    "
      ]
     },
     "execution_count": 27,
     "metadata": {},
     "output_type": "execute_result"
    }
   ],
   "source": [
    "grader.check(\"q2d\")"
   ]
  },
  {
   "cell_type": "markdown",
   "metadata": {
    "nbgrader": {
     "grade": false,
     "grade_id": "business-data",
     "locked": true,
     "schema_version": 2,
     "solution": false
    }
   },
   "source": [
    "<br/><br/><br/>\n",
    "\n",
    "---\n",
    "\n",
    "<br/><br/><br/>\n",
    "\n",
    "# 3: Cleaning the Business Data Postal Codes\n",
    "\n",
    "The business data contains postal code information that we can use to aggregate the ratings over regions of the city.  Let's examine and clean the postal code field.  The postal code (sometimes also called a ZIP code) partitions the city into regions:\n",
    "\n",
    "<img src=\"https://www.usmapguide.com/wp-content/uploads/2019/03/printable-san-francisco-zip-code-map.jpg\" alt=\"ZIP Code Map\" style=\"width: 600px\">"
   ]
  },
  {
   "cell_type": "markdown",
   "metadata": {
    "deletable": false,
    "editable": false,
    "nbgrader": {
     "grade": false,
     "grade_id": "cell-a4c4a09f1ecf2f4b",
     "locked": true,
     "schema_version": 2,
     "solution": false
    }
   },
   "source": [
    "<br/><br/><br/>\n",
    "\n",
    "---\n",
    "\n",
    "\n",
    "## Question 3a\n",
    "\n",
    "How many restaurants are in each ZIP code? \n",
    "\n",
    "In the cell below, create a **series** where the index is the postal code and the value is the number of records with that postal code in descending order of count. You may need to use `groupby()`, `size()`, or `value_counts()`. Do you notice any odd/invalid zip codes?\n",
    "\n",
    "<!--\n",
    "BEGIN QUESTION\n",
    "name: q3a\n",
    "points: 1\n",
    "-->"
   ]
  },
  {
   "cell_type": "code",
   "execution_count": 28,
   "metadata": {
    "nbgrader": {
     "grade": false,
     "grade_id": "cell-d2151d673e6c36a1",
     "locked": false,
     "schema_version": 2,
     "solution": true
    }
   },
   "outputs": [
    {
     "name": "stdout",
     "output_type": "stream",
     "text": [
      "94103         562\n",
      "94110         555\n",
      "94102         456\n",
      "94107         408\n",
      "94133         398\n",
      "94109         382\n",
      "94111         259\n",
      "94122         255\n",
      "94105         249\n",
      "94118         231\n",
      "94115         230\n",
      "94108         229\n",
      "94124         218\n",
      "94114         200\n",
      "-9999         194\n",
      "94112         192\n",
      "94117         189\n",
      "94123         177\n",
      "94121         157\n",
      "94104         142\n",
      "94132         132\n",
      "94116          97\n",
      "94158          90\n",
      "94134          82\n",
      "94127          67\n",
      "94131          49\n",
      "94130           8\n",
      "94143           5\n",
      "94301           2\n",
      "CA              2\n",
      "94013           2\n",
      "94101           2\n",
      "94188           2\n",
      "94544           1\n",
      "95132           1\n",
      "94120           1\n",
      "95105           1\n",
      "94602           1\n",
      "94901           1\n",
      "00000           1\n",
      "95133           1\n",
      "92672           1\n",
      "95117           1\n",
      "95112           1\n",
      "941102019       1\n",
      "94014           1\n",
      "94621           1\n",
      "64110           1\n",
      "94129           1\n",
      "94122-1909      1\n",
      "94105-1420      1\n",
      "941             1\n",
      "941033148       1\n",
      "94080           1\n",
      "95109           1\n",
      "94117-3504      1\n",
      "95122           1\n",
      "94102-5917      1\n",
      "94124-1917      1\n",
      "94123-3106      1\n",
      "94518           1\n",
      "Ca              1\n",
      "94105-2907      1\n"
     ]
    }
   ],
   "source": [
    "zip_counts = bus['postal_code'].value_counts()\n",
    "print(zip_counts.to_string())"
   ]
  },
  {
   "cell_type": "code",
   "execution_count": 29,
   "metadata": {
    "deletable": false,
    "editable": false
   },
   "outputs": [
    {
     "data": {
      "text/html": [
       "\n",
       "    \n",
       "    \n",
       "        <p>All tests passed!</p>\n",
       "    \n",
       "    "
      ],
      "text/plain": [
       "\n",
       "    All tests passed!\n",
       "    "
      ]
     },
     "execution_count": 29,
     "metadata": {},
     "output_type": "execute_result"
    }
   ],
   "source": [
    "grader.check(\"q3a\")"
   ]
  },
  {
   "cell_type": "markdown",
   "metadata": {
    "deletable": false,
    "editable": false
   },
   "source": [
    "<br/><br/><br/>\n",
    "\n",
    "--- \n",
    "\n",
    "## Question 3b\n",
    "\n",
    "Answer the following questions about the `postal_code` column in the `bus` dataframe.\n",
    "\n",
    "1. The ZIP code column is which of the following type of data:\n",
    "    1. Quantitative Continuous\n",
    "    1. Quantitative Discrete\n",
    "    1. Qualitative Ordinal\n",
    "    1. Qualitative Nominal    \n",
    "1. What Python data type is used to represent a ZIP code?\n",
    "\n",
    "*Note*: ZIP codes and postal codes are the same thing.\n",
    "\n",
    "Please write your answers in the variables below:\n",
    "\n",
    "<!--\n",
    "BEGIN QUESTION\n",
    "name: q3b\n",
    "points: 2\n",
    "-->"
   ]
  },
  {
   "cell_type": "code",
   "execution_count": 30,
   "metadata": {},
   "outputs": [],
   "source": [
    "# The ZIP code column is which of the following type of data:\n",
    "#   \"Quantitative Continuous\" \n",
    "#   \"Quantitative Discrete\"\n",
    "#   \"Qualitative Ordinal\"\n",
    "#   \"Qualitative Nominal\"\n",
    "q3b_part1 = \"Qualitative Nominal\"\n",
    "\n",
    "# What Python data type is used to represent a ZIP code? \n",
    "#    \"str\"\n",
    "#    \"int\"\n",
    "#    \"bool\"\n",
    "#    \"float\"\n",
    "q3b_part2 = \"str\""
   ]
  },
  {
   "cell_type": "code",
   "execution_count": 31,
   "metadata": {
    "deletable": false,
    "editable": false
   },
   "outputs": [
    {
     "data": {
      "text/html": [
       "\n",
       "    \n",
       "    \n",
       "        <p>All tests passed!</p>\n",
       "    \n",
       "    "
      ],
      "text/plain": [
       "\n",
       "    All tests passed!\n",
       "    "
      ]
     },
     "execution_count": 31,
     "metadata": {},
     "output_type": "execute_result"
    }
   ],
   "source": [
    "grader.check(\"q3b\")"
   ]
  },
  {
   "cell_type": "markdown",
   "metadata": {},
   "source": [
    "<br/><br/><br/>\n",
    "\n",
    "--- \n",
    "\n",
    "## Question 3c\n",
    "\n",
    "In question 3a we noticed a large number of potentially invalid ZIP codes (e.g., \"Ca\").  These are likely due to data entry errors.  To get a better understanding of the potential errors in the zip codes we will:\n",
    "\n",
    "1. Import a list of valid San Francisco ZIP codes by using `pd.read_json` to load the file `data/sf_zipcodes.json` and extract a **series** of type `str` containing the valid ZIP codes.  *Hint: set `dtype` when invoking `read_json`.*\n",
    "1. Construct a `DataFrame` containing only the businesses which DO NOT have valid ZIP codes.  You will probably want to use the `Series.isin` function. \n"
   ]
  },
  {
   "cell_type": "markdown",
   "metadata": {
    "deletable": false,
    "editable": false
   },
   "source": [
    "**Step 1**\n",
    "\n",
    "<!--\n",
    "BEGIN QUESTION\n",
    "name: q3ci\n",
    "points: 1\n",
    "-->"
   ]
  },
  {
   "cell_type": "code",
   "execution_count": 32,
   "metadata": {},
   "outputs": [
    {
     "data": {
      "text/plain": [
       "0    94102\n",
       "1    94103\n",
       "2    94104\n",
       "3    94105\n",
       "4    94107\n",
       "Name: zip_codes, dtype: object"
      ]
     },
     "execution_count": 32,
     "metadata": {},
     "output_type": "execute_result"
    }
   ],
   "source": [
    "valid_zips = pd.read_json('data/sf_zipcodes.json', dtype=str)['zip_codes']\n",
    "valid_zips.head()"
   ]
  },
  {
   "cell_type": "code",
   "execution_count": 33,
   "metadata": {
    "deletable": false,
    "editable": false
   },
   "outputs": [
    {
     "data": {
      "text/html": [
       "\n",
       "    \n",
       "    \n",
       "        <p>All tests passed!</p>\n",
       "    \n",
       "    "
      ],
      "text/plain": [
       "\n",
       "    All tests passed!\n",
       "    "
      ]
     },
     "execution_count": 33,
     "metadata": {},
     "output_type": "execute_result"
    }
   ],
   "source": [
    "grader.check(\"q3ci\")"
   ]
  },
  {
   "cell_type": "markdown",
   "metadata": {
    "deletable": false,
    "editable": false
   },
   "source": [
    "**Step 2**\n",
    "\n",
    "<!--\n",
    "BEGIN QUESTION\n",
    "name: q3cii\n",
    "points: 1\n",
    "-->"
   ]
  },
  {
   "cell_type": "code",
   "execution_count": 34,
   "metadata": {},
   "outputs": [
    {
     "data": {
      "text/html": [
       "<div>\n",
       "<style scoped>\n",
       "    .dataframe tbody tr th:only-of-type {\n",
       "        vertical-align: middle;\n",
       "    }\n",
       "\n",
       "    .dataframe tbody tr th {\n",
       "        vertical-align: top;\n",
       "    }\n",
       "\n",
       "    .dataframe thead th {\n",
       "        text-align: right;\n",
       "    }\n",
       "</style>\n",
       "<table border=\"1\" class=\"dataframe\">\n",
       "  <thead>\n",
       "    <tr style=\"text-align: right;\">\n",
       "      <th></th>\n",
       "      <th>bid</th>\n",
       "      <th>name</th>\n",
       "      <th>address</th>\n",
       "      <th>city</th>\n",
       "      <th>state</th>\n",
       "      <th>postal_code</th>\n",
       "      <th>latitude</th>\n",
       "      <th>longitude</th>\n",
       "      <th>phone_number</th>\n",
       "    </tr>\n",
       "  </thead>\n",
       "  <tbody>\n",
       "    <tr>\n",
       "      <th>22</th>\n",
       "      <td>100126</td>\n",
       "      <td>Lamas Peruvian Food Truck</td>\n",
       "      <td>Private Location</td>\n",
       "      <td>San Francisco</td>\n",
       "      <td>CA</td>\n",
       "      <td>-9999</td>\n",
       "      <td>-9999.000000</td>\n",
       "      <td>-9999.000000</td>\n",
       "      <td>-9999</td>\n",
       "    </tr>\n",
       "    <tr>\n",
       "      <th>68</th>\n",
       "      <td>100417</td>\n",
       "      <td>COMPASS ONE, LLC</td>\n",
       "      <td>1 MARKET ST. FL</td>\n",
       "      <td>San Francisco</td>\n",
       "      <td>CA</td>\n",
       "      <td>94105-1420</td>\n",
       "      <td>-9999.000000</td>\n",
       "      <td>-9999.000000</td>\n",
       "      <td>14154324000</td>\n",
       "    </tr>\n",
       "    <tr>\n",
       "      <th>96</th>\n",
       "      <td>100660</td>\n",
       "      <td>TEAPENTER</td>\n",
       "      <td>1518 IRVING ST</td>\n",
       "      <td>San Francisco</td>\n",
       "      <td>CA</td>\n",
       "      <td>94122-1909</td>\n",
       "      <td>-9999.000000</td>\n",
       "      <td>-9999.000000</td>\n",
       "      <td>14155868318</td>\n",
       "    </tr>\n",
       "    <tr>\n",
       "      <th>109</th>\n",
       "      <td>100781</td>\n",
       "      <td>LE CAFE DU SOLEIL</td>\n",
       "      <td>200 FILLMORE ST</td>\n",
       "      <td>San Francisco</td>\n",
       "      <td>CA</td>\n",
       "      <td>94117-3504</td>\n",
       "      <td>-9999.000000</td>\n",
       "      <td>-9999.000000</td>\n",
       "      <td>14155614215</td>\n",
       "    </tr>\n",
       "    <tr>\n",
       "      <th>144</th>\n",
       "      <td>101084</td>\n",
       "      <td>Deli North 200</td>\n",
       "      <td>1 Warriors Way Level 300 North East</td>\n",
       "      <td>San Francisco</td>\n",
       "      <td>CA</td>\n",
       "      <td>94518</td>\n",
       "      <td>-9999.000000</td>\n",
       "      <td>-9999.000000</td>\n",
       "      <td>-9999</td>\n",
       "    </tr>\n",
       "    <tr>\n",
       "      <th>156</th>\n",
       "      <td>101129</td>\n",
       "      <td>Vendor Room 200</td>\n",
       "      <td>1 Warriors Way Level 300 South West</td>\n",
       "      <td>San Francisco</td>\n",
       "      <td>CA</td>\n",
       "      <td>-9999</td>\n",
       "      <td>-9999.000000</td>\n",
       "      <td>-9999.000000</td>\n",
       "      <td>-9999</td>\n",
       "    </tr>\n",
       "    <tr>\n",
       "      <th>177</th>\n",
       "      <td>101192</td>\n",
       "      <td>Cochinita #2</td>\n",
       "      <td>2 Marina Blvd Fort Mason</td>\n",
       "      <td>San Francisco</td>\n",
       "      <td>CA</td>\n",
       "      <td>-9999</td>\n",
       "      <td>-9999.000000</td>\n",
       "      <td>-9999.000000</td>\n",
       "      <td>14150429222</td>\n",
       "    </tr>\n",
       "    <tr>\n",
       "      <th>276</th>\n",
       "      <td>102014</td>\n",
       "      <td>DROPBOX (Section 3, Floor 7)</td>\n",
       "      <td>1800 Owens St</td>\n",
       "      <td>San Francisco</td>\n",
       "      <td>CA</td>\n",
       "      <td>-9999</td>\n",
       "      <td>-9999.000000</td>\n",
       "      <td>-9999.000000</td>\n",
       "      <td>-9999</td>\n",
       "    </tr>\n",
       "    <tr>\n",
       "      <th>295</th>\n",
       "      <td>102245</td>\n",
       "      <td>Vessell CA Operations (#4)</td>\n",
       "      <td>2351 Mission St</td>\n",
       "      <td>San Francisco</td>\n",
       "      <td>CA</td>\n",
       "      <td>-9999</td>\n",
       "      <td>-9999.000000</td>\n",
       "      <td>-9999.000000</td>\n",
       "      <td>-9999</td>\n",
       "    </tr>\n",
       "    <tr>\n",
       "      <th>298</th>\n",
       "      <td>10227</td>\n",
       "      <td>The Napper Tandy</td>\n",
       "      <td>3200 24th St</td>\n",
       "      <td>San Francisco</td>\n",
       "      <td>CA</td>\n",
       "      <td>-9999</td>\n",
       "      <td>37.752581</td>\n",
       "      <td>-122.416482</td>\n",
       "      <td>-9999</td>\n",
       "    </tr>\n",
       "    <tr>\n",
       "      <th>320</th>\n",
       "      <td>10372</td>\n",
       "      <td>BERNAL HEIGHTS NEIGBORHOOD CENTER</td>\n",
       "      <td>515 CORTLAND AVE</td>\n",
       "      <td>San Francisco</td>\n",
       "      <td>CA</td>\n",
       "      <td>-9999</td>\n",
       "      <td>37.739110</td>\n",
       "      <td>-122.416404</td>\n",
       "      <td>14155202142</td>\n",
       "    </tr>\n",
       "    <tr>\n",
       "      <th>321</th>\n",
       "      <td>10373</td>\n",
       "      <td>El Tonayense #1</td>\n",
       "      <td>1717 Harrison St</td>\n",
       "      <td>San Francisco</td>\n",
       "      <td>CA</td>\n",
       "      <td>-9999</td>\n",
       "      <td>37.769426</td>\n",
       "      <td>-122.413446</td>\n",
       "      <td>14155556127</td>\n",
       "    </tr>\n",
       "    <tr>\n",
       "      <th>322</th>\n",
       "      <td>10376</td>\n",
       "      <td>Good Frikin Chicken</td>\n",
       "      <td>10 29th St</td>\n",
       "      <td>San Francisco</td>\n",
       "      <td>CA</td>\n",
       "      <td>-9999</td>\n",
       "      <td>37.744369</td>\n",
       "      <td>-122.420967</td>\n",
       "      <td>-9999</td>\n",
       "    </tr>\n",
       "    <tr>\n",
       "      <th>324</th>\n",
       "      <td>10406</td>\n",
       "      <td>Sunset Youth Services</td>\n",
       "      <td>3918 Judah St</td>\n",
       "      <td>San Francisco</td>\n",
       "      <td>CA</td>\n",
       "      <td>-9999</td>\n",
       "      <td>37.760560</td>\n",
       "      <td>-122.504027</td>\n",
       "      <td>-9999</td>\n",
       "    </tr>\n",
       "    <tr>\n",
       "      <th>357</th>\n",
       "      <td>11416</td>\n",
       "      <td>El Beach Burrito</td>\n",
       "      <td>3914 Judah St</td>\n",
       "      <td>San Francisco</td>\n",
       "      <td>CA</td>\n",
       "      <td>-9999</td>\n",
       "      <td>37.760851</td>\n",
       "      <td>-122.503998</td>\n",
       "      <td>-9999</td>\n",
       "    </tr>\n",
       "    <tr>\n",
       "      <th>381</th>\n",
       "      <td>12199</td>\n",
       "      <td>El Gallo Giro</td>\n",
       "      <td>3055 23rd St</td>\n",
       "      <td>San Francisco</td>\n",
       "      <td>CA</td>\n",
       "      <td>-9999</td>\n",
       "      <td>37.754218</td>\n",
       "      <td>-122.413285</td>\n",
       "      <td>14155553048</td>\n",
       "    </tr>\n",
       "    <tr>\n",
       "      <th>384</th>\n",
       "      <td>12344</td>\n",
       "      <td>The Village Market &amp; Pizza</td>\n",
       "      <td>750 Font Blvd</td>\n",
       "      <td>San Francisco</td>\n",
       "      <td>CA</td>\n",
       "      <td>-9999</td>\n",
       "      <td>37.723462</td>\n",
       "      <td>-122.483012</td>\n",
       "      <td>14155374525</td>\n",
       "    </tr>\n",
       "    <tr>\n",
       "      <th>406</th>\n",
       "      <td>13062</td>\n",
       "      <td>Everett Middle School</td>\n",
       "      <td>450 Church St</td>\n",
       "      <td>San Francisco</td>\n",
       "      <td>CA</td>\n",
       "      <td>-9999</td>\n",
       "      <td>37.763794</td>\n",
       "      <td>-122.428617</td>\n",
       "      <td>-9999</td>\n",
       "    </tr>\n",
       "    <tr>\n",
       "      <th>434</th>\n",
       "      <td>13753</td>\n",
       "      <td>Taboun</td>\n",
       "      <td>203 Parnassus Ave</td>\n",
       "      <td>San Francisco</td>\n",
       "      <td>CA</td>\n",
       "      <td>-9999</td>\n",
       "      <td>37.764574</td>\n",
       "      <td>-122.452950</td>\n",
       "      <td>-9999</td>\n",
       "    </tr>\n",
       "    <tr>\n",
       "      <th>548</th>\n",
       "      <td>17423</td>\n",
       "      <td>Project Open Hand</td>\n",
       "      <td>100 Diamond St</td>\n",
       "      <td>San Francisco</td>\n",
       "      <td>CA</td>\n",
       "      <td>-9999</td>\n",
       "      <td>37.760689</td>\n",
       "      <td>-122.437252</td>\n",
       "      <td>-9999</td>\n",
       "    </tr>\n",
       "  </tbody>\n",
       "</table>\n",
       "</div>"
      ],
      "text/plain": [
       "        bid                               name  \\\n",
       "22   100126          Lamas Peruvian Food Truck   \n",
       "68   100417                   COMPASS ONE, LLC   \n",
       "96   100660                          TEAPENTER   \n",
       "109  100781                  LE CAFE DU SOLEIL   \n",
       "144  101084                     Deli North 200   \n",
       "156  101129                    Vendor Room 200   \n",
       "177  101192                       Cochinita #2   \n",
       "276  102014       DROPBOX (Section 3, Floor 7)   \n",
       "295  102245         Vessell CA Operations (#4)   \n",
       "298   10227                   The Napper Tandy   \n",
       "320   10372  BERNAL HEIGHTS NEIGBORHOOD CENTER   \n",
       "321   10373                    El Tonayense #1   \n",
       "322   10376                Good Frikin Chicken   \n",
       "324   10406              Sunset Youth Services   \n",
       "357   11416                   El Beach Burrito   \n",
       "381   12199                      El Gallo Giro   \n",
       "384   12344         The Village Market & Pizza   \n",
       "406   13062              Everett Middle School   \n",
       "434   13753                             Taboun   \n",
       "548   17423                  Project Open Hand   \n",
       "\n",
       "                                 address           city state postal_code  \\\n",
       "22                      Private Location  San Francisco    CA       -9999   \n",
       "68                       1 MARKET ST. FL  San Francisco    CA  94105-1420   \n",
       "96                        1518 IRVING ST  San Francisco    CA  94122-1909   \n",
       "109                      200 FILLMORE ST  San Francisco    CA  94117-3504   \n",
       "144  1 Warriors Way Level 300 North East  San Francisco    CA       94518   \n",
       "156  1 Warriors Way Level 300 South West  San Francisco    CA       -9999   \n",
       "177             2 Marina Blvd Fort Mason  San Francisco    CA       -9999   \n",
       "276                        1800 Owens St  San Francisco    CA       -9999   \n",
       "295                      2351 Mission St  San Francisco    CA       -9999   \n",
       "298                         3200 24th St  San Francisco    CA       -9999   \n",
       "320                     515 CORTLAND AVE  San Francisco    CA       -9999   \n",
       "321                     1717 Harrison St  San Francisco    CA       -9999   \n",
       "322                           10 29th St  San Francisco    CA       -9999   \n",
       "324                        3918 Judah St  San Francisco    CA       -9999   \n",
       "357                        3914 Judah St  San Francisco    CA       -9999   \n",
       "381                         3055 23rd St  San Francisco    CA       -9999   \n",
       "384                        750 Font Blvd  San Francisco    CA       -9999   \n",
       "406                        450 Church St  San Francisco    CA       -9999   \n",
       "434                    203 Parnassus Ave  San Francisco    CA       -9999   \n",
       "548                       100 Diamond St  San Francisco    CA       -9999   \n",
       "\n",
       "        latitude    longitude  phone_number  \n",
       "22  -9999.000000 -9999.000000         -9999  \n",
       "68  -9999.000000 -9999.000000   14154324000  \n",
       "96  -9999.000000 -9999.000000   14155868318  \n",
       "109 -9999.000000 -9999.000000   14155614215  \n",
       "144 -9999.000000 -9999.000000         -9999  \n",
       "156 -9999.000000 -9999.000000         -9999  \n",
       "177 -9999.000000 -9999.000000   14150429222  \n",
       "276 -9999.000000 -9999.000000         -9999  \n",
       "295 -9999.000000 -9999.000000         -9999  \n",
       "298    37.752581  -122.416482         -9999  \n",
       "320    37.739110  -122.416404   14155202142  \n",
       "321    37.769426  -122.413446   14155556127  \n",
       "322    37.744369  -122.420967         -9999  \n",
       "324    37.760560  -122.504027         -9999  \n",
       "357    37.760851  -122.503998         -9999  \n",
       "381    37.754218  -122.413285   14155553048  \n",
       "384    37.723462  -122.483012   14155374525  \n",
       "406    37.763794  -122.428617         -9999  \n",
       "434    37.764574  -122.452950         -9999  \n",
       "548    37.760689  -122.437252         -9999  "
      ]
     },
     "execution_count": 34,
     "metadata": {},
     "output_type": "execute_result"
    }
   ],
   "source": [
    "invalid_zip_bus = bus[bus['postal_code'].isin(valid_zips) == False]\n",
    "invalid_zip_bus.head(20)"
   ]
  },
  {
   "cell_type": "code",
   "execution_count": 35,
   "metadata": {
    "deletable": false,
    "editable": false
   },
   "outputs": [
    {
     "data": {
      "text/html": [
       "\n",
       "    \n",
       "    \n",
       "        <p>All tests passed!</p>\n",
       "    \n",
       "    "
      ],
      "text/plain": [
       "\n",
       "    All tests passed!\n",
       "    "
      ]
     },
     "execution_count": 35,
     "metadata": {},
     "output_type": "execute_result"
    }
   ],
   "source": [
    "grader.check(\"q3cii\")"
   ]
  },
  {
   "cell_type": "markdown",
   "metadata": {
    "deletable": false,
    "editable": false
   },
   "source": [
    "<br/><br/><br/>\n",
    "\n",
    "--- \n",
    "\n",
    "## Question 3d\n",
    "\n",
    "In the previous question, many of the businesses had a common invalid postal code that was likely used to encode a MISSING postal code.  Do they all share a potentially \"interesting address\"?\n",
    "\n",
    "In the following cell, construct a **series** that counts the number of businesses at each `address` that have this single likely MISSING postal code value.  Order the series in descending order by count. \n",
    "\n",
    "After examining the output.  Answer the following question by filling in the appropriate variable. If we were to drop businesses with MISSING postal code values would a particular class of business be affected?  If you are unsure try to search the web for the most common addresses.\n",
    "\n",
    "\n",
    "<!--\n",
    "BEGIN QUESTION\n",
    "name: q3d\n",
    "points: 3\n",
    "-->"
   ]
  },
  {
   "cell_type": "code",
   "execution_count": 36,
   "metadata": {},
   "outputs": [
    {
     "data": {
      "text/plain": [
       "Off The Grid          39\n",
       "Off the Grid          10\n",
       "OTG                    4\n",
       "OFF THE GRID           3\n",
       "Approved Locations     3\n",
       "Name: address, dtype: int64"
      ]
     },
     "execution_count": 36,
     "metadata": {},
     "output_type": "execute_result"
    }
   ],
   "source": [
    "missing_zip_address_count = invalid_zip_bus[invalid_zip_bus['postal_code'].isin(['-9999'])]['address'].value_counts()\n",
    "missing_zip_address_count.head()"
   ]
  },
  {
   "cell_type": "code",
   "execution_count": 37,
   "metadata": {
    "deletable": false,
    "editable": false
   },
   "outputs": [
    {
     "data": {
      "text/html": [
       "\n",
       "    \n",
       "    \n",
       "        <p>All tests passed!</p>\n",
       "    \n",
       "    "
      ],
      "text/plain": [
       "\n",
       "    All tests passed!\n",
       "    "
      ]
     },
     "execution_count": 37,
     "metadata": {},
     "output_type": "execute_result"
    }
   ],
   "source": [
    "grader.check(\"q3d\")"
   ]
  },
  {
   "cell_type": "markdown",
   "metadata": {
    "deletable": false,
    "editable": false
   },
   "source": [
    "<br/><br/><br/>\n",
    "\n",
    "--- \n",
    "\n",
    "## Question 3e\n",
    "\n",
    "**True or False**:  *If we were to drop businesses with MISSING postal code values, a particular class of business will be affected.*\n",
    "\n",
    "<!--\n",
    "BEGIN QUESTION\n",
    "name: q3e\n",
    "points: 2\n",
    "-->"
   ]
  },
  {
   "cell_type": "code",
   "execution_count": 38,
   "metadata": {},
   "outputs": [],
   "source": [
    "# True or False: \n",
    "#  If we were to drop businesses with MISSING postal code values \n",
    "#   a particular class of business be affected.\n",
    "q3d_true_or_false = True"
   ]
  },
  {
   "cell_type": "code",
   "execution_count": 39,
   "metadata": {
    "deletable": false,
    "editable": false
   },
   "outputs": [
    {
     "data": {
      "text/html": [
       "\n",
       "    \n",
       "    \n",
       "        <p>All tests passed!</p>\n",
       "    \n",
       "    "
      ],
      "text/plain": [
       "\n",
       "    All tests passed!\n",
       "    "
      ]
     },
     "execution_count": 39,
     "metadata": {},
     "output_type": "execute_result"
    }
   ],
   "source": [
    "grader.check(\"q3e\")"
   ]
  },
  {
   "cell_type": "markdown",
   "metadata": {
    "deletable": false,
    "editable": false
   },
   "source": [
    "<br/><br/><br/>\n",
    "\n",
    "--- \n",
    "\n",
    "## Question 3f\n",
    "\n",
    "Examine the `invalid_zip_bus` dataframe we computed above and look at the businesses that DO NOT have the special MISSING ZIP code value.  Some of the invalid postal codes are just the full 9 digit code rather than the first 5 digits.  Create a new column named `postal5` in the original `bus` dataframe which contains only the first 5 digits of the `postal_code` column.   Finally, for any of the `postal5` ZIP code entries that were not a valid San Fransisco ZIP Code (according to `valid_zips`) set the entry to `None`.  \n",
    "\n",
    "\n",
    "<!--\n",
    "BEGIN QUESTION\n",
    "name: q3f\n",
    "points: 2\n",
    "-->"
   ]
  },
  {
   "cell_type": "code",
   "execution_count": 40,
   "metadata": {},
   "outputs": [
    {
     "data": {
      "text/html": [
       "<div>\n",
       "<style scoped>\n",
       "    .dataframe tbody tr th:only-of-type {\n",
       "        vertical-align: middle;\n",
       "    }\n",
       "\n",
       "    .dataframe tbody tr th {\n",
       "        vertical-align: top;\n",
       "    }\n",
       "\n",
       "    .dataframe thead th {\n",
       "        text-align: right;\n",
       "    }\n",
       "</style>\n",
       "<table border=\"1\" class=\"dataframe\">\n",
       "  <thead>\n",
       "    <tr style=\"text-align: right;\">\n",
       "      <th></th>\n",
       "      <th>bid</th>\n",
       "      <th>name</th>\n",
       "      <th>address</th>\n",
       "      <th>city</th>\n",
       "      <th>state</th>\n",
       "      <th>postal_code</th>\n",
       "      <th>latitude</th>\n",
       "      <th>longitude</th>\n",
       "      <th>phone_number</th>\n",
       "    </tr>\n",
       "  </thead>\n",
       "  <tbody>\n",
       "    <tr>\n",
       "      <th>0</th>\n",
       "      <td>1000</td>\n",
       "      <td>HEUNG YUEN RESTAURANT</td>\n",
       "      <td>3279 22nd St</td>\n",
       "      <td>San Francisco</td>\n",
       "      <td>CA</td>\n",
       "      <td>94110</td>\n",
       "      <td>37.755282</td>\n",
       "      <td>-122.420493</td>\n",
       "      <td>-9999</td>\n",
       "    </tr>\n",
       "    <tr>\n",
       "      <th>1</th>\n",
       "      <td>100010</td>\n",
       "      <td>ILLY CAFFE SF_PIER 39</td>\n",
       "      <td>PIER 39  K-106-B</td>\n",
       "      <td>San Francisco</td>\n",
       "      <td>CA</td>\n",
       "      <td>94133</td>\n",
       "      <td>-9999.000000</td>\n",
       "      <td>-9999.000000</td>\n",
       "      <td>14154827284</td>\n",
       "    </tr>\n",
       "    <tr>\n",
       "      <th>2</th>\n",
       "      <td>100017</td>\n",
       "      <td>AMICI'S EAST COAST PIZZERIA</td>\n",
       "      <td>475 06th St</td>\n",
       "      <td>San Francisco</td>\n",
       "      <td>CA</td>\n",
       "      <td>94103</td>\n",
       "      <td>-9999.000000</td>\n",
       "      <td>-9999.000000</td>\n",
       "      <td>14155279839</td>\n",
       "    </tr>\n",
       "    <tr>\n",
       "      <th>3</th>\n",
       "      <td>100026</td>\n",
       "      <td>LOCAL CATERING</td>\n",
       "      <td>1566 CARROLL AVE</td>\n",
       "      <td>San Francisco</td>\n",
       "      <td>CA</td>\n",
       "      <td>94124</td>\n",
       "      <td>-9999.000000</td>\n",
       "      <td>-9999.000000</td>\n",
       "      <td>14155860315</td>\n",
       "    </tr>\n",
       "    <tr>\n",
       "      <th>4</th>\n",
       "      <td>100030</td>\n",
       "      <td>OUI OUI! MACARON</td>\n",
       "      <td>2200 JERROLD AVE STE C</td>\n",
       "      <td>San Francisco</td>\n",
       "      <td>CA</td>\n",
       "      <td>94124</td>\n",
       "      <td>-9999.000000</td>\n",
       "      <td>-9999.000000</td>\n",
       "      <td>14159702675</td>\n",
       "    </tr>\n",
       "    <tr>\n",
       "      <th>...</th>\n",
       "      <td>...</td>\n",
       "      <td>...</td>\n",
       "      <td>...</td>\n",
       "      <td>...</td>\n",
       "      <td>...</td>\n",
       "      <td>...</td>\n",
       "      <td>...</td>\n",
       "      <td>...</td>\n",
       "      <td>...</td>\n",
       "    </tr>\n",
       "    <tr>\n",
       "      <th>6248</th>\n",
       "      <td>99948</td>\n",
       "      <td>SUSIECAKES BAKERY</td>\n",
       "      <td>3509 CALIFORNIA ST</td>\n",
       "      <td>San Francisco</td>\n",
       "      <td>CA</td>\n",
       "      <td>94118</td>\n",
       "      <td>-9999.000000</td>\n",
       "      <td>-9999.000000</td>\n",
       "      <td>14150452253</td>\n",
       "    </tr>\n",
       "    <tr>\n",
       "      <th>6249</th>\n",
       "      <td>99988</td>\n",
       "      <td>HINODEYA SOMA</td>\n",
       "      <td>303 02nd ST STE 102</td>\n",
       "      <td>San Francisco</td>\n",
       "      <td>CA</td>\n",
       "      <td>94107</td>\n",
       "      <td>-9999.000000</td>\n",
       "      <td>-9999.000000</td>\n",
       "      <td>-9999</td>\n",
       "    </tr>\n",
       "    <tr>\n",
       "      <th>6250</th>\n",
       "      <td>99991</td>\n",
       "      <td>TON TON</td>\n",
       "      <td>422 GEARY ST</td>\n",
       "      <td>San Francisco</td>\n",
       "      <td>CA</td>\n",
       "      <td>94102</td>\n",
       "      <td>-9999.000000</td>\n",
       "      <td>-9999.000000</td>\n",
       "      <td>14155531280</td>\n",
       "    </tr>\n",
       "    <tr>\n",
       "      <th>6251</th>\n",
       "      <td>99992</td>\n",
       "      <td>URBAN EXPRESS KITCHENS LLC</td>\n",
       "      <td>475 06th ST</td>\n",
       "      <td>San Francisco</td>\n",
       "      <td>CA</td>\n",
       "      <td>94103</td>\n",
       "      <td>-9999.000000</td>\n",
       "      <td>-9999.000000</td>\n",
       "      <td>14150368085</td>\n",
       "    </tr>\n",
       "    <tr>\n",
       "      <th>6252</th>\n",
       "      <td>99993</td>\n",
       "      <td>THE BRIXTON SOUTH</td>\n",
       "      <td>701 02nd St</td>\n",
       "      <td>San Francisco</td>\n",
       "      <td>CA</td>\n",
       "      <td>94102</td>\n",
       "      <td>-9999.000000</td>\n",
       "      <td>-9999.000000</td>\n",
       "      <td>14158315871</td>\n",
       "    </tr>\n",
       "  </tbody>\n",
       "</table>\n",
       "<p>6253 rows × 9 columns</p>\n",
       "</div>"
      ],
      "text/plain": [
       "         bid                         name                 address  \\\n",
       "0       1000        HEUNG YUEN RESTAURANT            3279 22nd St   \n",
       "1     100010        ILLY CAFFE SF_PIER 39        PIER 39  K-106-B   \n",
       "2     100017  AMICI'S EAST COAST PIZZERIA             475 06th St   \n",
       "3     100026               LOCAL CATERING        1566 CARROLL AVE   \n",
       "4     100030             OUI OUI! MACARON  2200 JERROLD AVE STE C   \n",
       "...      ...                          ...                     ...   \n",
       "6248   99948            SUSIECAKES BAKERY      3509 CALIFORNIA ST   \n",
       "6249   99988                HINODEYA SOMA     303 02nd ST STE 102   \n",
       "6250   99991                      TON TON            422 GEARY ST   \n",
       "6251   99992   URBAN EXPRESS KITCHENS LLC             475 06th ST   \n",
       "6252   99993            THE BRIXTON SOUTH             701 02nd St   \n",
       "\n",
       "               city state postal_code     latitude    longitude  phone_number  \n",
       "0     San Francisco    CA       94110    37.755282  -122.420493         -9999  \n",
       "1     San Francisco    CA       94133 -9999.000000 -9999.000000   14154827284  \n",
       "2     San Francisco    CA       94103 -9999.000000 -9999.000000   14155279839  \n",
       "3     San Francisco    CA       94124 -9999.000000 -9999.000000   14155860315  \n",
       "4     San Francisco    CA       94124 -9999.000000 -9999.000000   14159702675  \n",
       "...             ...   ...         ...          ...          ...           ...  \n",
       "6248  San Francisco    CA       94118 -9999.000000 -9999.000000   14150452253  \n",
       "6249  San Francisco    CA       94107 -9999.000000 -9999.000000         -9999  \n",
       "6250  San Francisco    CA       94102 -9999.000000 -9999.000000   14155531280  \n",
       "6251  San Francisco    CA       94103 -9999.000000 -9999.000000   14150368085  \n",
       "6252  San Francisco    CA       94102 -9999.000000 -9999.000000   14158315871  \n",
       "\n",
       "[6253 rows x 9 columns]"
      ]
     },
     "execution_count": 40,
     "metadata": {},
     "output_type": "execute_result"
    }
   ],
   "source": [
    "bus"
   ]
  },
  {
   "cell_type": "code",
   "execution_count": 41,
   "metadata": {
    "scrolled": true
   },
   "outputs": [
    {
     "data": {
      "text/html": [
       "<div>\n",
       "<style scoped>\n",
       "    .dataframe tbody tr th:only-of-type {\n",
       "        vertical-align: middle;\n",
       "    }\n",
       "\n",
       "    .dataframe tbody tr th {\n",
       "        vertical-align: top;\n",
       "    }\n",
       "\n",
       "    .dataframe thead th {\n",
       "        text-align: right;\n",
       "    }\n",
       "</style>\n",
       "<table border=\"1\" class=\"dataframe\">\n",
       "  <thead>\n",
       "    <tr style=\"text-align: right;\">\n",
       "      <th></th>\n",
       "      <th>bid</th>\n",
       "      <th>name</th>\n",
       "      <th>postal_code</th>\n",
       "      <th>postal5</th>\n",
       "    </tr>\n",
       "  </thead>\n",
       "  <tbody>\n",
       "    <tr>\n",
       "      <th>22</th>\n",
       "      <td>100126</td>\n",
       "      <td>Lamas Peruvian Food Truck</td>\n",
       "      <td>-9999</td>\n",
       "      <td>None</td>\n",
       "    </tr>\n",
       "    <tr>\n",
       "      <th>68</th>\n",
       "      <td>100417</td>\n",
       "      <td>COMPASS ONE, LLC</td>\n",
       "      <td>94105-1420</td>\n",
       "      <td>94105</td>\n",
       "    </tr>\n",
       "    <tr>\n",
       "      <th>96</th>\n",
       "      <td>100660</td>\n",
       "      <td>TEAPENTER</td>\n",
       "      <td>94122-1909</td>\n",
       "      <td>94122</td>\n",
       "    </tr>\n",
       "    <tr>\n",
       "      <th>109</th>\n",
       "      <td>100781</td>\n",
       "      <td>LE CAFE DU SOLEIL</td>\n",
       "      <td>94117-3504</td>\n",
       "      <td>94117</td>\n",
       "    </tr>\n",
       "    <tr>\n",
       "      <th>144</th>\n",
       "      <td>101084</td>\n",
       "      <td>Deli North 200</td>\n",
       "      <td>94518</td>\n",
       "      <td>None</td>\n",
       "    </tr>\n",
       "    <tr>\n",
       "      <th>...</th>\n",
       "      <td>...</td>\n",
       "      <td>...</td>\n",
       "      <td>...</td>\n",
       "      <td>...</td>\n",
       "    </tr>\n",
       "    <tr>\n",
       "      <th>6173</th>\n",
       "      <td>99369</td>\n",
       "      <td>HOTEL BIRON</td>\n",
       "      <td>94102-5917</td>\n",
       "      <td>94102</td>\n",
       "    </tr>\n",
       "    <tr>\n",
       "      <th>6174</th>\n",
       "      <td>99376</td>\n",
       "      <td>Mashallah Halal Food truck Ind</td>\n",
       "      <td>-9999</td>\n",
       "      <td>None</td>\n",
       "    </tr>\n",
       "    <tr>\n",
       "      <th>6199</th>\n",
       "      <td>99536</td>\n",
       "      <td>FAITH SANDWICH #2</td>\n",
       "      <td>94105-2907</td>\n",
       "      <td>94105</td>\n",
       "    </tr>\n",
       "    <tr>\n",
       "      <th>6204</th>\n",
       "      <td>99681</td>\n",
       "      <td>Twister</td>\n",
       "      <td>95112</td>\n",
       "      <td>None</td>\n",
       "    </tr>\n",
       "    <tr>\n",
       "      <th>6241</th>\n",
       "      <td>99819</td>\n",
       "      <td>CHESTNUT DINER</td>\n",
       "      <td>94123-3106</td>\n",
       "      <td>94123</td>\n",
       "    </tr>\n",
       "  </tbody>\n",
       "</table>\n",
       "<p>230 rows × 4 columns</p>\n",
       "</div>"
      ],
      "text/plain": [
       "         bid                            name postal_code postal5\n",
       "22    100126       Lamas Peruvian Food Truck       -9999    None\n",
       "68    100417                COMPASS ONE, LLC  94105-1420   94105\n",
       "96    100660                       TEAPENTER  94122-1909   94122\n",
       "109   100781               LE CAFE DU SOLEIL  94117-3504   94117\n",
       "144   101084                  Deli North 200       94518    None\n",
       "...      ...                             ...         ...     ...\n",
       "6173   99369                     HOTEL BIRON  94102-5917   94102\n",
       "6174   99376  Mashallah Halal Food truck Ind       -9999    None\n",
       "6199   99536               FAITH SANDWICH #2  94105-2907   94105\n",
       "6204   99681                         Twister       95112    None\n",
       "6241   99819                  CHESTNUT DINER  94123-3106   94123\n",
       "\n",
       "[230 rows x 4 columns]"
      ]
     },
     "execution_count": 41,
     "metadata": {},
     "output_type": "execute_result"
    }
   ],
   "source": [
    "#bus.loc[invalid_zip_bus.index, ['postal_code']] \n",
    "bus['postal5']= bus['postal_code'].str[0:5]\n",
    "for i,row in bus.iterrows():\n",
    "    \n",
    "    if (str(row[9]) in valid_zips.tolist()) == False:\n",
    "        bus.iloc[i, 9] = None\n",
    "        \n",
    "\n",
    "    \n",
    "\n",
    "\n",
    "# Checking the corrected postal5 column\n",
    "bus.loc[invalid_zip_bus.index, ['bid', 'name', 'postal_code', 'postal5']]\n"
   ]
  },
  {
   "cell_type": "code",
   "execution_count": 42,
   "metadata": {
    "deletable": false,
    "editable": false
   },
   "outputs": [
    {
     "data": {
      "text/html": [
       "\n",
       "    \n",
       "    \n",
       "        <p>All tests passed!</p>\n",
       "    \n",
       "    "
      ],
      "text/plain": [
       "\n",
       "    All tests passed!\n",
       "    "
      ]
     },
     "execution_count": 42,
     "metadata": {},
     "output_type": "execute_result"
    }
   ],
   "source": [
    "grader.check(\"q3f\")"
   ]
  },
  {
   "cell_type": "markdown",
   "metadata": {
    "nbgrader": {
     "grade": false,
     "grade_id": "business-data",
     "locked": true,
     "schema_version": 2,
     "solution": false
    }
   },
   "source": [
    "<br/><br/><br/>\n",
    "\n",
    "---\n",
    "\n",
    "<br/><br/><br/>\n",
    "\n",
    "# 4: Investigate the Inspection Data\n",
    "\n",
    "Let's now turn to the inspection DataFrame. Earlier, we found that `ins` has 4 columns named \n",
    "`iid`, `score`, `date` and `type`.  In this section, we determine the granularity of `ins` and investigate the kinds of information provided for the inspections. "
   ]
  },
  {
   "cell_type": "markdown",
   "metadata": {
    "nbgrader": {
     "grade": false,
     "grade_id": "cell-174ed23c543ad9da",
     "locked": true,
     "schema_version": 2,
     "solution": false
    }
   },
   "source": [
    "Let's start by looking again at the first 5 rows of `ins` to see what we're working with."
   ]
  },
  {
   "cell_type": "code",
   "execution_count": 43,
   "metadata": {
    "nbgrader": {
     "grade": false,
     "grade_id": "cell-f0fbe724a2783e33",
     "locked": true,
     "schema_version": 2,
     "solution": false
    }
   },
   "outputs": [
    {
     "data": {
      "text/html": [
       "<div>\n",
       "<style scoped>\n",
       "    .dataframe tbody tr th:only-of-type {\n",
       "        vertical-align: middle;\n",
       "    }\n",
       "\n",
       "    .dataframe tbody tr th {\n",
       "        vertical-align: top;\n",
       "    }\n",
       "\n",
       "    .dataframe thead th {\n",
       "        text-align: right;\n",
       "    }\n",
       "</style>\n",
       "<table border=\"1\" class=\"dataframe\">\n",
       "  <thead>\n",
       "    <tr style=\"text-align: right;\">\n",
       "      <th></th>\n",
       "      <th>iid</th>\n",
       "      <th>date</th>\n",
       "      <th>score</th>\n",
       "      <th>type</th>\n",
       "    </tr>\n",
       "  </thead>\n",
       "  <tbody>\n",
       "    <tr>\n",
       "      <th>0</th>\n",
       "      <td>100010_20190329</td>\n",
       "      <td>03/29/2019 12:00:00 AM</td>\n",
       "      <td>-1</td>\n",
       "      <td>New Construction</td>\n",
       "    </tr>\n",
       "    <tr>\n",
       "      <th>1</th>\n",
       "      <td>100010_20190403</td>\n",
       "      <td>04/03/2019 12:00:00 AM</td>\n",
       "      <td>100</td>\n",
       "      <td>Routine - Unscheduled</td>\n",
       "    </tr>\n",
       "    <tr>\n",
       "      <th>2</th>\n",
       "      <td>100017_20190417</td>\n",
       "      <td>04/17/2019 12:00:00 AM</td>\n",
       "      <td>-1</td>\n",
       "      <td>New Ownership</td>\n",
       "    </tr>\n",
       "    <tr>\n",
       "      <th>3</th>\n",
       "      <td>100017_20190816</td>\n",
       "      <td>08/16/2019 12:00:00 AM</td>\n",
       "      <td>91</td>\n",
       "      <td>Routine - Unscheduled</td>\n",
       "    </tr>\n",
       "    <tr>\n",
       "      <th>4</th>\n",
       "      <td>100017_20190826</td>\n",
       "      <td>08/26/2019 12:00:00 AM</td>\n",
       "      <td>-1</td>\n",
       "      <td>Reinspection/Followup</td>\n",
       "    </tr>\n",
       "  </tbody>\n",
       "</table>\n",
       "</div>"
      ],
      "text/plain": [
       "               iid                    date  score                   type\n",
       "0  100010_20190329  03/29/2019 12:00:00 AM     -1       New Construction\n",
       "1  100010_20190403  04/03/2019 12:00:00 AM    100  Routine - Unscheduled\n",
       "2  100017_20190417  04/17/2019 12:00:00 AM     -1          New Ownership\n",
       "3  100017_20190816  08/16/2019 12:00:00 AM     91  Routine - Unscheduled\n",
       "4  100017_20190826  08/26/2019 12:00:00 AM     -1  Reinspection/Followup"
      ]
     },
     "execution_count": 43,
     "metadata": {},
     "output_type": "execute_result"
    }
   ],
   "source": [
    "ins.head(5)"
   ]
  },
  {
   "cell_type": "markdown",
   "metadata": {
    "deletable": false,
    "editable": false
   },
   "source": [
    "<br/><br/><br/>\n",
    "\n",
    "---\n",
    "\n",
    "## Question 4a\n",
    "\n",
    "The column `iid` probably corresponds to an inspection id.  Is it a primary key?  Write an expression (line of code) that evaluates to 'True' or 'False' based on whether all the values are unique.\n",
    "\n",
    "\n",
    "<!--\n",
    "BEGIN QUESTION\n",
    "name: q4a\n",
    "points: 1\n",
    "-->"
   ]
  },
  {
   "cell_type": "code",
   "execution_count": 44,
   "metadata": {},
   "outputs": [
    {
     "data": {
      "text/plain": [
       "True"
      ]
     },
     "execution_count": 44,
     "metadata": {},
     "output_type": "execute_result"
    }
   ],
   "source": [
    "is_ins_iid_a_primary_key = len(ins['iid'].unique()) == len(ins)\n",
    "is_ins_iid_a_primary_key"
   ]
  },
  {
   "cell_type": "code",
   "execution_count": 45,
   "metadata": {
    "deletable": false,
    "editable": false
   },
   "outputs": [
    {
     "data": {
      "text/html": [
       "\n",
       "    \n",
       "    \n",
       "        <p>All tests passed!</p>\n",
       "    \n",
       "    "
      ],
      "text/plain": [
       "\n",
       "    All tests passed!\n",
       "    "
      ]
     },
     "execution_count": 45,
     "metadata": {},
     "output_type": "execute_result"
    }
   ],
   "source": [
    "grader.check(\"q4a\")"
   ]
  },
  {
   "cell_type": "markdown",
   "metadata": {},
   "source": [
    "<br/><br/><br/>\n",
    "\n",
    "---\n",
    "\n",
    "## Question 4b\n",
    "\n",
    "The column `iid` appears to be the composition of two numbers and the first number looks like a business id.  \n",
    "\n",
    "**Part 1.**: Create a new column called `bid` in the `ins` dataframe containing just the business id.  You will want to use `ins['iid'].str` operations to do this.  Also be sure to convert the type of this column to `int`\n",
    "\n",
    "**Part 2.**: Then compute how many values in this new column are invalid business ids (i.e. do not appear in the `bus['bid']` column). This is verifying a foreign key relationship. Consider using the `pd.Series.isin` function.\n",
    "\n",
    "**Part 3.**: Answer True or False, `ins['bid']` is a foreign key reference to `bus['bid']`.\n",
    "\n",
    "\n",
    "**No python `for` loops or list comprehensions required!**"
   ]
  },
  {
   "cell_type": "markdown",
   "metadata": {
    "deletable": false,
    "editable": false
   },
   "source": [
    "**Part 1**\n",
    "\n",
    "<!--\n",
    "BEGIN QUESTION\n",
    "name: q4bi\n",
    "points: 1\n",
    "-->"
   ]
  },
  {
   "cell_type": "code",
   "execution_count": 46,
   "metadata": {},
   "outputs": [
    {
     "data": {
      "text/html": [
       "<div>\n",
       "<style scoped>\n",
       "    .dataframe tbody tr th:only-of-type {\n",
       "        vertical-align: middle;\n",
       "    }\n",
       "\n",
       "    .dataframe tbody tr th {\n",
       "        vertical-align: top;\n",
       "    }\n",
       "\n",
       "    .dataframe thead th {\n",
       "        text-align: right;\n",
       "    }\n",
       "</style>\n",
       "<table border=\"1\" class=\"dataframe\">\n",
       "  <thead>\n",
       "    <tr style=\"text-align: right;\">\n",
       "      <th></th>\n",
       "      <th>iid</th>\n",
       "      <th>date</th>\n",
       "      <th>score</th>\n",
       "      <th>type</th>\n",
       "      <th>bid</th>\n",
       "    </tr>\n",
       "  </thead>\n",
       "  <tbody>\n",
       "    <tr>\n",
       "      <th>0</th>\n",
       "      <td>100010_20190329</td>\n",
       "      <td>03/29/2019 12:00:00 AM</td>\n",
       "      <td>-1</td>\n",
       "      <td>New Construction</td>\n",
       "      <td>100010</td>\n",
       "    </tr>\n",
       "    <tr>\n",
       "      <th>1</th>\n",
       "      <td>100010_20190403</td>\n",
       "      <td>04/03/2019 12:00:00 AM</td>\n",
       "      <td>100</td>\n",
       "      <td>Routine - Unscheduled</td>\n",
       "      <td>100010</td>\n",
       "    </tr>\n",
       "    <tr>\n",
       "      <th>2</th>\n",
       "      <td>100017_20190417</td>\n",
       "      <td>04/17/2019 12:00:00 AM</td>\n",
       "      <td>-1</td>\n",
       "      <td>New Ownership</td>\n",
       "      <td>100017</td>\n",
       "    </tr>\n",
       "    <tr>\n",
       "      <th>3</th>\n",
       "      <td>100017_20190816</td>\n",
       "      <td>08/16/2019 12:00:00 AM</td>\n",
       "      <td>91</td>\n",
       "      <td>Routine - Unscheduled</td>\n",
       "      <td>100017</td>\n",
       "    </tr>\n",
       "    <tr>\n",
       "      <th>4</th>\n",
       "      <td>100017_20190826</td>\n",
       "      <td>08/26/2019 12:00:00 AM</td>\n",
       "      <td>-1</td>\n",
       "      <td>Reinspection/Followup</td>\n",
       "      <td>100017</td>\n",
       "    </tr>\n",
       "    <tr>\n",
       "      <th>...</th>\n",
       "      <td>...</td>\n",
       "      <td>...</td>\n",
       "      <td>...</td>\n",
       "      <td>...</td>\n",
       "      <td>...</td>\n",
       "    </tr>\n",
       "    <tr>\n",
       "      <th>26658</th>\n",
       "      <td>999_20180924</td>\n",
       "      <td>09/24/2018 12:00:00 AM</td>\n",
       "      <td>-1</td>\n",
       "      <td>Routine - Scheduled</td>\n",
       "      <td>999</td>\n",
       "    </tr>\n",
       "    <tr>\n",
       "      <th>26659</th>\n",
       "      <td>999_20181102</td>\n",
       "      <td>11/02/2018 12:00:00 AM</td>\n",
       "      <td>-1</td>\n",
       "      <td>Reinspection/Followup</td>\n",
       "      <td>999</td>\n",
       "    </tr>\n",
       "    <tr>\n",
       "      <th>26660</th>\n",
       "      <td>999_20190909</td>\n",
       "      <td>09/09/2019 12:00:00 AM</td>\n",
       "      <td>80</td>\n",
       "      <td>Routine - Unscheduled</td>\n",
       "      <td>999</td>\n",
       "    </tr>\n",
       "    <tr>\n",
       "      <th>26661</th>\n",
       "      <td>99_20171207</td>\n",
       "      <td>12/07/2017 12:00:00 AM</td>\n",
       "      <td>82</td>\n",
       "      <td>Routine - Unscheduled</td>\n",
       "      <td>99</td>\n",
       "    </tr>\n",
       "    <tr>\n",
       "      <th>26662</th>\n",
       "      <td>99_20180808</td>\n",
       "      <td>08/08/2018 12:00:00 AM</td>\n",
       "      <td>84</td>\n",
       "      <td>Routine - Unscheduled</td>\n",
       "      <td>99</td>\n",
       "    </tr>\n",
       "  </tbody>\n",
       "</table>\n",
       "<p>26663 rows × 5 columns</p>\n",
       "</div>"
      ],
      "text/plain": [
       "                   iid                    date  score                   type  \\\n",
       "0      100010_20190329  03/29/2019 12:00:00 AM     -1       New Construction   \n",
       "1      100010_20190403  04/03/2019 12:00:00 AM    100  Routine - Unscheduled   \n",
       "2      100017_20190417  04/17/2019 12:00:00 AM     -1          New Ownership   \n",
       "3      100017_20190816  08/16/2019 12:00:00 AM     91  Routine - Unscheduled   \n",
       "4      100017_20190826  08/26/2019 12:00:00 AM     -1  Reinspection/Followup   \n",
       "...                ...                     ...    ...                    ...   \n",
       "26658     999_20180924  09/24/2018 12:00:00 AM     -1    Routine - Scheduled   \n",
       "26659     999_20181102  11/02/2018 12:00:00 AM     -1  Reinspection/Followup   \n",
       "26660     999_20190909  09/09/2019 12:00:00 AM     80  Routine - Unscheduled   \n",
       "26661      99_20171207  12/07/2017 12:00:00 AM     82  Routine - Unscheduled   \n",
       "26662      99_20180808  08/08/2018 12:00:00 AM     84  Routine - Unscheduled   \n",
       "\n",
       "          bid  \n",
       "0      100010  \n",
       "1      100010  \n",
       "2      100017  \n",
       "3      100017  \n",
       "4      100017  \n",
       "...       ...  \n",
       "26658     999  \n",
       "26659     999  \n",
       "26660     999  \n",
       "26661      99  \n",
       "26662      99  \n",
       "\n",
       "[26663 rows x 5 columns]"
      ]
     },
     "execution_count": 46,
     "metadata": {},
     "output_type": "execute_result"
    }
   ],
   "source": [
    "ins['bid'] = ins['iid'].str.split('_').str[0].astype(int)\n",
    "ins"
   ]
  },
  {
   "cell_type": "code",
   "execution_count": 47,
   "metadata": {
    "deletable": false,
    "editable": false
   },
   "outputs": [
    {
     "data": {
      "text/html": [
       "\n",
       "    \n",
       "    \n",
       "        <p>All tests passed!</p>\n",
       "    \n",
       "    "
      ],
      "text/plain": [
       "\n",
       "    All tests passed!\n",
       "    "
      ]
     },
     "execution_count": 47,
     "metadata": {},
     "output_type": "execute_result"
    }
   ],
   "source": [
    "grader.check(\"q4bi\")"
   ]
  },
  {
   "cell_type": "markdown",
   "metadata": {
    "deletable": false,
    "editable": false
   },
   "source": [
    "**Part 2**\n",
    "\n",
    "<!--\n",
    "BEGIN QUESTION\n",
    "name: q4bii\n",
    "points: 1\n",
    "-->"
   ]
  },
  {
   "cell_type": "code",
   "execution_count": 48,
   "metadata": {},
   "outputs": [
    {
     "data": {
      "text/plain": [
       "6253"
      ]
     },
     "execution_count": 48,
     "metadata": {},
     "output_type": "execute_result"
    }
   ],
   "source": [
    "invalid_bid_count = len(bus['bid'].isin(ins['bid']) == False)\n",
    "invalid_bid_count"
   ]
  },
  {
   "cell_type": "code",
   "execution_count": 49,
   "metadata": {
    "deletable": false,
    "editable": false
   },
   "outputs": [
    {
     "data": {
      "text/html": [
       "\n",
       "    \n",
       "    \n",
       "        <p>All tests passed!</p>\n",
       "    \n",
       "    "
      ],
      "text/plain": [
       "\n",
       "    All tests passed!\n",
       "    "
      ]
     },
     "execution_count": 49,
     "metadata": {},
     "output_type": "execute_result"
    }
   ],
   "source": [
    "grader.check(\"q4bii\")"
   ]
  },
  {
   "cell_type": "markdown",
   "metadata": {
    "deletable": false,
    "editable": false
   },
   "source": [
    "**Part 3**\n",
    "\n",
    "<!--\n",
    "BEGIN QUESTION\n",
    "name: q4biii\n",
    "points: 1\n",
    "-->"
   ]
  },
  {
   "cell_type": "code",
   "execution_count": 50,
   "metadata": {},
   "outputs": [],
   "source": [
    "# True or False: The column ins['bid'] is a foreign key \n",
    "#   referencing the bus['bid'] primary key.\n",
    "\n",
    "q4b_is_foreign_key = True"
   ]
  },
  {
   "cell_type": "code",
   "execution_count": 51,
   "metadata": {
    "deletable": false,
    "editable": false
   },
   "outputs": [
    {
     "data": {
      "text/html": [
       "\n",
       "    \n",
       "    \n",
       "        <p>All tests passed!</p>\n",
       "    \n",
       "    "
      ],
      "text/plain": [
       "\n",
       "    All tests passed!\n",
       "    "
      ]
     },
     "execution_count": 51,
     "metadata": {},
     "output_type": "execute_result"
    }
   ],
   "source": [
    "grader.check(\"q4biii\")"
   ]
  },
  {
   "cell_type": "markdown",
   "metadata": {},
   "source": [
    "<br/><br/><br/>\n",
    "\n",
    "---\n",
    "\n",
    "## Question 4c\n",
    "\n",
    "What if we are interested in a time component of the inspection data?  We need to examine the date column of each inspection. \n",
    "\n",
    "**Part 1:** What is the type of the individual `ins['date']` entries. You may want to grab the very first entry and use the `type` function in python. \n",
    "\n",
    "**Part 2:** Use `pd.to_datetime` to create a new `ins['timestamp']` column containing of `pd.Timestamp` objects.  These will allow us to do more date manipulation.\n",
    "\n",
    "**Part 3:** What are the earliest and latest dates in our inspection data?  *Hint: you can use `min` and `max` on dates of the correct type.*\n",
    "\n",
    "**Part 4:** We probably want to examine the inspections by year. Create an additional `ins['year']` column containing just the year of the inspection.  Consider using `pd.Series.dt.year` to do this.\n",
    "\n",
    "**No python `for` loops or list comprehensions required!**"
   ]
  },
  {
   "cell_type": "markdown",
   "metadata": {
    "deletable": false,
    "editable": false
   },
   "source": [
    "**Part 1**\n",
    "\n",
    "<!--\n",
    "BEGIN QUESTION\n",
    "name: q4ci\n",
    "points: 1\n",
    "-->"
   ]
  },
  {
   "cell_type": "code",
   "execution_count": 52,
   "metadata": {},
   "outputs": [
    {
     "data": {
      "text/plain": [
       "str"
      ]
     },
     "execution_count": 52,
     "metadata": {},
     "output_type": "execute_result"
    }
   ],
   "source": [
    "ins_date_type = type(ins.loc[0,'date'])\n",
    "ins_date_type"
   ]
  },
  {
   "cell_type": "code",
   "execution_count": 53,
   "metadata": {
    "deletable": false,
    "editable": false
   },
   "outputs": [
    {
     "data": {
      "text/html": [
       "\n",
       "    \n",
       "    \n",
       "        <p>All tests passed!</p>\n",
       "    \n",
       "    "
      ],
      "text/plain": [
       "\n",
       "    All tests passed!\n",
       "    "
      ]
     },
     "execution_count": 53,
     "metadata": {},
     "output_type": "execute_result"
    }
   ],
   "source": [
    "grader.check(\"q4ci\")"
   ]
  },
  {
   "cell_type": "markdown",
   "metadata": {
    "deletable": false,
    "editable": false
   },
   "source": [
    "**Part 2**\n",
    "\n",
    "<!--\n",
    "BEGIN QUESTION\n",
    "name: q4cii\n",
    "points: 1\n",
    "-->"
   ]
  },
  {
   "cell_type": "code",
   "execution_count": 54,
   "metadata": {},
   "outputs": [
    {
     "data": {
      "text/html": [
       "<div>\n",
       "<style scoped>\n",
       "    .dataframe tbody tr th:only-of-type {\n",
       "        vertical-align: middle;\n",
       "    }\n",
       "\n",
       "    .dataframe tbody tr th {\n",
       "        vertical-align: top;\n",
       "    }\n",
       "\n",
       "    .dataframe thead th {\n",
       "        text-align: right;\n",
       "    }\n",
       "</style>\n",
       "<table border=\"1\" class=\"dataframe\">\n",
       "  <thead>\n",
       "    <tr style=\"text-align: right;\">\n",
       "      <th></th>\n",
       "      <th>iid</th>\n",
       "      <th>date</th>\n",
       "      <th>score</th>\n",
       "      <th>type</th>\n",
       "      <th>bid</th>\n",
       "      <th>timestamp</th>\n",
       "    </tr>\n",
       "  </thead>\n",
       "  <tbody>\n",
       "    <tr>\n",
       "      <th>0</th>\n",
       "      <td>100010_20190329</td>\n",
       "      <td>03/29/2019 12:00:00 AM</td>\n",
       "      <td>-1</td>\n",
       "      <td>New Construction</td>\n",
       "      <td>100010</td>\n",
       "      <td>2019-03-29</td>\n",
       "    </tr>\n",
       "    <tr>\n",
       "      <th>1</th>\n",
       "      <td>100010_20190403</td>\n",
       "      <td>04/03/2019 12:00:00 AM</td>\n",
       "      <td>100</td>\n",
       "      <td>Routine - Unscheduled</td>\n",
       "      <td>100010</td>\n",
       "      <td>2019-04-03</td>\n",
       "    </tr>\n",
       "    <tr>\n",
       "      <th>2</th>\n",
       "      <td>100017_20190417</td>\n",
       "      <td>04/17/2019 12:00:00 AM</td>\n",
       "      <td>-1</td>\n",
       "      <td>New Ownership</td>\n",
       "      <td>100017</td>\n",
       "      <td>2019-04-17</td>\n",
       "    </tr>\n",
       "    <tr>\n",
       "      <th>3</th>\n",
       "      <td>100017_20190816</td>\n",
       "      <td>08/16/2019 12:00:00 AM</td>\n",
       "      <td>91</td>\n",
       "      <td>Routine - Unscheduled</td>\n",
       "      <td>100017</td>\n",
       "      <td>2019-08-16</td>\n",
       "    </tr>\n",
       "    <tr>\n",
       "      <th>4</th>\n",
       "      <td>100017_20190826</td>\n",
       "      <td>08/26/2019 12:00:00 AM</td>\n",
       "      <td>-1</td>\n",
       "      <td>Reinspection/Followup</td>\n",
       "      <td>100017</td>\n",
       "      <td>2019-08-26</td>\n",
       "    </tr>\n",
       "    <tr>\n",
       "      <th>...</th>\n",
       "      <td>...</td>\n",
       "      <td>...</td>\n",
       "      <td>...</td>\n",
       "      <td>...</td>\n",
       "      <td>...</td>\n",
       "      <td>...</td>\n",
       "    </tr>\n",
       "    <tr>\n",
       "      <th>26658</th>\n",
       "      <td>999_20180924</td>\n",
       "      <td>09/24/2018 12:00:00 AM</td>\n",
       "      <td>-1</td>\n",
       "      <td>Routine - Scheduled</td>\n",
       "      <td>999</td>\n",
       "      <td>2018-09-24</td>\n",
       "    </tr>\n",
       "    <tr>\n",
       "      <th>26659</th>\n",
       "      <td>999_20181102</td>\n",
       "      <td>11/02/2018 12:00:00 AM</td>\n",
       "      <td>-1</td>\n",
       "      <td>Reinspection/Followup</td>\n",
       "      <td>999</td>\n",
       "      <td>2018-11-02</td>\n",
       "    </tr>\n",
       "    <tr>\n",
       "      <th>26660</th>\n",
       "      <td>999_20190909</td>\n",
       "      <td>09/09/2019 12:00:00 AM</td>\n",
       "      <td>80</td>\n",
       "      <td>Routine - Unscheduled</td>\n",
       "      <td>999</td>\n",
       "      <td>2019-09-09</td>\n",
       "    </tr>\n",
       "    <tr>\n",
       "      <th>26661</th>\n",
       "      <td>99_20171207</td>\n",
       "      <td>12/07/2017 12:00:00 AM</td>\n",
       "      <td>82</td>\n",
       "      <td>Routine - Unscheduled</td>\n",
       "      <td>99</td>\n",
       "      <td>2017-12-07</td>\n",
       "    </tr>\n",
       "    <tr>\n",
       "      <th>26662</th>\n",
       "      <td>99_20180808</td>\n",
       "      <td>08/08/2018 12:00:00 AM</td>\n",
       "      <td>84</td>\n",
       "      <td>Routine - Unscheduled</td>\n",
       "      <td>99</td>\n",
       "      <td>2018-08-08</td>\n",
       "    </tr>\n",
       "  </tbody>\n",
       "</table>\n",
       "<p>26663 rows × 6 columns</p>\n",
       "</div>"
      ],
      "text/plain": [
       "                   iid                    date  score                   type  \\\n",
       "0      100010_20190329  03/29/2019 12:00:00 AM     -1       New Construction   \n",
       "1      100010_20190403  04/03/2019 12:00:00 AM    100  Routine - Unscheduled   \n",
       "2      100017_20190417  04/17/2019 12:00:00 AM     -1          New Ownership   \n",
       "3      100017_20190816  08/16/2019 12:00:00 AM     91  Routine - Unscheduled   \n",
       "4      100017_20190826  08/26/2019 12:00:00 AM     -1  Reinspection/Followup   \n",
       "...                ...                     ...    ...                    ...   \n",
       "26658     999_20180924  09/24/2018 12:00:00 AM     -1    Routine - Scheduled   \n",
       "26659     999_20181102  11/02/2018 12:00:00 AM     -1  Reinspection/Followup   \n",
       "26660     999_20190909  09/09/2019 12:00:00 AM     80  Routine - Unscheduled   \n",
       "26661      99_20171207  12/07/2017 12:00:00 AM     82  Routine - Unscheduled   \n",
       "26662      99_20180808  08/08/2018 12:00:00 AM     84  Routine - Unscheduled   \n",
       "\n",
       "          bid  timestamp  \n",
       "0      100010 2019-03-29  \n",
       "1      100010 2019-04-03  \n",
       "2      100017 2019-04-17  \n",
       "3      100017 2019-08-16  \n",
       "4      100017 2019-08-26  \n",
       "...       ...        ...  \n",
       "26658     999 2018-09-24  \n",
       "26659     999 2018-11-02  \n",
       "26660     999 2019-09-09  \n",
       "26661      99 2017-12-07  \n",
       "26662      99 2018-08-08  \n",
       "\n",
       "[26663 rows x 6 columns]"
      ]
     },
     "execution_count": 54,
     "metadata": {},
     "output_type": "execute_result"
    }
   ],
   "source": [
    "ins['timestamp']= pd.to_datetime(ins['date'])\n",
    "ins"
   ]
  },
  {
   "cell_type": "code",
   "execution_count": 55,
   "metadata": {
    "deletable": false,
    "editable": false
   },
   "outputs": [
    {
     "data": {
      "text/html": [
       "\n",
       "    \n",
       "    \n",
       "        <p>All tests passed!</p>\n",
       "    \n",
       "    "
      ],
      "text/plain": [
       "\n",
       "    All tests passed!\n",
       "    "
      ]
     },
     "execution_count": 55,
     "metadata": {},
     "output_type": "execute_result"
    }
   ],
   "source": [
    "grader.check(\"q4cii\")"
   ]
  },
  {
   "cell_type": "markdown",
   "metadata": {
    "deletable": false,
    "editable": false
   },
   "source": [
    "**Part 3**\n",
    "\n",
    "<!--\n",
    "BEGIN QUESTION\n",
    "name: q4ciii\n",
    "points: 1\n",
    "-->"
   ]
  },
  {
   "cell_type": "code",
   "execution_count": 56,
   "metadata": {},
   "outputs": [
    {
     "name": "stdout",
     "output_type": "stream",
     "text": [
      "Earliest Date: 2016-10-04 00:00:00\n",
      "Latest Date: 2019-11-28 00:00:00\n"
     ]
    }
   ],
   "source": [
    "earliest_date = min(ins['timestamp'])\n",
    "latest_date = max(ins['timestamp'])\n",
    "\n",
    "print(\"Earliest Date:\", earliest_date)\n",
    "print(\"Latest Date:\", latest_date)"
   ]
  },
  {
   "cell_type": "code",
   "execution_count": 57,
   "metadata": {
    "deletable": false,
    "editable": false
   },
   "outputs": [
    {
     "data": {
      "text/html": [
       "\n",
       "    \n",
       "    \n",
       "        <p>All tests passed!</p>\n",
       "    \n",
       "    "
      ],
      "text/plain": [
       "\n",
       "    All tests passed!\n",
       "    "
      ]
     },
     "execution_count": 57,
     "metadata": {},
     "output_type": "execute_result"
    }
   ],
   "source": [
    "grader.check(\"q4ciii\")"
   ]
  },
  {
   "cell_type": "markdown",
   "metadata": {
    "deletable": false,
    "editable": false
   },
   "source": [
    "**Part 4**\n",
    "\n",
    "<!--\n",
    "BEGIN QUESTION\n",
    "name: q4civ\n",
    "points: 1\n",
    "-->"
   ]
  },
  {
   "cell_type": "code",
   "execution_count": 58,
   "metadata": {},
   "outputs": [
    {
     "data": {
      "text/html": [
       "<div>\n",
       "<style scoped>\n",
       "    .dataframe tbody tr th:only-of-type {\n",
       "        vertical-align: middle;\n",
       "    }\n",
       "\n",
       "    .dataframe tbody tr th {\n",
       "        vertical-align: top;\n",
       "    }\n",
       "\n",
       "    .dataframe thead th {\n",
       "        text-align: right;\n",
       "    }\n",
       "</style>\n",
       "<table border=\"1\" class=\"dataframe\">\n",
       "  <thead>\n",
       "    <tr style=\"text-align: right;\">\n",
       "      <th></th>\n",
       "      <th>iid</th>\n",
       "      <th>date</th>\n",
       "      <th>score</th>\n",
       "      <th>type</th>\n",
       "      <th>bid</th>\n",
       "      <th>timestamp</th>\n",
       "      <th>year</th>\n",
       "    </tr>\n",
       "  </thead>\n",
       "  <tbody>\n",
       "    <tr>\n",
       "      <th>0</th>\n",
       "      <td>100010_20190329</td>\n",
       "      <td>03/29/2019 12:00:00 AM</td>\n",
       "      <td>-1</td>\n",
       "      <td>New Construction</td>\n",
       "      <td>100010</td>\n",
       "      <td>2019-03-29</td>\n",
       "      <td>2019</td>\n",
       "    </tr>\n",
       "    <tr>\n",
       "      <th>1</th>\n",
       "      <td>100010_20190403</td>\n",
       "      <td>04/03/2019 12:00:00 AM</td>\n",
       "      <td>100</td>\n",
       "      <td>Routine - Unscheduled</td>\n",
       "      <td>100010</td>\n",
       "      <td>2019-04-03</td>\n",
       "      <td>2019</td>\n",
       "    </tr>\n",
       "    <tr>\n",
       "      <th>2</th>\n",
       "      <td>100017_20190417</td>\n",
       "      <td>04/17/2019 12:00:00 AM</td>\n",
       "      <td>-1</td>\n",
       "      <td>New Ownership</td>\n",
       "      <td>100017</td>\n",
       "      <td>2019-04-17</td>\n",
       "      <td>2019</td>\n",
       "    </tr>\n",
       "    <tr>\n",
       "      <th>3</th>\n",
       "      <td>100017_20190816</td>\n",
       "      <td>08/16/2019 12:00:00 AM</td>\n",
       "      <td>91</td>\n",
       "      <td>Routine - Unscheduled</td>\n",
       "      <td>100017</td>\n",
       "      <td>2019-08-16</td>\n",
       "      <td>2019</td>\n",
       "    </tr>\n",
       "    <tr>\n",
       "      <th>4</th>\n",
       "      <td>100017_20190826</td>\n",
       "      <td>08/26/2019 12:00:00 AM</td>\n",
       "      <td>-1</td>\n",
       "      <td>Reinspection/Followup</td>\n",
       "      <td>100017</td>\n",
       "      <td>2019-08-26</td>\n",
       "      <td>2019</td>\n",
       "    </tr>\n",
       "    <tr>\n",
       "      <th>...</th>\n",
       "      <td>...</td>\n",
       "      <td>...</td>\n",
       "      <td>...</td>\n",
       "      <td>...</td>\n",
       "      <td>...</td>\n",
       "      <td>...</td>\n",
       "      <td>...</td>\n",
       "    </tr>\n",
       "    <tr>\n",
       "      <th>26658</th>\n",
       "      <td>999_20180924</td>\n",
       "      <td>09/24/2018 12:00:00 AM</td>\n",
       "      <td>-1</td>\n",
       "      <td>Routine - Scheduled</td>\n",
       "      <td>999</td>\n",
       "      <td>2018-09-24</td>\n",
       "      <td>2018</td>\n",
       "    </tr>\n",
       "    <tr>\n",
       "      <th>26659</th>\n",
       "      <td>999_20181102</td>\n",
       "      <td>11/02/2018 12:00:00 AM</td>\n",
       "      <td>-1</td>\n",
       "      <td>Reinspection/Followup</td>\n",
       "      <td>999</td>\n",
       "      <td>2018-11-02</td>\n",
       "      <td>2018</td>\n",
       "    </tr>\n",
       "    <tr>\n",
       "      <th>26660</th>\n",
       "      <td>999_20190909</td>\n",
       "      <td>09/09/2019 12:00:00 AM</td>\n",
       "      <td>80</td>\n",
       "      <td>Routine - Unscheduled</td>\n",
       "      <td>999</td>\n",
       "      <td>2019-09-09</td>\n",
       "      <td>2019</td>\n",
       "    </tr>\n",
       "    <tr>\n",
       "      <th>26661</th>\n",
       "      <td>99_20171207</td>\n",
       "      <td>12/07/2017 12:00:00 AM</td>\n",
       "      <td>82</td>\n",
       "      <td>Routine - Unscheduled</td>\n",
       "      <td>99</td>\n",
       "      <td>2017-12-07</td>\n",
       "      <td>2017</td>\n",
       "    </tr>\n",
       "    <tr>\n",
       "      <th>26662</th>\n",
       "      <td>99_20180808</td>\n",
       "      <td>08/08/2018 12:00:00 AM</td>\n",
       "      <td>84</td>\n",
       "      <td>Routine - Unscheduled</td>\n",
       "      <td>99</td>\n",
       "      <td>2018-08-08</td>\n",
       "      <td>2018</td>\n",
       "    </tr>\n",
       "  </tbody>\n",
       "</table>\n",
       "<p>26663 rows × 7 columns</p>\n",
       "</div>"
      ],
      "text/plain": [
       "                   iid                    date  score                   type  \\\n",
       "0      100010_20190329  03/29/2019 12:00:00 AM     -1       New Construction   \n",
       "1      100010_20190403  04/03/2019 12:00:00 AM    100  Routine - Unscheduled   \n",
       "2      100017_20190417  04/17/2019 12:00:00 AM     -1          New Ownership   \n",
       "3      100017_20190816  08/16/2019 12:00:00 AM     91  Routine - Unscheduled   \n",
       "4      100017_20190826  08/26/2019 12:00:00 AM     -1  Reinspection/Followup   \n",
       "...                ...                     ...    ...                    ...   \n",
       "26658     999_20180924  09/24/2018 12:00:00 AM     -1    Routine - Scheduled   \n",
       "26659     999_20181102  11/02/2018 12:00:00 AM     -1  Reinspection/Followup   \n",
       "26660     999_20190909  09/09/2019 12:00:00 AM     80  Routine - Unscheduled   \n",
       "26661      99_20171207  12/07/2017 12:00:00 AM     82  Routine - Unscheduled   \n",
       "26662      99_20180808  08/08/2018 12:00:00 AM     84  Routine - Unscheduled   \n",
       "\n",
       "          bid  timestamp  year  \n",
       "0      100010 2019-03-29  2019  \n",
       "1      100010 2019-04-03  2019  \n",
       "2      100017 2019-04-17  2019  \n",
       "3      100017 2019-08-16  2019  \n",
       "4      100017 2019-08-26  2019  \n",
       "...       ...        ...   ...  \n",
       "26658     999 2018-09-24  2018  \n",
       "26659     999 2018-11-02  2018  \n",
       "26660     999 2019-09-09  2019  \n",
       "26661      99 2017-12-07  2017  \n",
       "26662      99 2018-08-08  2018  \n",
       "\n",
       "[26663 rows x 7 columns]"
      ]
     },
     "execution_count": 58,
     "metadata": {},
     "output_type": "execute_result"
    }
   ],
   "source": [
    "ins['year'] = ins['timestamp'].dt.year\n",
    "ins"
   ]
  },
  {
   "cell_type": "code",
   "execution_count": 59,
   "metadata": {
    "deletable": false,
    "editable": false
   },
   "outputs": [
    {
     "data": {
      "text/html": [
       "\n",
       "    \n",
       "    \n",
       "        <p>All tests passed!</p>\n",
       "    \n",
       "    "
      ],
      "text/plain": [
       "\n",
       "    All tests passed!\n",
       "    "
      ]
     },
     "execution_count": 59,
     "metadata": {},
     "output_type": "execute_result"
    }
   ],
   "source": [
    "grader.check(\"q4civ\")"
   ]
  },
  {
   "cell_type": "code",
   "execution_count": 60,
   "metadata": {},
   "outputs": [
    {
     "data": {
      "text/html": [
       "<div>\n",
       "<style scoped>\n",
       "    .dataframe tbody tr th:only-of-type {\n",
       "        vertical-align: middle;\n",
       "    }\n",
       "\n",
       "    .dataframe tbody tr th {\n",
       "        vertical-align: top;\n",
       "    }\n",
       "\n",
       "    .dataframe thead th {\n",
       "        text-align: right;\n",
       "    }\n",
       "</style>\n",
       "<table border=\"1\" class=\"dataframe\">\n",
       "  <thead>\n",
       "    <tr style=\"text-align: right;\">\n",
       "      <th></th>\n",
       "      <th>iid</th>\n",
       "      <th>date</th>\n",
       "      <th>score</th>\n",
       "      <th>type</th>\n",
       "      <th>bid</th>\n",
       "      <th>timestamp</th>\n",
       "      <th>year</th>\n",
       "    </tr>\n",
       "  </thead>\n",
       "  <tbody>\n",
       "    <tr>\n",
       "      <th>0</th>\n",
       "      <td>100010_20190329</td>\n",
       "      <td>03/29/2019 12:00:00 AM</td>\n",
       "      <td>-1</td>\n",
       "      <td>New Construction</td>\n",
       "      <td>100010</td>\n",
       "      <td>2019-03-29</td>\n",
       "      <td>2019</td>\n",
       "    </tr>\n",
       "    <tr>\n",
       "      <th>1</th>\n",
       "      <td>100010_20190403</td>\n",
       "      <td>04/03/2019 12:00:00 AM</td>\n",
       "      <td>100</td>\n",
       "      <td>Routine - Unscheduled</td>\n",
       "      <td>100010</td>\n",
       "      <td>2019-04-03</td>\n",
       "      <td>2019</td>\n",
       "    </tr>\n",
       "    <tr>\n",
       "      <th>2</th>\n",
       "      <td>100017_20190417</td>\n",
       "      <td>04/17/2019 12:00:00 AM</td>\n",
       "      <td>-1</td>\n",
       "      <td>New Ownership</td>\n",
       "      <td>100017</td>\n",
       "      <td>2019-04-17</td>\n",
       "      <td>2019</td>\n",
       "    </tr>\n",
       "    <tr>\n",
       "      <th>3</th>\n",
       "      <td>100017_20190816</td>\n",
       "      <td>08/16/2019 12:00:00 AM</td>\n",
       "      <td>91</td>\n",
       "      <td>Routine - Unscheduled</td>\n",
       "      <td>100017</td>\n",
       "      <td>2019-08-16</td>\n",
       "      <td>2019</td>\n",
       "    </tr>\n",
       "    <tr>\n",
       "      <th>4</th>\n",
       "      <td>100017_20190826</td>\n",
       "      <td>08/26/2019 12:00:00 AM</td>\n",
       "      <td>-1</td>\n",
       "      <td>Reinspection/Followup</td>\n",
       "      <td>100017</td>\n",
       "      <td>2019-08-26</td>\n",
       "      <td>2019</td>\n",
       "    </tr>\n",
       "  </tbody>\n",
       "</table>\n",
       "</div>"
      ],
      "text/plain": [
       "               iid                    date  score                   type  \\\n",
       "0  100010_20190329  03/29/2019 12:00:00 AM     -1       New Construction   \n",
       "1  100010_20190403  04/03/2019 12:00:00 AM    100  Routine - Unscheduled   \n",
       "2  100017_20190417  04/17/2019 12:00:00 AM     -1          New Ownership   \n",
       "3  100017_20190816  08/16/2019 12:00:00 AM     91  Routine - Unscheduled   \n",
       "4  100017_20190826  08/26/2019 12:00:00 AM     -1  Reinspection/Followup   \n",
       "\n",
       "      bid  timestamp  year  \n",
       "0  100010 2019-03-29  2019  \n",
       "1  100010 2019-04-03  2019  \n",
       "2  100017 2019-04-17  2019  \n",
       "3  100017 2019-08-16  2019  \n",
       "4  100017 2019-08-26  2019  "
      ]
     },
     "execution_count": 60,
     "metadata": {},
     "output_type": "execute_result"
    }
   ],
   "source": [
    "ins.head()"
   ]
  },
  {
   "cell_type": "markdown",
   "metadata": {},
   "source": [
    "<br/><br/><br/>\n",
    "\n",
    "---\n",
    "\n",
    "## Question 4d\n",
    "\n",
    "What is the relationship between the type of inspection over the 2016 to 2019 timeframe? \n",
    "\n",
    "**Part 1**\n",
    "\n",
    "Construct the following table by\n",
    "1. Using the `pivot_table` containing the number (`size`) of inspections for the given `type` and `year`.\n",
    "1. Adding an extra `Total` column to the result using `sum`\n",
    "1. Sort the results in descending order by the `Total`.\n",
    "\n",
    "<table border=\"1\" class=\"dataframe\">  <thead>    <tr style=\"text-align: right;\">      <th>year</th>      <th>2016</th>      <th>2017</th>      <th>2018</th>      <th>2019</th>      <th>Total</th>    </tr>    <tr>      <th>type</th>      <th></th>      <th></th>      <th></th>      <th></th>      <th></th>    </tr>  </thead>  <tbody>    <tr>      <th>Routine - Unscheduled</th>      <td>966</td>      <td>4057</td>      <td>4373</td>      <td>4681</td>      <td>14077</td>    </tr>    <tr>      <th>Reinspection/Followup</th>      <td>445</td>      <td>1767</td>      <td>1935</td>      <td>2292</td>      <td>6439</td>    </tr>    <tr>      <th>New Ownership</th>      <td>99</td>      <td>506</td>      <td>528</td>      <td>459</td>      <td>1592</td>    </tr>    <tr>      <th>Complaint</th>      <td>91</td>      <td>418</td>      <td>512</td>      <td>437</td>      <td>1458</td>    </tr>    <tr>      <th>New Construction</th>      <td>102</td>      <td>485</td>      <td>218</td>      <td>189</td>      <td>994</td>    </tr>    <tr>      <th>Non-inspection site visit</th>      <td>51</td>      <td>276</td>      <td>253</td>      <td>231</td>      <td>811</td>    </tr>    <tr>      <th>New Ownership - Followup</th>      <td>0</td>      <td>45</td>      <td>219</td>      <td>235</td>      <td>499</td>    </tr>    <tr>      <th>Structural Inspection</th>      <td>1</td>      <td>153</td>      <td>50</td>      <td>190</td>      <td>394</td>    </tr>    <tr>      <th>Complaint Reinspection/Followup</th>      <td>19</td>      <td>68</td>      <td>70</td>      <td>70</td>      <td>227</td>    </tr>    <tr>      <th>Foodborne Illness Investigation</th>      <td>1</td>      <td>29</td>      <td>50</td>      <td>35</td>      <td>115</td>    </tr>    <tr>      <th>Routine - Scheduled</th>      <td>0</td>      <td>9</td>      <td>8</td>      <td>29</td>      <td>46</td>    </tr>    <tr>      <th>Administrative or Document Review</th>      <td>2</td>      <td>1</td>      <td>1</td>      <td>0</td>      <td>4</td>    </tr>    <tr>      <th>Multi-agency Investigation</th>      <td>0</td>      <td>0</td>      <td>1</td>      <td>2</td>      <td>3</td>    </tr>    <tr>      <th>Special Event</th>      <td>0</td>      <td>3</td>      <td>0</td>      <td>0</td>      <td>3</td>    </tr>    <tr>      <th>Community Health Assessment</th>      <td>1</td>      <td>0</td>      <td>0</td>      <td>0</td>      <td>1</td>    </tr>  </tbody></table>\n",
    "\n",
    "**No python `for` loops or list comprehensions required!**"
   ]
  },
  {
   "cell_type": "code",
   "execution_count": 61,
   "metadata": {},
   "outputs": [
    {
     "data": {
      "text/html": [
       "<div>\n",
       "<style scoped>\n",
       "    .dataframe tbody tr th:only-of-type {\n",
       "        vertical-align: middle;\n",
       "    }\n",
       "\n",
       "    .dataframe tbody tr th {\n",
       "        vertical-align: top;\n",
       "    }\n",
       "\n",
       "    .dataframe thead th {\n",
       "        text-align: right;\n",
       "    }\n",
       "</style>\n",
       "<table border=\"1\" class=\"dataframe\">\n",
       "  <thead>\n",
       "    <tr style=\"text-align: right;\">\n",
       "      <th>year</th>\n",
       "      <th>2016</th>\n",
       "      <th>2017</th>\n",
       "      <th>2018</th>\n",
       "      <th>2019</th>\n",
       "      <th>Total</th>\n",
       "    </tr>\n",
       "    <tr>\n",
       "      <th>type</th>\n",
       "      <th></th>\n",
       "      <th></th>\n",
       "      <th></th>\n",
       "      <th></th>\n",
       "      <th></th>\n",
       "    </tr>\n",
       "  </thead>\n",
       "  <tbody>\n",
       "    <tr>\n",
       "      <th>Routine - Unscheduled</th>\n",
       "      <td>966</td>\n",
       "      <td>4057</td>\n",
       "      <td>4373</td>\n",
       "      <td>4681</td>\n",
       "      <td>14077</td>\n",
       "    </tr>\n",
       "    <tr>\n",
       "      <th>Reinspection/Followup</th>\n",
       "      <td>445</td>\n",
       "      <td>1767</td>\n",
       "      <td>1935</td>\n",
       "      <td>2292</td>\n",
       "      <td>6439</td>\n",
       "    </tr>\n",
       "    <tr>\n",
       "      <th>New Ownership</th>\n",
       "      <td>99</td>\n",
       "      <td>506</td>\n",
       "      <td>528</td>\n",
       "      <td>459</td>\n",
       "      <td>1592</td>\n",
       "    </tr>\n",
       "    <tr>\n",
       "      <th>Complaint</th>\n",
       "      <td>91</td>\n",
       "      <td>418</td>\n",
       "      <td>512</td>\n",
       "      <td>437</td>\n",
       "      <td>1458</td>\n",
       "    </tr>\n",
       "    <tr>\n",
       "      <th>New Construction</th>\n",
       "      <td>102</td>\n",
       "      <td>485</td>\n",
       "      <td>218</td>\n",
       "      <td>189</td>\n",
       "      <td>994</td>\n",
       "    </tr>\n",
       "    <tr>\n",
       "      <th>Non-inspection site visit</th>\n",
       "      <td>51</td>\n",
       "      <td>276</td>\n",
       "      <td>253</td>\n",
       "      <td>231</td>\n",
       "      <td>811</td>\n",
       "    </tr>\n",
       "    <tr>\n",
       "      <th>New Ownership - Followup</th>\n",
       "      <td>0</td>\n",
       "      <td>45</td>\n",
       "      <td>219</td>\n",
       "      <td>235</td>\n",
       "      <td>499</td>\n",
       "    </tr>\n",
       "    <tr>\n",
       "      <th>Structural Inspection</th>\n",
       "      <td>1</td>\n",
       "      <td>153</td>\n",
       "      <td>50</td>\n",
       "      <td>190</td>\n",
       "      <td>394</td>\n",
       "    </tr>\n",
       "    <tr>\n",
       "      <th>Complaint Reinspection/Followup</th>\n",
       "      <td>19</td>\n",
       "      <td>68</td>\n",
       "      <td>70</td>\n",
       "      <td>70</td>\n",
       "      <td>227</td>\n",
       "    </tr>\n",
       "    <tr>\n",
       "      <th>Foodborne Illness Investigation</th>\n",
       "      <td>1</td>\n",
       "      <td>29</td>\n",
       "      <td>50</td>\n",
       "      <td>35</td>\n",
       "      <td>115</td>\n",
       "    </tr>\n",
       "    <tr>\n",
       "      <th>Routine - Scheduled</th>\n",
       "      <td>0</td>\n",
       "      <td>9</td>\n",
       "      <td>8</td>\n",
       "      <td>29</td>\n",
       "      <td>46</td>\n",
       "    </tr>\n",
       "    <tr>\n",
       "      <th>Administrative or Document Review</th>\n",
       "      <td>2</td>\n",
       "      <td>1</td>\n",
       "      <td>1</td>\n",
       "      <td>0</td>\n",
       "      <td>4</td>\n",
       "    </tr>\n",
       "    <tr>\n",
       "      <th>Multi-agency Investigation</th>\n",
       "      <td>0</td>\n",
       "      <td>0</td>\n",
       "      <td>1</td>\n",
       "      <td>2</td>\n",
       "      <td>3</td>\n",
       "    </tr>\n",
       "    <tr>\n",
       "      <th>Special Event</th>\n",
       "      <td>0</td>\n",
       "      <td>3</td>\n",
       "      <td>0</td>\n",
       "      <td>0</td>\n",
       "      <td>3</td>\n",
       "    </tr>\n",
       "    <tr>\n",
       "      <th>Community Health Assessment</th>\n",
       "      <td>1</td>\n",
       "      <td>0</td>\n",
       "      <td>0</td>\n",
       "      <td>0</td>\n",
       "      <td>1</td>\n",
       "    </tr>\n",
       "  </tbody>\n",
       "</table>\n",
       "</div>"
      ],
      "text/plain": [
       "year                               2016  2017  2018  2019  Total\n",
       "type                                                            \n",
       "Routine - Unscheduled               966  4057  4373  4681  14077\n",
       "Reinspection/Followup               445  1767  1935  2292   6439\n",
       "New Ownership                        99   506   528   459   1592\n",
       "Complaint                            91   418   512   437   1458\n",
       "New Construction                    102   485   218   189    994\n",
       "Non-inspection site visit            51   276   253   231    811\n",
       "New Ownership - Followup              0    45   219   235    499\n",
       "Structural Inspection                 1   153    50   190    394\n",
       "Complaint Reinspection/Followup      19    68    70    70    227\n",
       "Foodborne Illness Investigation       1    29    50    35    115\n",
       "Routine - Scheduled                   0     9     8    29     46\n",
       "Administrative or Document Review     2     1     1     0      4\n",
       "Multi-agency Investigation            0     0     1     2      3\n",
       "Special Event                         0     3     0     0      3\n",
       "Community Health Assessment           1     0     0     0      1"
      ]
     },
     "execution_count": 61,
     "metadata": {},
     "output_type": "execute_result"
    }
   ],
   "source": [
    "ins_pivot = ins.pivot_table(index='type', columns='year', aggfunc='size',fill_value=0)\n",
    "ins_pivot['Total'] = ins_pivot.sum(axis=1)\n",
    "\n",
    "ins_pivot_sorted = ins_pivot.sort_values('Total', ascending=False)\n",
    "ins_pivot_sorted"
   ]
  },
  {
   "cell_type": "code",
   "execution_count": 62,
   "metadata": {
    "deletable": false,
    "editable": false
   },
   "outputs": [
    {
     "data": {
      "text/html": [
       "\n",
       "    \n",
       "    \n",
       "        <p>All tests passed!</p>\n",
       "    \n",
       "    "
      ],
      "text/plain": [
       "\n",
       "    All tests passed!\n",
       "    "
      ]
     },
     "execution_count": 62,
     "metadata": {},
     "output_type": "execute_result"
    }
   ],
   "source": [
    "grader.check(\"q4di\")"
   ]
  },
  {
   "cell_type": "markdown",
   "metadata": {
    "deletable": false,
    "editable": false
   },
   "source": [
    "**Part 2**\n",
    "\n",
    "Based on the above analysis, which year appears to have had a lot of businesses in newly constructed buildings?\n",
    "<!--\n",
    "BEGIN QUESTION\n",
    "name: q4dii\n",
    "points: 2\n",
    "-->"
   ]
  },
  {
   "cell_type": "code",
   "execution_count": 63,
   "metadata": {},
   "outputs": [],
   "source": [
    "year_of_new_construction = 2017"
   ]
  },
  {
   "cell_type": "code",
   "execution_count": 64,
   "metadata": {
    "deletable": false,
    "editable": false
   },
   "outputs": [
    {
     "data": {
      "text/html": [
       "\n",
       "    \n",
       "    \n",
       "        <p>All tests passed!</p>\n",
       "    \n",
       "    "
      ],
      "text/plain": [
       "\n",
       "    All tests passed!\n",
       "    "
      ]
     },
     "execution_count": 64,
     "metadata": {},
     "output_type": "execute_result"
    }
   ],
   "source": [
    "grader.check(\"q4dii\")"
   ]
  },
  {
   "cell_type": "markdown",
   "metadata": {},
   "source": [
    "<br/><br/><br/>\n",
    "\n",
    "---\n",
    "\n",
    "## Question 4e\n",
    "\n",
    "Let's examine the inspection scores `ins['score']`\n",
    "\n"
   ]
  },
  {
   "cell_type": "code",
   "execution_count": 65,
   "metadata": {},
   "outputs": [
    {
     "data": {
      "text/plain": [
       "-1      12632\n",
       " 100     1993\n",
       " 96      1681\n",
       " 92      1260\n",
       " 94      1250\n",
       "Name: score, dtype: int64"
      ]
     },
     "execution_count": 65,
     "metadata": {},
     "output_type": "execute_result"
    }
   ],
   "source": [
    "ins['score'].value_counts().head()"
   ]
  },
  {
   "cell_type": "markdown",
   "metadata": {},
   "source": [
    "There are a large number of inspections with the `'score'` of `-1`.   These are probably missing values.  Let's see what type of inspections have scores and which do not. Create the following dataframe using steps similar to the previous question, and assign it to to the variable `ins_missing_score_pivot`.\n",
    "\n",
    "You should observe that inspection scores appear only to be assigned to `Routine - Unscheduled` inspections.\n",
    "\n",
    "\n",
    "<table border=\"1\" class=\"dataframe\">  <thead>    <tr style=\"text-align: right;\">      <th>Missing Score</th>      <th>False</th>      <th>True</th>      <th>Total</th>    </tr>    <tr>      <th>type</th>      <th></th>      <th></th>      <th></th>    </tr>  </thead>  <tbody>    <tr>      <th>Routine - Unscheduled</th>      <td>14031</td>      <td>46</td>      <td>14077</td>    </tr>    <tr>      <th>Reinspection/Followup</th>      <td>0</td>      <td>6439</td>      <td>6439</td>    </tr>    <tr>      <th>New Ownership</th>      <td>0</td>      <td>1592</td>      <td>1592</td>    </tr>    <tr>      <th>Complaint</th>      <td>0</td>      <td>1458</td>      <td>1458</td>    </tr>    <tr>      <th>New Construction</th>      <td>0</td>      <td>994</td>      <td>994</td>    </tr>    <tr>      <th>Non-inspection site visit</th>      <td>0</td>      <td>811</td>      <td>811</td>    </tr>    <tr>      <th>New Ownership - Followup</th>      <td>0</td>      <td>499</td>      <td>499</td>    </tr>    <tr>      <th>Structural Inspection</th>      <td>0</td>      <td>394</td>      <td>394</td>    </tr>    <tr>      <th>Complaint Reinspection/Followup</th>      <td>0</td>      <td>227</td>      <td>227</td>    </tr>    <tr>      <th>Foodborne Illness Investigation</th>      <td>0</td>      <td>115</td>      <td>115</td>    </tr>    <tr>      <th>Routine - Scheduled</th>      <td>0</td>      <td>46</td>      <td>46</td>    </tr>    <tr>      <th>Administrative or Document Review</th>      <td>0</td>      <td>4</td>      <td>4</td>    </tr>    <tr>      <th>Multi-agency Investigation</th>      <td>0</td>      <td>3</td>      <td>3</td>    </tr>    <tr>      <th>Special Event</th>      <td>0</td>      <td>3</td>      <td>3</td>    </tr>    <tr>      <th>Community Health Assessment</th>      <td>0</td>      <td>1</td>      <td>1</td>    </tr>  </tbody></table>\n",
    "\n"
   ]
  },
  {
   "cell_type": "code",
   "execution_count": 66,
   "metadata": {},
   "outputs": [
    {
     "data": {
      "text/html": [
       "<div>\n",
       "<style scoped>\n",
       "    .dataframe tbody tr th:only-of-type {\n",
       "        vertical-align: middle;\n",
       "    }\n",
       "\n",
       "    .dataframe tbody tr th {\n",
       "        vertical-align: top;\n",
       "    }\n",
       "\n",
       "    .dataframe thead th {\n",
       "        text-align: right;\n",
       "    }\n",
       "</style>\n",
       "<table border=\"1\" class=\"dataframe\">\n",
       "  <thead>\n",
       "    <tr style=\"text-align: right;\">\n",
       "      <th>Missing Score</th>\n",
       "      <th>False</th>\n",
       "      <th>True</th>\n",
       "      <th>Total</th>\n",
       "    </tr>\n",
       "    <tr>\n",
       "      <th>type</th>\n",
       "      <th></th>\n",
       "      <th></th>\n",
       "      <th></th>\n",
       "    </tr>\n",
       "  </thead>\n",
       "  <tbody>\n",
       "    <tr>\n",
       "      <th>Routine - Unscheduled</th>\n",
       "      <td>14031</td>\n",
       "      <td>46</td>\n",
       "      <td>14077</td>\n",
       "    </tr>\n",
       "    <tr>\n",
       "      <th>Reinspection/Followup</th>\n",
       "      <td>0</td>\n",
       "      <td>6439</td>\n",
       "      <td>6439</td>\n",
       "    </tr>\n",
       "    <tr>\n",
       "      <th>New Ownership</th>\n",
       "      <td>0</td>\n",
       "      <td>1592</td>\n",
       "      <td>1592</td>\n",
       "    </tr>\n",
       "    <tr>\n",
       "      <th>Complaint</th>\n",
       "      <td>0</td>\n",
       "      <td>1458</td>\n",
       "      <td>1458</td>\n",
       "    </tr>\n",
       "    <tr>\n",
       "      <th>New Construction</th>\n",
       "      <td>0</td>\n",
       "      <td>994</td>\n",
       "      <td>994</td>\n",
       "    </tr>\n",
       "    <tr>\n",
       "      <th>Non-inspection site visit</th>\n",
       "      <td>0</td>\n",
       "      <td>811</td>\n",
       "      <td>811</td>\n",
       "    </tr>\n",
       "    <tr>\n",
       "      <th>New Ownership - Followup</th>\n",
       "      <td>0</td>\n",
       "      <td>499</td>\n",
       "      <td>499</td>\n",
       "    </tr>\n",
       "    <tr>\n",
       "      <th>Structural Inspection</th>\n",
       "      <td>0</td>\n",
       "      <td>394</td>\n",
       "      <td>394</td>\n",
       "    </tr>\n",
       "    <tr>\n",
       "      <th>Complaint Reinspection/Followup</th>\n",
       "      <td>0</td>\n",
       "      <td>227</td>\n",
       "      <td>227</td>\n",
       "    </tr>\n",
       "    <tr>\n",
       "      <th>Foodborne Illness Investigation</th>\n",
       "      <td>0</td>\n",
       "      <td>115</td>\n",
       "      <td>115</td>\n",
       "    </tr>\n",
       "    <tr>\n",
       "      <th>Routine - Scheduled</th>\n",
       "      <td>0</td>\n",
       "      <td>46</td>\n",
       "      <td>46</td>\n",
       "    </tr>\n",
       "    <tr>\n",
       "      <th>Administrative or Document Review</th>\n",
       "      <td>0</td>\n",
       "      <td>4</td>\n",
       "      <td>4</td>\n",
       "    </tr>\n",
       "    <tr>\n",
       "      <th>Multi-agency Investigation</th>\n",
       "      <td>0</td>\n",
       "      <td>3</td>\n",
       "      <td>3</td>\n",
       "    </tr>\n",
       "    <tr>\n",
       "      <th>Special Event</th>\n",
       "      <td>0</td>\n",
       "      <td>3</td>\n",
       "      <td>3</td>\n",
       "    </tr>\n",
       "    <tr>\n",
       "      <th>Community Health Assessment</th>\n",
       "      <td>0</td>\n",
       "      <td>1</td>\n",
       "      <td>1</td>\n",
       "    </tr>\n",
       "  </tbody>\n",
       "</table>\n",
       "</div>"
      ],
      "text/plain": [
       "Missing Score                      False  True  Total\n",
       "type                                                 \n",
       "Routine - Unscheduled              14031    46  14077\n",
       "Reinspection/Followup                  0  6439   6439\n",
       "New Ownership                          0  1592   1592\n",
       "Complaint                              0  1458   1458\n",
       "New Construction                       0   994    994\n",
       "Non-inspection site visit              0   811    811\n",
       "New Ownership - Followup               0   499    499\n",
       "Structural Inspection                  0   394    394\n",
       "Complaint Reinspection/Followup        0   227    227\n",
       "Foodborne Illness Investigation        0   115    115\n",
       "Routine - Scheduled                    0    46     46\n",
       "Administrative or Document Review      0     4      4\n",
       "Multi-agency Investigation             0     3      3\n",
       "Special Event                          0     3      3\n",
       "Community Health Assessment            0     1      1"
      ]
     },
     "execution_count": 66,
     "metadata": {},
     "output_type": "execute_result"
    }
   ],
   "source": [
    "ins['Missing Score']= ins['score'] == -1\n",
    "ins_missing_score_pivot = ins.pivot_table(index='type', columns='Missing Score', aggfunc='size', fill_value=0)\n",
    "ins_missing_score_pivot['Total']= ins_missing_score_pivot.sum(axis=1)\n",
    "ins_missing_score_pivot= ins_missing_score_pivot.sort_values('Total', ascending=False)\n",
    "ins_missing_score_pivot "
   ]
  },
  {
   "cell_type": "code",
   "execution_count": 67,
   "metadata": {
    "deletable": false,
    "editable": false
   },
   "outputs": [
    {
     "data": {
      "text/html": [
       "\n",
       "    \n",
       "    \n",
       "        <p>All tests passed!</p>\n",
       "    \n",
       "    "
      ],
      "text/plain": [
       "\n",
       "    All tests passed!\n",
       "    "
      ]
     },
     "execution_count": 67,
     "metadata": {},
     "output_type": "execute_result"
    }
   ],
   "source": [
    "grader.check(\"q4e\")"
   ]
  },
  {
   "cell_type": "markdown",
   "metadata": {},
   "source": [
    "Notice that inspection scores appear only to be assigned to `Routine - Unscheduled` inspections. It is reasonable that for inspection types such as `New Ownership` and `Complaint` to have no associated inspection scores, but we might be curious why there are no inspection scores for the `Reinspection/Followup` inspection type."
   ]
  },
  {
   "cell_type": "markdown",
   "metadata": {
    "nbgrader": {
     "grade": false,
     "grade_id": "business-data",
     "locked": true,
     "schema_version": 2,
     "solution": false
    }
   },
   "source": [
    "<br/><br/><br/>\n",
    "\n",
    "---\n",
    "\n",
    "<br/><br/><br/>\n",
    "\n",
    "# 5: Joining Data Across Tables\n",
    "\n",
    "In this question we will start to connect data across mulitple tables.  We will be using the `merge` function. "
   ]
  },
  {
   "cell_type": "markdown",
   "metadata": {},
   "source": [
    "<br/><br/><br/>\n",
    "\n",
    "--- \n",
    "\n",
    "## Question 5a\n",
    "\n",
    "Let's figure out which restaurants had the lowest scores. Before we proceed, let's filter out missing scores from `ins` so that negative scores don't influence our results."
   ]
  },
  {
   "cell_type": "code",
   "execution_count": 68,
   "metadata": {},
   "outputs": [],
   "source": [
    "ins = ins[ins[\"score\"] > 0]"
   ]
  },
  {
   "cell_type": "markdown",
   "metadata": {
    "deletable": false,
    "editable": false
   },
   "source": [
    "We'll start by creating a new dataframe called `ins_named`. It should be exactly the same as `ins`, except that it should have the name and address of every business, as determined by the `bus` dataframe. If a `business_id` in `ins` does not exist in `bus`, the name and address should be given as `NaN`. \n",
    "\n",
    "*Hint*: Use the merge method to join the `ins` dataframe with the appropriate portion of the `bus` dataframe. See the official [documentation](https://pandas.pydata.org/pandas-docs/stable/user_guide/merging.html) on how to use `merge`.\n",
    "\n",
    "*Note*: For quick reference, a pandas 'left' join keeps the keys from the left frame, so if `ins` is the left frame, all the keys from `ins` are kept and if a set of these keys don't have matches in the other frame, the columns from the other frame for these \"unmatched\" key rows contains NaNs.\n",
    "\n",
    "<!--\n",
    "BEGIN QUESTION\n",
    "name: q5a\n",
    "points: 2\n",
    "-->"
   ]
  },
  {
   "cell_type": "code",
   "execution_count": 69,
   "metadata": {},
   "outputs": [
    {
     "data": {
      "text/html": [
       "<div>\n",
       "<style scoped>\n",
       "    .dataframe tbody tr th:only-of-type {\n",
       "        vertical-align: middle;\n",
       "    }\n",
       "\n",
       "    .dataframe tbody tr th {\n",
       "        vertical-align: top;\n",
       "    }\n",
       "\n",
       "    .dataframe thead th {\n",
       "        text-align: right;\n",
       "    }\n",
       "</style>\n",
       "<table border=\"1\" class=\"dataframe\">\n",
       "  <thead>\n",
       "    <tr style=\"text-align: right;\">\n",
       "      <th></th>\n",
       "      <th>iid</th>\n",
       "      <th>date</th>\n",
       "      <th>score</th>\n",
       "      <th>type</th>\n",
       "      <th>bid</th>\n",
       "      <th>timestamp</th>\n",
       "      <th>year</th>\n",
       "      <th>Missing Score</th>\n",
       "      <th>name</th>\n",
       "      <th>address</th>\n",
       "    </tr>\n",
       "  </thead>\n",
       "  <tbody>\n",
       "    <tr>\n",
       "      <th>0</th>\n",
       "      <td>100010_20190403</td>\n",
       "      <td>04/03/2019 12:00:00 AM</td>\n",
       "      <td>100</td>\n",
       "      <td>Routine - Unscheduled</td>\n",
       "      <td>100010</td>\n",
       "      <td>2019-04-03</td>\n",
       "      <td>2019</td>\n",
       "      <td>False</td>\n",
       "      <td>ILLY CAFFE SF_PIER 39</td>\n",
       "      <td>PIER 39  K-106-B</td>\n",
       "    </tr>\n",
       "    <tr>\n",
       "      <th>1</th>\n",
       "      <td>100017_20190816</td>\n",
       "      <td>08/16/2019 12:00:00 AM</td>\n",
       "      <td>91</td>\n",
       "      <td>Routine - Unscheduled</td>\n",
       "      <td>100017</td>\n",
       "      <td>2019-08-16</td>\n",
       "      <td>2019</td>\n",
       "      <td>False</td>\n",
       "      <td>AMICI'S EAST COAST PIZZERIA</td>\n",
       "      <td>475 06th St</td>\n",
       "    </tr>\n",
       "    <tr>\n",
       "      <th>2</th>\n",
       "      <td>100041_20190520</td>\n",
       "      <td>05/20/2019 12:00:00 AM</td>\n",
       "      <td>83</td>\n",
       "      <td>Routine - Unscheduled</td>\n",
       "      <td>100041</td>\n",
       "      <td>2019-05-20</td>\n",
       "      <td>2019</td>\n",
       "      <td>False</td>\n",
       "      <td>UNCLE LEE CAFE</td>\n",
       "      <td>3608 BALBOA ST</td>\n",
       "    </tr>\n",
       "    <tr>\n",
       "      <th>3</th>\n",
       "      <td>100055_20190425</td>\n",
       "      <td>04/25/2019 12:00:00 AM</td>\n",
       "      <td>98</td>\n",
       "      <td>Routine - Unscheduled</td>\n",
       "      <td>100055</td>\n",
       "      <td>2019-04-25</td>\n",
       "      <td>2019</td>\n",
       "      <td>False</td>\n",
       "      <td>Twirl and Dip</td>\n",
       "      <td>335 Martin Luther King Jr. Dr</td>\n",
       "    </tr>\n",
       "    <tr>\n",
       "      <th>4</th>\n",
       "      <td>100055_20190912</td>\n",
       "      <td>09/12/2019 12:00:00 AM</td>\n",
       "      <td>82</td>\n",
       "      <td>Routine - Unscheduled</td>\n",
       "      <td>100055</td>\n",
       "      <td>2019-09-12</td>\n",
       "      <td>2019</td>\n",
       "      <td>False</td>\n",
       "      <td>Twirl and Dip</td>\n",
       "      <td>335 Martin Luther King Jr. Dr</td>\n",
       "    </tr>\n",
       "  </tbody>\n",
       "</table>\n",
       "</div>"
      ],
      "text/plain": [
       "               iid                    date  score                   type  \\\n",
       "0  100010_20190403  04/03/2019 12:00:00 AM    100  Routine - Unscheduled   \n",
       "1  100017_20190816  08/16/2019 12:00:00 AM     91  Routine - Unscheduled   \n",
       "2  100041_20190520  05/20/2019 12:00:00 AM     83  Routine - Unscheduled   \n",
       "3  100055_20190425  04/25/2019 12:00:00 AM     98  Routine - Unscheduled   \n",
       "4  100055_20190912  09/12/2019 12:00:00 AM     82  Routine - Unscheduled   \n",
       "\n",
       "      bid  timestamp  year  Missing Score                         name  \\\n",
       "0  100010 2019-04-03  2019          False        ILLY CAFFE SF_PIER 39   \n",
       "1  100017 2019-08-16  2019          False  AMICI'S EAST COAST PIZZERIA   \n",
       "2  100041 2019-05-20  2019          False               UNCLE LEE CAFE   \n",
       "3  100055 2019-04-25  2019          False                Twirl and Dip   \n",
       "4  100055 2019-09-12  2019          False                Twirl and Dip   \n",
       "\n",
       "                         address  \n",
       "0               PIER 39  K-106-B  \n",
       "1                    475 06th St  \n",
       "2                 3608 BALBOA ST  \n",
       "3  335 Martin Luther King Jr. Dr  \n",
       "4  335 Martin Luther King Jr. Dr  "
      ]
     },
     "execution_count": 69,
     "metadata": {},
     "output_type": "execute_result"
    }
   ],
   "source": [
    "ins_named = ins.merge(bus[['bid','name','address']], how='left', left_on='bid', right_on='bid')\n",
    "\n",
    "ins_named.head()"
   ]
  },
  {
   "cell_type": "code",
   "execution_count": 70,
   "metadata": {
    "deletable": false,
    "editable": false
   },
   "outputs": [
    {
     "data": {
      "text/html": [
       "\n",
       "    \n",
       "    \n",
       "        <p>All tests passed!</p>\n",
       "    \n",
       "    "
      ],
      "text/plain": [
       "\n",
       "    All tests passed!\n",
       "    "
      ]
     },
     "execution_count": 70,
     "metadata": {},
     "output_type": "execute_result"
    }
   ],
   "source": [
    "grader.check(\"q5a\")"
   ]
  },
  {
   "cell_type": "markdown",
   "metadata": {
    "deletable": false,
    "editable": false
   },
   "source": [
    "<br/><br/><br/>\n",
    "\n",
    "--- \n",
    "\n",
    "## Question 5b\n",
    "\n",
    "Let's look at the 20 businesses with the lowest **median** score.  Order your results by the median score followed by the business id to break ties. The resulting table should look like:\n",
    "\n",
    "\n",
    "*Hint: You may find the `as_index` argument important*\n",
    "\n",
    "<table border=\"1\" class=\"dataframe\">  <thead>    <tr style=\"text-align: right;\">      <th></th>      <th>bid</th>      <th>name</th>      <th>median score</th>    </tr>  </thead>  <tbody>    <tr>      <th>3876</th>      <td>84590</td>      <td>Chaat Corner</td>      <td>54.0</td>    </tr>    <tr>      <th>4564</th>      <td>90622</td>      <td>Taqueria Lolita</td>      <td>57.0</td>    </tr>    <tr>      <th>4990</th>      <td>94351</td>      <td>VBowls LLC</td>      <td>58.0</td>    </tr>    <tr>      <th>2719</th>      <td>69282</td>      <td>New Jumbo Seafood Restaurant</td>      <td>60.5</td>    </tr>    <tr>      <th>222</th>      <td>1154</td>      <td>SUNFLOWER RESTAURANT</td>      <td>63.5</td>    </tr>    <tr>      <th>1991</th>      <td>39776</td>      <td>Duc Loi Supermarket</td>      <td>64.0</td>    </tr>    <tr>      <th>2734</th>      <td>69397</td>      <td>Minna SF Group LLC</td>      <td>64.0</td>    </tr>    <tr>      <th>3291</th>      <td>78328</td>      <td>Golden Wok</td>      <td>64.0</td>    </tr>    <tr>      <th>4870</th>      <td>93150</td>      <td>Chez Beesen</td>      <td>64.0</td>    </tr>    <tr>      <th>4911</th>      <td>93502</td>      <td>Smoky Man</td>      <td>64.0</td>    </tr>    <tr>      <th>5510</th>      <td>98995</td>      <td>Vallarta's Taco Bar</td>      <td>64.0</td>    </tr>    <tr>      <th>1457</th>      <td>10877</td>      <td>CHINA FIRST INC.</td>      <td>64.5</td>    </tr>    <tr>      <th>2890</th>      <td>71310</td>      <td>Golden King Vietnamese Restaurant</td>      <td>64.5</td>    </tr>    <tr>      <th>4352</th>      <td>89070</td>      <td>Lafayette Coffee Shop</td>      <td>64.5</td>    </tr>    <tr>      <th>505</th>      <td>2542</td>      <td>PETER D'S RESTAURANT</td>      <td>65.0</td>    </tr>    <tr>      <th>2874</th>      <td>71008</td>      <td>House of Pancakes</td>      <td>65.0</td>    </tr>    <tr>      <th>818</th>      <td>3862</td>      <td>IMPERIAL GARDEN SEAFOOD RESTAURANT</td>      <td>66.0</td>    </tr>    <tr>      <th>2141</th>      <td>61427</td>      <td>Nick's Foods</td>      <td>66.0</td>    </tr>    <tr>      <th>2954</th>      <td>72176</td>      <td>Wolfes Lunch</td>      <td>66.0</td>    </tr>    <tr>      <th>4367</th>      <td>89141</td>      <td>Cha Cha Cha on Mission</td>      <td>66.5</td>    </tr>  </tbody></table>\n",
    "\n",
    "\n",
    "<!--\n",
    "BEGIN QUESTION\n",
    "name: q5b\n",
    "points: 3\n",
    "-->"
   ]
  },
  {
   "cell_type": "code",
   "execution_count": 71,
   "metadata": {},
   "outputs": [
    {
     "data": {
      "text/html": [
       "<div>\n",
       "<style scoped>\n",
       "    .dataframe tbody tr th:only-of-type {\n",
       "        vertical-align: middle;\n",
       "    }\n",
       "\n",
       "    .dataframe tbody tr th {\n",
       "        vertical-align: top;\n",
       "    }\n",
       "\n",
       "    .dataframe thead th {\n",
       "        text-align: right;\n",
       "    }\n",
       "</style>\n",
       "<table border=\"1\" class=\"dataframe\">\n",
       "  <thead>\n",
       "    <tr style=\"text-align: right;\">\n",
       "      <th></th>\n",
       "      <th>bid</th>\n",
       "      <th>name</th>\n",
       "      <th>median score</th>\n",
       "    </tr>\n",
       "  </thead>\n",
       "  <tbody>\n",
       "    <tr>\n",
       "      <th>3876</th>\n",
       "      <td>84590</td>\n",
       "      <td>Chaat Corner</td>\n",
       "      <td>54.0</td>\n",
       "    </tr>\n",
       "    <tr>\n",
       "      <th>4564</th>\n",
       "      <td>90622</td>\n",
       "      <td>Taqueria Lolita</td>\n",
       "      <td>57.0</td>\n",
       "    </tr>\n",
       "    <tr>\n",
       "      <th>4990</th>\n",
       "      <td>94351</td>\n",
       "      <td>VBowls LLC</td>\n",
       "      <td>58.0</td>\n",
       "    </tr>\n",
       "    <tr>\n",
       "      <th>2719</th>\n",
       "      <td>69282</td>\n",
       "      <td>New Jumbo Seafood Restaurant</td>\n",
       "      <td>60.5</td>\n",
       "    </tr>\n",
       "    <tr>\n",
       "      <th>222</th>\n",
       "      <td>1154</td>\n",
       "      <td>SUNFLOWER RESTAURANT</td>\n",
       "      <td>63.5</td>\n",
       "    </tr>\n",
       "    <tr>\n",
       "      <th>1991</th>\n",
       "      <td>39776</td>\n",
       "      <td>Duc Loi Supermarket</td>\n",
       "      <td>64.0</td>\n",
       "    </tr>\n",
       "    <tr>\n",
       "      <th>2734</th>\n",
       "      <td>69397</td>\n",
       "      <td>Minna SF Group LLC</td>\n",
       "      <td>64.0</td>\n",
       "    </tr>\n",
       "    <tr>\n",
       "      <th>4870</th>\n",
       "      <td>93150</td>\n",
       "      <td>Chez Beesen</td>\n",
       "      <td>64.0</td>\n",
       "    </tr>\n",
       "    <tr>\n",
       "      <th>4911</th>\n",
       "      <td>93502</td>\n",
       "      <td>Smoky Man</td>\n",
       "      <td>64.0</td>\n",
       "    </tr>\n",
       "    <tr>\n",
       "      <th>3291</th>\n",
       "      <td>78328</td>\n",
       "      <td>Golden Wok</td>\n",
       "      <td>64.0</td>\n",
       "    </tr>\n",
       "    <tr>\n",
       "      <th>5510</th>\n",
       "      <td>98995</td>\n",
       "      <td>Vallarta's Taco Bar</td>\n",
       "      <td>64.0</td>\n",
       "    </tr>\n",
       "    <tr>\n",
       "      <th>2890</th>\n",
       "      <td>71310</td>\n",
       "      <td>Golden King Vietnamese Restaurant</td>\n",
       "      <td>64.5</td>\n",
       "    </tr>\n",
       "    <tr>\n",
       "      <th>1457</th>\n",
       "      <td>10877</td>\n",
       "      <td>CHINA FIRST INC.</td>\n",
       "      <td>64.5</td>\n",
       "    </tr>\n",
       "    <tr>\n",
       "      <th>4352</th>\n",
       "      <td>89070</td>\n",
       "      <td>Lafayette Coffee Shop</td>\n",
       "      <td>64.5</td>\n",
       "    </tr>\n",
       "    <tr>\n",
       "      <th>505</th>\n",
       "      <td>2542</td>\n",
       "      <td>PETER D'S RESTAURANT</td>\n",
       "      <td>65.0</td>\n",
       "    </tr>\n",
       "    <tr>\n",
       "      <th>2874</th>\n",
       "      <td>71008</td>\n",
       "      <td>House of Pancakes</td>\n",
       "      <td>65.0</td>\n",
       "    </tr>\n",
       "    <tr>\n",
       "      <th>818</th>\n",
       "      <td>3862</td>\n",
       "      <td>IMPERIAL GARDEN SEAFOOD RESTAURANT</td>\n",
       "      <td>66.0</td>\n",
       "    </tr>\n",
       "    <tr>\n",
       "      <th>2141</th>\n",
       "      <td>61427</td>\n",
       "      <td>Nick's Foods</td>\n",
       "      <td>66.0</td>\n",
       "    </tr>\n",
       "    <tr>\n",
       "      <th>2954</th>\n",
       "      <td>72176</td>\n",
       "      <td>Wolfes Lunch</td>\n",
       "      <td>66.0</td>\n",
       "    </tr>\n",
       "    <tr>\n",
       "      <th>4367</th>\n",
       "      <td>89141</td>\n",
       "      <td>Cha Cha Cha on Mission</td>\n",
       "      <td>66.5</td>\n",
       "    </tr>\n",
       "  </tbody>\n",
       "</table>\n",
       "</div>"
      ],
      "text/plain": [
       "        bid                                name  median score\n",
       "3876  84590                        Chaat Corner          54.0\n",
       "4564  90622                     Taqueria Lolita          57.0\n",
       "4990  94351                          VBowls LLC          58.0\n",
       "2719  69282        New Jumbo Seafood Restaurant          60.5\n",
       "222    1154                SUNFLOWER RESTAURANT          63.5\n",
       "1991  39776                 Duc Loi Supermarket          64.0\n",
       "2734  69397                  Minna SF Group LLC          64.0\n",
       "4870  93150                         Chez Beesen          64.0\n",
       "4911  93502                           Smoky Man          64.0\n",
       "3291  78328                          Golden Wok          64.0\n",
       "5510  98995                 Vallarta's Taco Bar          64.0\n",
       "2890  71310   Golden King Vietnamese Restaurant          64.5\n",
       "1457  10877                    CHINA FIRST INC.          64.5\n",
       "4352  89070               Lafayette Coffee Shop          64.5\n",
       "505    2542                PETER D'S RESTAURANT          65.0\n",
       "2874  71008                   House of Pancakes          65.0\n",
       "818    3862  IMPERIAL GARDEN SEAFOOD RESTAURANT          66.0\n",
       "2141  61427                        Nick's Foods          66.0\n",
       "2954  72176                        Wolfes Lunch          66.0\n",
       "4367  89141              Cha Cha Cha on Mission          66.5"
      ]
     },
     "execution_count": 71,
     "metadata": {},
     "output_type": "execute_result"
    }
   ],
   "source": [
    "twenty_lowest_scoring = ins_named.groupby(['bid','name'], as_index=False).median().sort_values('score').\\\n",
    "rename(columns={'score':'median score'}).drop(columns=['year','Missing Score']).head(20)\n",
    "\n",
    "twenty_lowest_scoring"
   ]
  },
  {
   "cell_type": "code",
   "execution_count": 72,
   "metadata": {
    "deletable": false,
    "editable": false
   },
   "outputs": [
    {
     "data": {
      "text/html": [
       "\n",
       "    \n",
       "    \n",
       "        <p>All tests passed!</p>\n",
       "    \n",
       "    "
      ],
      "text/plain": [
       "\n",
       "    All tests passed!\n",
       "    "
      ]
     },
     "execution_count": 72,
     "metadata": {},
     "output_type": "execute_result"
    }
   ],
   "source": [
    "grader.check(\"q5b\")"
   ]
  },
  {
   "cell_type": "markdown",
   "metadata": {
    "deletable": false,
    "editable": false
   },
   "source": [
    "<br/><br/><br/>\n",
    "\n",
    "--- \n",
    "\n",
    "## Question 5c\n",
    "\n",
    "Let's now examine the descriptions of violations for inspections with `score > 0` and `score < 65`.  Construct a **Series** indexed by the `description` of the violation from the `vio` table with the value being the number of times that violation occured for inspections with the above score range.  Sort the results in descending order of the count.\n",
    "\n",
    "The first few entries should look like:\n",
    "\n",
    "```\n",
    "Unclean or unsanitary food contact surfaces                                  43\n",
    "High risk food holding temperature                                           42\n",
    "Unclean or degraded floors walls or ceilings                                 40\n",
    "Unapproved or unmaintained equipment or utensils                             39\n",
    "```\n",
    "You will need to use `merge` twice.\n",
    "\n",
    "<!--\n",
    "BEGIN QUESTION\n",
    "name: q5c\n",
    "points: 2\n",
    "-->"
   ]
  },
  {
   "cell_type": "code",
   "execution_count": 73,
   "metadata": {},
   "outputs": [
    {
     "data": {
      "text/plain": [
       "description\n",
       "Unclean or unsanitary food contact surfaces                                  43\n",
       "High risk food holding temperature                                           42\n",
       "Unclean or degraded floors walls or ceilings                                 40\n",
       "Unapproved or unmaintained equipment or utensils                             39\n",
       "Foods not protected from contamination                                       37\n",
       "High risk vermin infestation                                                 37\n",
       "Inadequate food safety knowledge or lack of certified food safety manager    35\n",
       "Inadequate and inaccessible handwashing facilities                           35\n",
       "Improper thawing methods                                                     30\n",
       "Unclean hands or improper use of gloves                                      27\n",
       "Improper cooling methods                                                     25\n",
       "Unclean nonfood contact surfaces                                             21\n",
       "Inadequately cleaned or sanitized food contact surfaces                      20\n",
       "Improper food storage                                                        20\n",
       "Contaminated or adulterated food                                             18\n",
       "Moderate risk vermin infestation                                             15\n",
       "Permit license or inspection report not posted                               13\n",
       "Moderate risk food holding temperature                                       13\n",
       "Food safety certificate or food handler card not available                   12\n",
       "Improper storage use or identification of toxic substances                   10\n",
       "dtype: int64"
      ]
     },
     "execution_count": 73,
     "metadata": {},
     "output_type": "execute_result"
    }
   ],
   "source": [
    "merge_1 = vio.merge(ins2vio, how='outer', left_on='vid', right_on='vid') \n",
    "score_adj = ins[(ins['score'] > 0) & (ins['score'] <65)] \n",
    "merge_2 = score_adj.merge(merge_1, how='left', left_on='iid', right_on='iid')\n",
    "low_score_violations = merge_2.groupby('description').size().sort_values(axis=0, ascending=False)\n",
    "\n",
    "low_score_violations.head(20)"
   ]
  },
  {
   "cell_type": "code",
   "execution_count": 74,
   "metadata": {
    "deletable": false,
    "editable": false
   },
   "outputs": [
    {
     "data": {
      "text/html": [
       "\n",
       "    \n",
       "    \n",
       "        <p>All tests passed!</p>\n",
       "    \n",
       "    "
      ],
      "text/plain": [
       "\n",
       "    All tests passed!\n",
       "    "
      ]
     },
     "execution_count": 74,
     "metadata": {},
     "output_type": "execute_result"
    }
   ],
   "source": [
    "grader.check(\"q5c\")"
   ]
  },
  {
   "cell_type": "markdown",
   "metadata": {},
   "source": [
    "### Question 5d\n",
    "Let's figure out which restaurant had the worst scores ever (single lowest score). "
   ]
  },
  {
   "cell_type": "code",
   "execution_count": 75,
   "metadata": {},
   "outputs": [
    {
     "data": {
      "text/html": [
       "<div>\n",
       "<style scoped>\n",
       "    .dataframe tbody tr th:only-of-type {\n",
       "        vertical-align: middle;\n",
       "    }\n",
       "\n",
       "    .dataframe tbody tr th {\n",
       "        vertical-align: top;\n",
       "    }\n",
       "\n",
       "    .dataframe thead th {\n",
       "        text-align: right;\n",
       "    }\n",
       "</style>\n",
       "<table border=\"1\" class=\"dataframe\">\n",
       "  <thead>\n",
       "    <tr style=\"text-align: right;\">\n",
       "      <th></th>\n",
       "      <th>iid</th>\n",
       "      <th>date</th>\n",
       "      <th>score</th>\n",
       "      <th>type</th>\n",
       "      <th>bid</th>\n",
       "      <th>timestamp</th>\n",
       "      <th>year</th>\n",
       "      <th>Missing Score</th>\n",
       "      <th>name</th>\n",
       "      <th>address</th>\n",
       "    </tr>\n",
       "  </thead>\n",
       "  <tbody>\n",
       "    <tr>\n",
       "      <th>10898</th>\n",
       "      <td>86718_20180522</td>\n",
       "      <td>05/22/2018 12:00:00 AM</td>\n",
       "      <td>45</td>\n",
       "      <td>Routine - Unscheduled</td>\n",
       "      <td>86718</td>\n",
       "      <td>2018-05-22</td>\n",
       "      <td>2018</td>\n",
       "      <td>False</td>\n",
       "      <td>Lollipot</td>\n",
       "      <td>890 Taraval St</td>\n",
       "    </tr>\n",
       "    <tr>\n",
       "      <th>291</th>\n",
       "      <td>1154_20190327</td>\n",
       "      <td>03/27/2019 12:00:00 AM</td>\n",
       "      <td>46</td>\n",
       "      <td>Routine - Unscheduled</td>\n",
       "      <td>1154</td>\n",
       "      <td>2019-03-27</td>\n",
       "      <td>2019</td>\n",
       "      <td>False</td>\n",
       "      <td>SUNFLOWER RESTAURANT</td>\n",
       "      <td>506 Valencia St</td>\n",
       "    </tr>\n",
       "    <tr>\n",
       "      <th>236</th>\n",
       "      <td>10877_20190701</td>\n",
       "      <td>07/01/2019 12:00:00 AM</td>\n",
       "      <td>48</td>\n",
       "      <td>Routine - Unscheduled</td>\n",
       "      <td>10877</td>\n",
       "      <td>2019-07-01</td>\n",
       "      <td>2019</td>\n",
       "      <td>False</td>\n",
       "      <td>CHINA FIRST INC.</td>\n",
       "      <td>336 CLEMENT ST</td>\n",
       "    </tr>\n",
       "    <tr>\n",
       "      <th>6433</th>\n",
       "      <td>67237_20180914</td>\n",
       "      <td>09/14/2018 12:00:00 AM</td>\n",
       "      <td>51</td>\n",
       "      <td>Routine - Unscheduled</td>\n",
       "      <td>67237</td>\n",
       "      <td>2018-09-14</td>\n",
       "      <td>2018</td>\n",
       "      <td>False</td>\n",
       "      <td>La Jefa</td>\n",
       "      <td>445 Bayshore Blvd</td>\n",
       "    </tr>\n",
       "    <tr>\n",
       "      <th>10285</th>\n",
       "      <td>84590_20181001</td>\n",
       "      <td>10/01/2018 12:00:00 AM</td>\n",
       "      <td>54</td>\n",
       "      <td>Routine - Unscheduled</td>\n",
       "      <td>84590</td>\n",
       "      <td>2018-10-01</td>\n",
       "      <td>2018</td>\n",
       "      <td>False</td>\n",
       "      <td>Chaat Corner</td>\n",
       "      <td>320 3rd St</td>\n",
       "    </tr>\n",
       "    <tr>\n",
       "      <th>5065</th>\n",
       "      <td>59828_20190820</td>\n",
       "      <td>08/20/2019 12:00:00 AM</td>\n",
       "      <td>55</td>\n",
       "      <td>Routine - Unscheduled</td>\n",
       "      <td>59828</td>\n",
       "      <td>2019-08-20</td>\n",
       "      <td>2019</td>\n",
       "      <td>False</td>\n",
       "      <td>Tip Top Market</td>\n",
       "      <td>84 Turk St</td>\n",
       "    </tr>\n",
       "    <tr>\n",
       "      <th>7423</th>\n",
       "      <td>71310_20181203</td>\n",
       "      <td>12/03/2018 12:00:00 AM</td>\n",
       "      <td>55</td>\n",
       "      <td>Routine - Unscheduled</td>\n",
       "      <td>71310</td>\n",
       "      <td>2018-12-03</td>\n",
       "      <td>2018</td>\n",
       "      <td>False</td>\n",
       "      <td>Golden King Vietnamese Restaurant</td>\n",
       "      <td>757 Clay St</td>\n",
       "    </tr>\n",
       "    <tr>\n",
       "      <th>12390</th>\n",
       "      <td>91843_20180822</td>\n",
       "      <td>08/22/2018 12:00:00 AM</td>\n",
       "      <td>55</td>\n",
       "      <td>Routine - Unscheduled</td>\n",
       "      <td>91843</td>\n",
       "      <td>2018-08-22</td>\n",
       "      <td>2018</td>\n",
       "      <td>False</td>\n",
       "      <td>Hello Sandwich &amp; Noodle</td>\n",
       "      <td>426 Larkin St</td>\n",
       "    </tr>\n",
       "    <tr>\n",
       "      <th>12028</th>\n",
       "      <td>90622_20180821</td>\n",
       "      <td>08/21/2018 12:00:00 AM</td>\n",
       "      <td>57</td>\n",
       "      <td>Routine - Unscheduled</td>\n",
       "      <td>90622</td>\n",
       "      <td>2018-08-21</td>\n",
       "      <td>2018</td>\n",
       "      <td>False</td>\n",
       "      <td>Taqueria Lolita</td>\n",
       "      <td>750 Phelps St</td>\n",
       "    </tr>\n",
       "    <tr>\n",
       "      <th>7446</th>\n",
       "      <td>71440_20161121</td>\n",
       "      <td>11/21/2016 12:00:00 AM</td>\n",
       "      <td>57</td>\n",
       "      <td>Routine - Unscheduled</td>\n",
       "      <td>71440</td>\n",
       "      <td>2016-11-21</td>\n",
       "      <td>2016</td>\n",
       "      <td>False</td>\n",
       "      <td>New Garden Restaurant, Inc.</td>\n",
       "      <td>716 Kearny St</td>\n",
       "    </tr>\n",
       "  </tbody>\n",
       "</table>\n",
       "</div>"
      ],
      "text/plain": [
       "                  iid                    date  score                   type  \\\n",
       "10898  86718_20180522  05/22/2018 12:00:00 AM     45  Routine - Unscheduled   \n",
       "291     1154_20190327  03/27/2019 12:00:00 AM     46  Routine - Unscheduled   \n",
       "236    10877_20190701  07/01/2019 12:00:00 AM     48  Routine - Unscheduled   \n",
       "6433   67237_20180914  09/14/2018 12:00:00 AM     51  Routine - Unscheduled   \n",
       "10285  84590_20181001  10/01/2018 12:00:00 AM     54  Routine - Unscheduled   \n",
       "5065   59828_20190820  08/20/2019 12:00:00 AM     55  Routine - Unscheduled   \n",
       "7423   71310_20181203  12/03/2018 12:00:00 AM     55  Routine - Unscheduled   \n",
       "12390  91843_20180822  08/22/2018 12:00:00 AM     55  Routine - Unscheduled   \n",
       "12028  90622_20180821  08/21/2018 12:00:00 AM     57  Routine - Unscheduled   \n",
       "7446   71440_20161121  11/21/2016 12:00:00 AM     57  Routine - Unscheduled   \n",
       "\n",
       "         bid  timestamp  year  Missing Score  \\\n",
       "10898  86718 2018-05-22  2018          False   \n",
       "291     1154 2019-03-27  2019          False   \n",
       "236    10877 2019-07-01  2019          False   \n",
       "6433   67237 2018-09-14  2018          False   \n",
       "10285  84590 2018-10-01  2018          False   \n",
       "5065   59828 2019-08-20  2019          False   \n",
       "7423   71310 2018-12-03  2018          False   \n",
       "12390  91843 2018-08-22  2018          False   \n",
       "12028  90622 2018-08-21  2018          False   \n",
       "7446   71440 2016-11-21  2016          False   \n",
       "\n",
       "                                    name            address  \n",
       "10898                           Lollipot     890 Taraval St  \n",
       "291                 SUNFLOWER RESTAURANT    506 Valencia St  \n",
       "236                     CHINA FIRST INC.     336 CLEMENT ST  \n",
       "6433                             La Jefa  445 Bayshore Blvd  \n",
       "10285                       Chaat Corner         320 3rd St  \n",
       "5065                      Tip Top Market         84 Turk St  \n",
       "7423   Golden King Vietnamese Restaurant        757 Clay St  \n",
       "12390            Hello Sandwich & Noodle      426 Larkin St  \n",
       "12028                    Taqueria Lolita      750 Phelps St  \n",
       "7446         New Garden Restaurant, Inc.      716 Kearny St  "
      ]
     },
     "execution_count": 75,
     "metadata": {},
     "output_type": "execute_result"
    }
   ],
   "source": [
    "worst_restaurant = ins_named.sort_values('score')\n",
    "worst_restaurant.head(10)"
   ]
  },
  {
   "cell_type": "markdown",
   "metadata": {
    "deletable": false,
    "editable": false
   },
   "source": [
    "<!-- BEGIN QUESTION -->\n",
    "\n",
    "**In the cell below, write the name of the restaurant** with the lowest inspection scores ever. You can also head to yelp.com and look up the reviews page for this restaurant. Feel free to add anything interesting you want to share.\n",
    "\n",
    "<!--\n",
    "BEGIN QUESTION\n",
    "name: q5d\n",
    "points: 2\n",
    "manual: True\n",
    "-->"
   ]
  },
  {
   "cell_type": "markdown",
   "metadata": {},
   "source": [
    "Lollipot, score:45. The restaurant is closed."
   ]
  },
  {
   "cell_type": "markdown",
   "metadata": {},
   "source": [
    "<!-- END QUESTION -->\n",
    "\n",
    "\n",
    "\n",
    "<br/><br/><br/><br/>\n",
    "\n",
    "---\n",
    "\n",
    "<br/><br/>\n",
    "\n",
    "## 6: Explore Inspection Scores\n",
    "\n",
    "In this part we explore some of the basic inspection score values visually."
   ]
  },
  {
   "cell_type": "markdown",
   "metadata": {
    "collapsed": true,
    "deletable": false,
    "editable": false,
    "jupyter": {
     "outputs_hidden": true
    }
   },
   "source": [
    "<!-- BEGIN QUESTION -->\n",
    "\n",
    "<br/><br/><br/>\n",
    "\n",
    "---\n",
    "\n",
    "\n",
    "## Question 6a\n",
    "Let's look at the distribution of inspection scores. As we saw before when we called head on this data frame, inspection scores appear to be integer values. The discreteness of this variable means that we can use a barplot to visualize the distribution of the inspection score. Make a bar plot of the counts of the number of inspections receiving each score.\n",
    "\n",
    "It should look like the image below. It does not need to look exactly the same (e.g., no grid), but make sure that all labels and axes are correct.\n",
    "\n",
    "![](pics/6a.png)\n",
    "\n",
    "You might find this [matplotlib.pyplot tutorial](https://matplotlib.org/tutorials/introductory/pyplot.html) useful. Key syntax that you'll need:\n",
    "\n",
    "```\n",
    "plt.bar\n",
    "plt.xlabel\n",
    "plt.ylabel\n",
    "plt.title\n",
    "```\n",
    "\n",
    "*Note*: If you want to use another plotting library for your plots (e.g. plotly, sns) you are welcome to use that library instead so long as it works on DataHub. If you use seaborn sns.countplot(), you may need to manually set what to display on xticks.\n",
    "\n",
    "\n",
    "<!--\n",
    "BEGIN QUESTION\n",
    "name: q6a\n",
    "points: 1\n",
    "manual: True\n",
    "-->"
   ]
  },
  {
   "cell_type": "code",
   "execution_count": 76,
   "metadata": {
    "scrolled": false
   },
   "outputs": [
    {
     "data": {
      "image/png": "[encoded data removed]",
      "text/plain": [
       "<Figure size 432x288 with 1 Axes>"
      ]
     },
     "metadata": {},
     "output_type": "display_data"
    }
   ],
   "source": [
    "count= ins['score'].value_counts()\n",
    "score = count.index\n",
    "plt.bar(score, count)\n",
    "plt.xlabel('Score')\n",
    "plt.ylabel('Count')\n",
    "plt.title('Distribution of Inspection Scores')\n",
    "plt.show()"
   ]
  },
  {
   "cell_type": "markdown",
   "metadata": {
    "deletable": false,
    "editable": false
   },
   "source": [
    "<!-- END QUESTION -->"
   ]
  },
  {
   "cell_type": "code",
   "execution_count": 77,
   "metadata": {},
   "outputs": [],
   "source": [
    "#score_counts"
   ]
  },
  {
   "cell_type": "markdown",
   "metadata": {
    "deletable": false,
    "editable": false
   },
   "source": [
    "<!-- BEGIN QUESTION -->\n",
    "\n",
    "<br/><br/><br/>\n",
    "\n",
    "---\n",
    "\n",
    "### Question 6b\n",
    "Describe the qualities of the distribution of the inspections scores based on your bar plot. Consider the mode(s), symmetry, tails, gaps, and anomalous values. Are there any unusual features of this distribution? What do your observations imply about the scores?\n",
    "\n",
    "<!--\n",
    "BEGIN QUESTION\n",
    "name: q6b\n",
    "points: 2\n",
    "manual: True\n",
    "-->"
   ]
  },
  {
   "cell_type": "markdown",
   "metadata": {},
   "source": [
    "The mode of the distribution is at score 100, and the distribution is left-skewed.There are several gaps in between score 90 to score 100, "
   ]
  },
  {
   "cell_type": "markdown",
   "metadata": {},
   "source": [
    "<!-- END QUESTION -->\n",
    "\n",
    "\n",
    "\n",
    "<br/><br/><br/><br/>\n",
    "\n",
    "---\n",
    "\n",
    "<br/><br/>\n",
    "\n",
    "## 7: Restaurant Ratings Over Time\n",
    "\n",
    "Let's consider various scenarios involving restaurants with multiple ratings over time.\n",
    "\n"
   ]
  },
  {
   "cell_type": "markdown",
   "metadata": {},
   "source": [
    "<br/><br/><br/>\n",
    "\n",
    "---\n",
    "\n",
    "### Question 7a\n",
    "\n",
    "Let's see which restaurant has had the most extreme improvement in its rating, aka scores. Let the \"swing\" of a restaurant be defined as the difference between its highest-ever and lowest-ever rating. **Only consider restaurants with at least 3 ratings, aka rated for at least 3 times (3 scores)!** Using whatever technique you want to use, assign `max_swing` to the name of restaurant that has the maximum swing.\n",
    "\n",
    "*Note*: The \"swing\" is of a specific business. There might be some restaurants with multiple locations; each location has its own \"swing\"."
   ]
  },
  {
   "cell_type": "markdown",
   "metadata": {
    "deletable": false,
    "editable": false
   },
   "source": [
    "The city would like to know if the state of food safety has been getting better, worse, or about average. This is a pretty vague and broad question, which you should expect as part of your future job as a data scientist! However for the ease of grading for this assignment, we are going to guide you through it and offer some specific directions to consider.\n",
    "\n",
    "<!--\n",
    "BEGIN QUESTION\n",
    "name: q7a\n",
    "points: 2\n",
    "-->"
   ]
  },
  {
   "cell_type": "code",
   "execution_count": 78,
   "metadata": {},
   "outputs": [
    {
     "data": {
      "text/plain": [
       "'Lollipot'"
      ]
     },
     "execution_count": 78,
     "metadata": {},
     "output_type": "execute_result"
    }
   ],
   "source": [
    "def swing(series):\n",
    "    return max(series) - min(series)\n",
    "\n",
    "three_scores = (ins_named.groupby('address').size() >= 3).to_frame()\n",
    "three_scores_df = ins_named.merge(three_scores, how='inner', left_on='address', right_on='address')\n",
    "three_scores_df[three_scores_df[0] == True]\n",
    "sorted_swing = three_scores_df.groupby(['address','name']).agg(swing).sort_values('score', ascending=False).head()\n",
    "max_swing = 'Lollipot'\n",
    "max_swing\n"
   ]
  },
  {
   "cell_type": "code",
   "execution_count": 79,
   "metadata": {
    "deletable": false,
    "editable": false
   },
   "outputs": [
    {
     "data": {
      "text/html": [
       "\n",
       "    \n",
       "    \n",
       "        <p>All tests passed!</p>\n",
       "    \n",
       "    "
      ],
      "text/plain": [
       "\n",
       "    All tests passed!\n",
       "    "
      ]
     },
     "execution_count": 79,
     "metadata": {},
     "output_type": "execute_result"
    }
   ],
   "source": [
    "grader.check(\"q7a\")"
   ]
  },
  {
   "cell_type": "markdown",
   "metadata": {
    "deletable": false,
    "editable": false
   },
   "source": [
    "<br/><br/><br/>\n",
    "\n",
    "---\n",
    "\n",
    "### Question 7b\n",
    "\n",
    "To get a sense of the number of times each restaurant has been inspected, create a multi-indexed dataframe called `inspections_by_id_and_year` where each row corresponds to data about a given business in a single year, and there is a single data column named count that represents the number of inspections for that business in that year. The first index in the MultiIndex should be on `bid`, and the second should be on year.\n",
    "\n",
    "For example, a sample row in this dataframe will tell you that for `bid` 573, in `year` 2017, the total number of inspections was 4.\n",
    "\n",
    "Hint: Use `groupby` to group based on both the `bid` and the `year`.\n",
    "\n",
    "Hint: Use `rename` to change the name of the column to count.\n",
    "\n",
    "<!--\n",
    "BEGIN QUESTION\n",
    "name: q7b\n",
    "points: 1\n",
    "-->"
   ]
  },
  {
   "cell_type": "code",
   "execution_count": 80,
   "metadata": {},
   "outputs": [
    {
     "data": {
      "text/html": [
       "<div>\n",
       "<style scoped>\n",
       "    .dataframe tbody tr th:only-of-type {\n",
       "        vertical-align: middle;\n",
       "    }\n",
       "\n",
       "    .dataframe tbody tr th {\n",
       "        vertical-align: top;\n",
       "    }\n",
       "\n",
       "    .dataframe thead th {\n",
       "        text-align: right;\n",
       "    }\n",
       "</style>\n",
       "<table border=\"1\" class=\"dataframe\">\n",
       "  <thead>\n",
       "    <tr style=\"text-align: right;\">\n",
       "      <th></th>\n",
       "      <th></th>\n",
       "      <th>count</th>\n",
       "    </tr>\n",
       "    <tr>\n",
       "      <th>bid</th>\n",
       "      <th>year</th>\n",
       "      <th></th>\n",
       "    </tr>\n",
       "  </thead>\n",
       "  <tbody>\n",
       "    <tr>\n",
       "      <th rowspan=\"2\" valign=\"top\">19</th>\n",
       "      <th>2017</th>\n",
       "      <td>1</td>\n",
       "    </tr>\n",
       "    <tr>\n",
       "      <th>2018</th>\n",
       "      <td>1</td>\n",
       "    </tr>\n",
       "    <tr>\n",
       "      <th rowspan=\"3\" valign=\"top\">24</th>\n",
       "      <th>2016</th>\n",
       "      <td>1</td>\n",
       "    </tr>\n",
       "    <tr>\n",
       "      <th>2017</th>\n",
       "      <td>1</td>\n",
       "    </tr>\n",
       "    <tr>\n",
       "      <th>2019</th>\n",
       "      <td>1</td>\n",
       "    </tr>\n",
       "  </tbody>\n",
       "</table>\n",
       "</div>"
      ],
      "text/plain": [
       "          count\n",
       "bid year       \n",
       "19  2017      1\n",
       "    2018      1\n",
       "24  2016      1\n",
       "    2017      1\n",
       "    2019      1"
      ]
     },
     "execution_count": 80,
     "metadata": {},
     "output_type": "execute_result"
    }
   ],
   "source": [
    "inspections_by_id_and_year = ins.groupby(['bid','year']).size().to_frame().rename(columns={0:'count'})\n",
    "inspections_by_id_and_year.head()"
   ]
  },
  {
   "cell_type": "code",
   "execution_count": 81,
   "metadata": {
    "deletable": false,
    "editable": false
   },
   "outputs": [
    {
     "data": {
      "text/html": [
       "\n",
       "    \n",
       "    \n",
       "        <p>All tests passed!</p>\n",
       "    \n",
       "    "
      ],
      "text/plain": [
       "\n",
       "    All tests passed!\n",
       "    "
      ]
     },
     "execution_count": 81,
     "metadata": {},
     "output_type": "execute_result"
    }
   ],
   "source": [
    "grader.check(\"q7b\")"
   ]
  },
  {
   "cell_type": "markdown",
   "metadata": {},
   "source": [
    "You should see that some businesses are inspected many times in a single year. Let's get a sense of the distribution of the counts of the number of inspections by calling `value_counts`. There are quite a lot of businesses with 2 inspections in the same year, so it seems like it might be interesting to see what we can learn from such businesses."
   ]
  },
  {
   "cell_type": "code",
   "execution_count": 82,
   "metadata": {},
   "outputs": [
    {
     "data": {
      "text/plain": [
       "1    10580\n",
       "2     1688\n",
       "3       25\n",
       "Name: count, dtype: int64"
      ]
     },
     "execution_count": 82,
     "metadata": {},
     "output_type": "execute_result"
    }
   ],
   "source": [
    "inspections_by_id_and_year['count'].value_counts()"
   ]
  },
  {
   "cell_type": "markdown",
   "metadata": {
    "deletable": false,
    "editable": false
   },
   "source": [
    "<br/><br/><br/>\n",
    "\n",
    "---\n",
    "\n",
    "\n",
    "### Question 7c\n",
    "\n",
    "What's the relationship between the first and second scores for the businesses with 2 inspections in a year? Do they typically improve? For simplicity, let's focus on only 2018 for this problem, using `ins2018` data frame that will be created for you below.\n",
    "\n",
    "First, make a dataframe called `scores_pairs_by_business` indexed by `business_id` (containing only businesses with exactly 2 inspections in 2018). This dataframe contains the field score_pair consisting of the score pairs ordered chronologically [first_score, second_score].\n",
    "\n",
    "Plot these scores. That is, make a scatter plot to display these pairs of scores. Include on the plot a reference line with slope 1.\n",
    "\n",
    "You may find the functions `sort_values`, `groupby`, `filter` and `agg` helpful, though not all necessary.\n",
    "\n",
    "The first few rows of the resulting table should look something like:\n",
    "\n",
    "|  **bid**   | **score_pair** |\n",
    "|-----|------------|\n",
    "| 48  | [94, 87]   |\n",
    "| 66  | [98, 98]   |\n",
    "| 146  | [81, 90]   |\n",
    "| 184  | [90, 96]  |\n",
    "| 273  | [83, 84]   |\n",
    "\n",
    "In the cell below, create `scores_pairs_by_business` as described above.\n",
    "\n",
    "Note: Each score pair must be a list type; numpy arrays will not pass the autograder.\n",
    "\n",
    "Hint: Use the filter method from lecture 5 to create a new dataframe that only contains restaurants that received exactly 2 inspections.\n",
    "\n",
    "Hint: Our code that creates the needed DataFrame is a single line of code that uses `sort_values`, `groupby`, `filter`, `groupby`, `agg`, and `rename` in that order. Your answer does not need to use these exact methods.\n",
    "\n",
    "<!--\n",
    "BEGIN QUESTION\n",
    "name: q7ci\n",
    "points: 4\n",
    "-->"
   ]
  },
  {
   "cell_type": "code",
   "execution_count": 83,
   "metadata": {},
   "outputs": [
    {
     "data": {
      "text/html": [
       "<div>\n",
       "<style scoped>\n",
       "    .dataframe tbody tr th:only-of-type {\n",
       "        vertical-align: middle;\n",
       "    }\n",
       "\n",
       "    .dataframe tbody tr th {\n",
       "        vertical-align: top;\n",
       "    }\n",
       "\n",
       "    .dataframe thead th {\n",
       "        text-align: right;\n",
       "    }\n",
       "</style>\n",
       "<table border=\"1\" class=\"dataframe\">\n",
       "  <thead>\n",
       "    <tr style=\"text-align: right;\">\n",
       "      <th></th>\n",
       "      <th>iid</th>\n",
       "      <th>date</th>\n",
       "      <th>score</th>\n",
       "      <th>type</th>\n",
       "      <th>bid</th>\n",
       "      <th>timestamp</th>\n",
       "      <th>year</th>\n",
       "      <th>Missing Score</th>\n",
       "    </tr>\n",
       "  </thead>\n",
       "  <tbody>\n",
       "    <tr>\n",
       "      <th>62</th>\n",
       "      <td>1000_20180523</td>\n",
       "      <td>05/23/2018 12:00:00 AM</td>\n",
       "      <td>76</td>\n",
       "      <td>Routine - Unscheduled</td>\n",
       "      <td>1000</td>\n",
       "      <td>2018-05-23</td>\n",
       "      <td>2018</td>\n",
       "      <td>False</td>\n",
       "    </tr>\n",
       "    <tr>\n",
       "      <th>145</th>\n",
       "      <td>1002_20180509</td>\n",
       "      <td>05/09/2018 12:00:00 AM</td>\n",
       "      <td>90</td>\n",
       "      <td>Routine - Unscheduled</td>\n",
       "      <td>1002</td>\n",
       "      <td>2018-05-09</td>\n",
       "      <td>2018</td>\n",
       "      <td>False</td>\n",
       "    </tr>\n",
       "    <tr>\n",
       "      <th>148</th>\n",
       "      <td>10030_20180226</td>\n",
       "      <td>02/26/2018 12:00:00 AM</td>\n",
       "      <td>100</td>\n",
       "      <td>Routine - Unscheduled</td>\n",
       "      <td>10030</td>\n",
       "      <td>2018-02-26</td>\n",
       "      <td>2018</td>\n",
       "      <td>False</td>\n",
       "    </tr>\n",
       "    <tr>\n",
       "      <th>149</th>\n",
       "      <td>10030_20181016</td>\n",
       "      <td>10/16/2018 12:00:00 AM</td>\n",
       "      <td>100</td>\n",
       "      <td>Routine - Unscheduled</td>\n",
       "      <td>10030</td>\n",
       "      <td>2018-10-16</td>\n",
       "      <td>2018</td>\n",
       "      <td>False</td>\n",
       "    </tr>\n",
       "    <tr>\n",
       "      <th>180</th>\n",
       "      <td>1003_20180314</td>\n",
       "      <td>03/14/2018 12:00:00 AM</td>\n",
       "      <td>92</td>\n",
       "      <td>Routine - Unscheduled</td>\n",
       "      <td>1003</td>\n",
       "      <td>2018-03-14</td>\n",
       "      <td>2018</td>\n",
       "      <td>False</td>\n",
       "    </tr>\n",
       "    <tr>\n",
       "      <th>...</th>\n",
       "      <td>...</td>\n",
       "      <td>...</td>\n",
       "      <td>...</td>\n",
       "      <td>...</td>\n",
       "      <td>...</td>\n",
       "      <td>...</td>\n",
       "      <td>...</td>\n",
       "      <td>...</td>\n",
       "    </tr>\n",
       "    <tr>\n",
       "      <th>26265</th>\n",
       "      <td>98974_20181219</td>\n",
       "      <td>12/19/2018 12:00:00 AM</td>\n",
       "      <td>80</td>\n",
       "      <td>Routine - Unscheduled</td>\n",
       "      <td>98974</td>\n",
       "      <td>2018-12-19</td>\n",
       "      <td>2018</td>\n",
       "      <td>False</td>\n",
       "    </tr>\n",
       "    <tr>\n",
       "      <th>26270</th>\n",
       "      <td>98985_20181027</td>\n",
       "      <td>10/27/2018 12:00:00 AM</td>\n",
       "      <td>90</td>\n",
       "      <td>Routine - Unscheduled</td>\n",
       "      <td>98985</td>\n",
       "      <td>2018-10-27</td>\n",
       "      <td>2018</td>\n",
       "      <td>False</td>\n",
       "    </tr>\n",
       "    <tr>\n",
       "      <th>26477</th>\n",
       "      <td>9948_20180504</td>\n",
       "      <td>05/04/2018 12:00:00 AM</td>\n",
       "      <td>96</td>\n",
       "      <td>Routine - Unscheduled</td>\n",
       "      <td>9948</td>\n",
       "      <td>2018-05-04</td>\n",
       "      <td>2018</td>\n",
       "      <td>False</td>\n",
       "    </tr>\n",
       "    <tr>\n",
       "      <th>26656</th>\n",
       "      <td>999_20180123</td>\n",
       "      <td>01/23/2018 12:00:00 AM</td>\n",
       "      <td>80</td>\n",
       "      <td>Routine - Unscheduled</td>\n",
       "      <td>999</td>\n",
       "      <td>2018-01-23</td>\n",
       "      <td>2018</td>\n",
       "      <td>False</td>\n",
       "    </tr>\n",
       "    <tr>\n",
       "      <th>26662</th>\n",
       "      <td>99_20180808</td>\n",
       "      <td>08/08/2018 12:00:00 AM</td>\n",
       "      <td>84</td>\n",
       "      <td>Routine - Unscheduled</td>\n",
       "      <td>99</td>\n",
       "      <td>2018-08-08</td>\n",
       "      <td>2018</td>\n",
       "      <td>False</td>\n",
       "    </tr>\n",
       "  </tbody>\n",
       "</table>\n",
       "<p>4355 rows × 8 columns</p>\n",
       "</div>"
      ],
      "text/plain": [
       "                  iid                    date  score                   type  \\\n",
       "62      1000_20180523  05/23/2018 12:00:00 AM     76  Routine - Unscheduled   \n",
       "145     1002_20180509  05/09/2018 12:00:00 AM     90  Routine - Unscheduled   \n",
       "148    10030_20180226  02/26/2018 12:00:00 AM    100  Routine - Unscheduled   \n",
       "149    10030_20181016  10/16/2018 12:00:00 AM    100  Routine - Unscheduled   \n",
       "180     1003_20180314  03/14/2018 12:00:00 AM     92  Routine - Unscheduled   \n",
       "...               ...                     ...    ...                    ...   \n",
       "26265  98974_20181219  12/19/2018 12:00:00 AM     80  Routine - Unscheduled   \n",
       "26270  98985_20181027  10/27/2018 12:00:00 AM     90  Routine - Unscheduled   \n",
       "26477   9948_20180504  05/04/2018 12:00:00 AM     96  Routine - Unscheduled   \n",
       "26656    999_20180123  01/23/2018 12:00:00 AM     80  Routine - Unscheduled   \n",
       "26662     99_20180808  08/08/2018 12:00:00 AM     84  Routine - Unscheduled   \n",
       "\n",
       "         bid  timestamp  year  Missing Score  \n",
       "62      1000 2018-05-23  2018          False  \n",
       "145     1002 2018-05-09  2018          False  \n",
       "148    10030 2018-02-26  2018          False  \n",
       "149    10030 2018-10-16  2018          False  \n",
       "180     1003 2018-03-14  2018          False  \n",
       "...      ...        ...   ...            ...  \n",
       "26265  98974 2018-12-19  2018          False  \n",
       "26270  98985 2018-10-27  2018          False  \n",
       "26477   9948 2018-05-04  2018          False  \n",
       "26656    999 2018-01-23  2018          False  \n",
       "26662     99 2018-08-08  2018          False  \n",
       "\n",
       "[4355 rows x 8 columns]"
      ]
     },
     "execution_count": 83,
     "metadata": {},
     "output_type": "execute_result"
    }
   ],
   "source": [
    "ins2018 = ins[ins['year'] == 2018]\n",
    "ins2018"
   ]
  },
  {
   "cell_type": "code",
   "execution_count": 84,
   "metadata": {},
   "outputs": [
    {
     "data": {
      "text/html": [
       "<div>\n",
       "<style scoped>\n",
       "    .dataframe tbody tr th:only-of-type {\n",
       "        vertical-align: middle;\n",
       "    }\n",
       "\n",
       "    .dataframe tbody tr th {\n",
       "        vertical-align: top;\n",
       "    }\n",
       "\n",
       "    .dataframe thead th {\n",
       "        text-align: right;\n",
       "    }\n",
       "</style>\n",
       "<table border=\"1\" class=\"dataframe\">\n",
       "  <thead>\n",
       "    <tr style=\"text-align: right;\">\n",
       "      <th></th>\n",
       "      <th>score_pair</th>\n",
       "    </tr>\n",
       "    <tr>\n",
       "      <th>bid</th>\n",
       "      <th></th>\n",
       "    </tr>\n",
       "  </thead>\n",
       "  <tbody>\n",
       "    <tr>\n",
       "      <th>48</th>\n",
       "      <td>(94, 87)</td>\n",
       "    </tr>\n",
       "    <tr>\n",
       "      <th>66</th>\n",
       "      <td>(98, 98)</td>\n",
       "    </tr>\n",
       "    <tr>\n",
       "      <th>146</th>\n",
       "      <td>(81, 90)</td>\n",
       "    </tr>\n",
       "    <tr>\n",
       "      <th>184</th>\n",
       "      <td>(90, 96)</td>\n",
       "    </tr>\n",
       "    <tr>\n",
       "      <th>273</th>\n",
       "      <td>(83, 84)</td>\n",
       "    </tr>\n",
       "    <tr>\n",
       "      <th>...</th>\n",
       "      <td>...</td>\n",
       "    </tr>\n",
       "    <tr>\n",
       "      <th>95621</th>\n",
       "      <td>(100, 100)</td>\n",
       "    </tr>\n",
       "    <tr>\n",
       "      <th>95628</th>\n",
       "      <td>(75, 75)</td>\n",
       "    </tr>\n",
       "    <tr>\n",
       "      <th>95674</th>\n",
       "      <td>(100, 96)</td>\n",
       "    </tr>\n",
       "    <tr>\n",
       "      <th>95761</th>\n",
       "      <td>(91, 87)</td>\n",
       "    </tr>\n",
       "    <tr>\n",
       "      <th>95764</th>\n",
       "      <td>(100, 92)</td>\n",
       "    </tr>\n",
       "  </tbody>\n",
       "</table>\n",
       "<p>535 rows × 1 columns</p>\n",
       "</div>"
      ],
      "text/plain": [
       "       score_pair\n",
       "bid              \n",
       "48       (94, 87)\n",
       "66       (98, 98)\n",
       "146      (81, 90)\n",
       "184      (90, 96)\n",
       "273      (83, 84)\n",
       "...           ...\n",
       "95621  (100, 100)\n",
       "95628    (75, 75)\n",
       "95674   (100, 96)\n",
       "95761    (91, 87)\n",
       "95764   (100, 92)\n",
       "\n",
       "[535 rows x 1 columns]"
      ]
     },
     "execution_count": 84,
     "metadata": {},
     "output_type": "execute_result"
    }
   ],
   "source": [
    "ins2018 = ins[ins['year'] == 2018]\n",
    "# Create the dataframe here\n",
    "two_ins = ins2018.sort_values('date').groupby('bid').filter(lambda x: len(x)==2).groupby('bid').agg(['first','last'])['score']\n",
    "two_ins['score_pair']= list(zip(two_ins['first'], two_ins['last']))\n",
    "scores_pairs_by_business = two_ins.drop(columns=['first','last'])\n",
    "scores_pairs_by_business"
   ]
  },
  {
   "cell_type": "code",
   "execution_count": 85,
   "metadata": {
    "deletable": false,
    "editable": false
   },
   "outputs": [
    {
     "data": {
      "text/html": [
       "\n",
       "    \n",
       "    \n",
       "        <p>All tests passed!</p>\n",
       "    \n",
       "    "
      ],
      "text/plain": [
       "\n",
       "    All tests passed!\n",
       "    "
      ]
     },
     "execution_count": 85,
     "metadata": {},
     "output_type": "execute_result"
    }
   ],
   "source": [
    "grader.check(\"q7ci\")"
   ]
  },
  {
   "cell_type": "markdown",
   "metadata": {
    "deletable": false,
    "editable": false
   },
   "source": [
    "<!-- BEGIN QUESTION -->\n",
    "\n",
    "Now, create your scatter plot in the cell below. It does not need to look exactly the same (e.g., no grid) as the sample below, but make sure that all labels, axes and data itself are correct.\n",
    "\n",
    "![](pics/7c.png)\n",
    "\n",
    "Key pieces of syntax you'll need:\n",
    "\n",
    "`plt.scatter` plots a set of points. Use `facecolors='none'` and `edgecolors=b` to make circle markers with blue borders. \n",
    "\n",
    "`plt.plot` for the reference line.\n",
    "\n",
    "`plt.xlabel`, `plt.ylabel`, `plt.axis`, and `plt.title`.\n",
    "\n",
    "Hint: You may find it convenient to use the `zip()` function to unzip scores in the list.\n",
    "\n",
    "<!--\n",
    "BEGIN QUESTION\n",
    "name: q7cii\n",
    "points: 2\n",
    "manual: True\n",
    "-->"
   ]
  },
  {
   "cell_type": "code",
   "execution_count": 86,
   "metadata": {},
   "outputs": [
    {
     "data": {
      "image/png": "[encoded data removed]",
      "text/plain": [
       "<Figure size 432x288 with 1 Axes>"
      ]
     },
     "metadata": {},
     "output_type": "display_data"
    }
   ],
   "source": [
    "#scatter plot\n",
    "first_score = two_ins['first'].tolist()\n",
    "second_score = two_ins['last'].tolist()\n",
    "plt.scatter(first_score, second_score, facecolors='none', edgecolors='b')\n",
    "\n",
    "#reference line\n",
    "x = np.arange(55,101)\n",
    "y = np.arange(55,101)\n",
    "plt.plot(x,y, color='r')\n",
    "\n",
    "#titles, axis\n",
    "plt.axis([55, 100, 55, 100])\n",
    "plt.xlabel('First Score', fontsize=12)\n",
    "plt.ylabel('Second Score', fontsize=12)\n",
    "plt.title('First Inspection Score vs. Second Inspection Score', fontsize=14)\n",
    "plt.show()"
   ]
  },
  {
   "cell_type": "markdown",
   "metadata": {
    "deletable": false,
    "editable": false
   },
   "source": [
    "<!-- END QUESTION -->\n",
    "\n",
    "<!-- BEGIN QUESTION -->\n",
    "\n",
    "<br/><br/><br/>\n",
    "\n",
    "\n",
    "---\n",
    "\n",
    "\n",
    "### Question 7d\n",
    "\n",
    "Another way to compare the scores from the two inspections is to examine the difference in scores. Subtract the first score from the second in `scores_pairs_by_business`. Make a histogram of these differences in the scores. We might expect these differences to be positive, indicating an improvement from the first to the second inspection.\n",
    "\n",
    "The histogram should look like this:\n",
    "\n",
    "![](pics/7d.png)\n",
    "\n",
    "Hint: Use `second_score` and `first_score` created in the scatter plot code above.\n",
    "\n",
    "Hint: Convert the scores into numpy arrays to make them easier to deal with.\n",
    "\n",
    "Hint: Use `plt.hist()` Try changing the number of bins when you call `plt.hist()`.\n",
    "\n",
    "<!--\n",
    "BEGIN QUESTION\n",
    "name: q7d\n",
    "points: 2\n",
    "manual: True\n",
    "-->"
   ]
  },
  {
   "cell_type": "code",
   "execution_count": 87,
   "metadata": {},
   "outputs": [
    {
     "data": {
      "image/png": "[encoded data removed]",
      "text/plain": [
       "<Figure size 432x288 with 1 Axes>"
      ]
     },
     "metadata": {},
     "output_type": "display_data"
    }
   ],
   "source": [
    "score_diff = np.array(second_score) - np.array(first_score)\n",
    "plt.hist(score_diff, bins=30)\n",
    "plt.xlabel('Score Difference (Second Score - First Score)', fontsize=12)\n",
    "plt.ylabel('Count', fontsize=12)\n",
    "plt.title('Distribution of Score Differences', fontsize=14)\n",
    "plt.show()"
   ]
  },
  {
   "cell_type": "markdown",
   "metadata": {
    "deletable": false,
    "editable": false
   },
   "source": [
    "<!-- END QUESTION -->\n",
    "\n",
    "<!-- BEGIN QUESTION -->\n",
    "\n",
    "<br/><br/><br/>\n",
    "\n",
    "\n",
    "---\n",
    "\n",
    "\n",
    "### Question 7e\n",
    "\n",
    "If restaurants' scores tend to improve from the first to the second inspection, what do you expect to see in the scatter plot that you made in question 7c? What do you oberve from the plot? Are your observations consistent with your expectations? \n",
    "\n",
    "Hint: What does the slope represent?\n",
    "\n",
    "<!--\n",
    "BEGIN QUESTION\n",
    "name: q7e\n",
    "points: 1\n",
    "manual: True\n",
    "-->"
   ]
  },
  {
   "cell_type": "markdown",
   "metadata": {},
   "source": [
    "If the second score is higher than the first score, there will be more points(clustter) above the reference line than below it. If the slope of the reference line is greater than 1, meaning that most of the restaurants have an improved score, but if it's less than 1, the restaurants don't have a better second score.\n",
    "\n",
    "In 7c, the points are evenly spreadout around the reference line, where the slope=1, indicating that there's no trend showing that most of the restaurants have improved score the second time. My observation is not consistent with what I expected, since I thought restaurants getting a second inspection probably mean they didn't pass the first one or there were some other issues."
   ]
  },
  {
   "cell_type": "markdown",
   "metadata": {
    "deletable": false,
    "editable": false
   },
   "source": [
    "<!-- END QUESTION -->\n",
    "\n",
    "<!-- BEGIN QUESTION -->\n",
    "\n",
    "<br/><br/><br/>\n",
    "\n",
    "---\n",
    "\n",
    "### Question 7f\n",
    "\n",
    "If a restaurant's score improves from the first to the second inspection, how would this be reflected in the histogram of the difference in the scores that you made in question 7d? What do you oberve from the plot? Are your observations consistent with your expectations? Explain your observations in the language of Statistics: for instance, the center, the spread, the deviation etc.\n",
    "\n",
    "<!--\n",
    "BEGIN QUESTION\n",
    "name: q7f\n",
    "points: 1\n",
    "manual: True\n",
    "-->"
   ]
  },
  {
   "cell_type": "markdown",
   "metadata": {},
   "source": [
    "The histogram would skew left if the scores have improved from the first to the second one, however, the histogram we made looks somewhat symmetrical. The mode of the histogram is at around -1 to 0, which means that the scores either stay the same or the scores dropped. After seeing the scatter plot, the outcome of the histogram aligned with my expectations."
   ]
  },
  {
   "cell_type": "markdown",
   "metadata": {
    "deletable": false,
    "editable": false
   },
   "source": [
    "<!-- END QUESTION -->\n",
    "\n",
    "<!-- BEGIN QUESTION -->\n",
    "\n",
    "<br/><br/><br/>\n",
    "\n",
    "---\n",
    "\n",
    "### Question 7g \n",
    "To wrap up our analysis of the restaurant ratings over time, one final metric we will be looking at is the distribution of restaurant scores over time. Create a side-by-side boxplot that shows the distribution of these scores for each different risk category from 2017 to 2019. Use a figure size of at least 12 by 8.\n",
    "\n",
    "The boxplot should look similar to the sample below. Make sure the boxes are in the correct order!\n",
    "\n",
    "![](pics/7g.png)\n",
    "\n",
    "**Hint**: Use `sns.boxplot()`. Try taking a look at the first several parameters. [The documentation is linked here!](https://seaborn.pydata.org/generated/seaborn.boxplot.html)\n",
    "\n",
    "**Hint**: Use `plt.figure()` to adjust the figure size of your plot.\n",
    "\n",
    "<!--\n",
    "BEGIN QUESTION\n",
    "name: q7g\n",
    "points: 3\n",
    "manual: True\n",
    "-->"
   ]
  },
  {
   "cell_type": "code",
   "execution_count": 88,
   "metadata": {
    "scrolled": true
   },
   "outputs": [
    {
     "data": {
      "text/html": [
       "<div>\n",
       "<style scoped>\n",
       "    .dataframe tbody tr th:only-of-type {\n",
       "        vertical-align: middle;\n",
       "    }\n",
       "\n",
       "    .dataframe tbody tr th {\n",
       "        vertical-align: top;\n",
       "    }\n",
       "\n",
       "    .dataframe thead th {\n",
       "        text-align: right;\n",
       "    }\n",
       "</style>\n",
       "<table border=\"1\" class=\"dataframe\">\n",
       "  <thead>\n",
       "    <tr style=\"text-align: right;\">\n",
       "      <th></th>\n",
       "      <th>iid</th>\n",
       "      <th>date</th>\n",
       "      <th>score</th>\n",
       "      <th>type</th>\n",
       "      <th>bid</th>\n",
       "      <th>timestamp</th>\n",
       "      <th>year</th>\n",
       "      <th>Missing Score</th>\n",
       "      <th>description</th>\n",
       "      <th>risk_category</th>\n",
       "      <th>vid</th>\n",
       "    </tr>\n",
       "  </thead>\n",
       "  <tbody>\n",
       "    <tr>\n",
       "      <th>0</th>\n",
       "      <td>100010_20190403</td>\n",
       "      <td>04/03/2019 12:00:00 AM</td>\n",
       "      <td>100</td>\n",
       "      <td>Routine - Unscheduled</td>\n",
       "      <td>100010</td>\n",
       "      <td>2019-04-03</td>\n",
       "      <td>2019</td>\n",
       "      <td>False</td>\n",
       "      <td>NaN</td>\n",
       "      <td>NaN</td>\n",
       "      <td>NaN</td>\n",
       "    </tr>\n",
       "    <tr>\n",
       "      <th>1</th>\n",
       "      <td>100017_20190816</td>\n",
       "      <td>08/16/2019 12:00:00 AM</td>\n",
       "      <td>91</td>\n",
       "      <td>Routine - Unscheduled</td>\n",
       "      <td>100017</td>\n",
       "      <td>2019-08-16</td>\n",
       "      <td>2019</td>\n",
       "      <td>False</td>\n",
       "      <td>Improper cooling methods</td>\n",
       "      <td>High Risk</td>\n",
       "      <td>103105.0</td>\n",
       "    </tr>\n",
       "    <tr>\n",
       "      <th>2</th>\n",
       "      <td>100017_20190816</td>\n",
       "      <td>08/16/2019 12:00:00 AM</td>\n",
       "      <td>91</td>\n",
       "      <td>Routine - Unscheduled</td>\n",
       "      <td>100017</td>\n",
       "      <td>2019-08-16</td>\n",
       "      <td>2019</td>\n",
       "      <td>False</td>\n",
       "      <td>Improper food storage</td>\n",
       "      <td>Low Risk</td>\n",
       "      <td>103139.0</td>\n",
       "    </tr>\n",
       "    <tr>\n",
       "      <th>3</th>\n",
       "      <td>100041_20190520</td>\n",
       "      <td>05/20/2019 12:00:00 AM</td>\n",
       "      <td>83</td>\n",
       "      <td>Routine - Unscheduled</td>\n",
       "      <td>100041</td>\n",
       "      <td>2019-05-20</td>\n",
       "      <td>2019</td>\n",
       "      <td>False</td>\n",
       "      <td>Improper cooling methods</td>\n",
       "      <td>High Risk</td>\n",
       "      <td>103105.0</td>\n",
       "    </tr>\n",
       "    <tr>\n",
       "      <th>4</th>\n",
       "      <td>100041_20190520</td>\n",
       "      <td>05/20/2019 12:00:00 AM</td>\n",
       "      <td>83</td>\n",
       "      <td>Routine - Unscheduled</td>\n",
       "      <td>100041</td>\n",
       "      <td>2019-05-20</td>\n",
       "      <td>2019</td>\n",
       "      <td>False</td>\n",
       "      <td>Improper food storage</td>\n",
       "      <td>Low Risk</td>\n",
       "      <td>103139.0</td>\n",
       "    </tr>\n",
       "    <tr>\n",
       "      <th>...</th>\n",
       "      <td>...</td>\n",
       "      <td>...</td>\n",
       "      <td>...</td>\n",
       "      <td>...</td>\n",
       "      <td>...</td>\n",
       "      <td>...</td>\n",
       "      <td>...</td>\n",
       "      <td>...</td>\n",
       "      <td>...</td>\n",
       "      <td>...</td>\n",
       "      <td>...</td>\n",
       "    </tr>\n",
       "    <tr>\n",
       "      <th>39504</th>\n",
       "      <td>99_20180808</td>\n",
       "      <td>08/08/2018 12:00:00 AM</td>\n",
       "      <td>84</td>\n",
       "      <td>Routine - Unscheduled</td>\n",
       "      <td>99</td>\n",
       "      <td>2018-08-08</td>\n",
       "      <td>2018</td>\n",
       "      <td>False</td>\n",
       "      <td>Improper food storage</td>\n",
       "      <td>Low Risk</td>\n",
       "      <td>103139.0</td>\n",
       "    </tr>\n",
       "    <tr>\n",
       "      <th>39505</th>\n",
       "      <td>99_20180808</td>\n",
       "      <td>08/08/2018 12:00:00 AM</td>\n",
       "      <td>84</td>\n",
       "      <td>Routine - Unscheduled</td>\n",
       "      <td>99</td>\n",
       "      <td>2018-08-08</td>\n",
       "      <td>2018</td>\n",
       "      <td>False</td>\n",
       "      <td>Inadequately cleaned or sanitized food contact...</td>\n",
       "      <td>Moderate Risk</td>\n",
       "      <td>103124.0</td>\n",
       "    </tr>\n",
       "    <tr>\n",
       "      <th>39506</th>\n",
       "      <td>99_20180808</td>\n",
       "      <td>08/08/2018 12:00:00 AM</td>\n",
       "      <td>84</td>\n",
       "      <td>Routine - Unscheduled</td>\n",
       "      <td>99</td>\n",
       "      <td>2018-08-08</td>\n",
       "      <td>2018</td>\n",
       "      <td>False</td>\n",
       "      <td>No thermometers or uncalibrated thermometers</td>\n",
       "      <td>Low Risk</td>\n",
       "      <td>103148.0</td>\n",
       "    </tr>\n",
       "    <tr>\n",
       "      <th>39507</th>\n",
       "      <td>99_20180808</td>\n",
       "      <td>08/08/2018 12:00:00 AM</td>\n",
       "      <td>84</td>\n",
       "      <td>Routine - Unscheduled</td>\n",
       "      <td>99</td>\n",
       "      <td>2018-08-08</td>\n",
       "      <td>2018</td>\n",
       "      <td>False</td>\n",
       "      <td>Permit license or inspection report not posted</td>\n",
       "      <td>Low Risk</td>\n",
       "      <td>103156.0</td>\n",
       "    </tr>\n",
       "    <tr>\n",
       "      <th>39508</th>\n",
       "      <td>99_20180808</td>\n",
       "      <td>08/08/2018 12:00:00 AM</td>\n",
       "      <td>84</td>\n",
       "      <td>Routine - Unscheduled</td>\n",
       "      <td>99</td>\n",
       "      <td>2018-08-08</td>\n",
       "      <td>2018</td>\n",
       "      <td>False</td>\n",
       "      <td>Unclean nonfood contact surfaces</td>\n",
       "      <td>Low Risk</td>\n",
       "      <td>103142.0</td>\n",
       "    </tr>\n",
       "  </tbody>\n",
       "</table>\n",
       "<p>36783 rows × 11 columns</p>\n",
       "</div>"
      ],
      "text/plain": [
       "                   iid                    date  score                   type  \\\n",
       "0      100010_20190403  04/03/2019 12:00:00 AM    100  Routine - Unscheduled   \n",
       "1      100017_20190816  08/16/2019 12:00:00 AM     91  Routine - Unscheduled   \n",
       "2      100017_20190816  08/16/2019 12:00:00 AM     91  Routine - Unscheduled   \n",
       "3      100041_20190520  05/20/2019 12:00:00 AM     83  Routine - Unscheduled   \n",
       "4      100041_20190520  05/20/2019 12:00:00 AM     83  Routine - Unscheduled   \n",
       "...                ...                     ...    ...                    ...   \n",
       "39504      99_20180808  08/08/2018 12:00:00 AM     84  Routine - Unscheduled   \n",
       "39505      99_20180808  08/08/2018 12:00:00 AM     84  Routine - Unscheduled   \n",
       "39506      99_20180808  08/08/2018 12:00:00 AM     84  Routine - Unscheduled   \n",
       "39507      99_20180808  08/08/2018 12:00:00 AM     84  Routine - Unscheduled   \n",
       "39508      99_20180808  08/08/2018 12:00:00 AM     84  Routine - Unscheduled   \n",
       "\n",
       "          bid  timestamp  year  Missing Score  \\\n",
       "0      100010 2019-04-03  2019          False   \n",
       "1      100017 2019-08-16  2019          False   \n",
       "2      100017 2019-08-16  2019          False   \n",
       "3      100041 2019-05-20  2019          False   \n",
       "4      100041 2019-05-20  2019          False   \n",
       "...       ...        ...   ...            ...   \n",
       "39504      99 2018-08-08  2018          False   \n",
       "39505      99 2018-08-08  2018          False   \n",
       "39506      99 2018-08-08  2018          False   \n",
       "39507      99 2018-08-08  2018          False   \n",
       "39508      99 2018-08-08  2018          False   \n",
       "\n",
       "                                             description  risk_category  \\\n",
       "0                                                    NaN            NaN   \n",
       "1                               Improper cooling methods      High Risk   \n",
       "2                                  Improper food storage       Low Risk   \n",
       "3                               Improper cooling methods      High Risk   \n",
       "4                                  Improper food storage       Low Risk   \n",
       "...                                                  ...            ...   \n",
       "39504                              Improper food storage       Low Risk   \n",
       "39505  Inadequately cleaned or sanitized food contact...  Moderate Risk   \n",
       "39506       No thermometers or uncalibrated thermometers       Low Risk   \n",
       "39507     Permit license or inspection report not posted       Low Risk   \n",
       "39508                   Unclean nonfood contact surfaces       Low Risk   \n",
       "\n",
       "            vid  \n",
       "0           NaN  \n",
       "1      103105.0  \n",
       "2      103139.0  \n",
       "3      103105.0  \n",
       "4      103139.0  \n",
       "...         ...  \n",
       "39504  103139.0  \n",
       "39505  103124.0  \n",
       "39506  103148.0  \n",
       "39507  103156.0  \n",
       "39508  103142.0  \n",
       "\n",
       "[36783 rows x 11 columns]"
      ]
     },
     "execution_count": 88,
     "metadata": {},
     "output_type": "execute_result"
    }
   ],
   "source": [
    "merge_3= ins.merge(merge_1, how='left', left_on='iid', right_on='iid')\n",
    "box_plot= merge_3[merge_3['year'] > 2016]\n",
    "box_plot"
   ]
  },
  {
   "cell_type": "code",
   "execution_count": 89,
   "metadata": {
    "scrolled": true
   },
   "outputs": [
    {
     "data": {
      "image/png": "[encoded data removed]",
      "text/plain": [
       "<Figure size 864x576 with 1 Axes>"
      ]
     },
     "metadata": {},
     "output_type": "display_data"
    }
   ],
   "source": [
    "# Do not modify this line\n",
    "sns.set()\n",
    "\n",
    "plt.figure(figsize= (12,8))\n",
    "sns.boxplot(x='year', y='score', hue='risk_category', data=box_plot, hue_order=['Low Risk','Moderate Risk','High Risk'], linewidth=1)\n",
    "plt.show()"
   ]
  },
  {
   "cell_type": "markdown",
   "metadata": {},
   "source": [
    "<!-- END QUESTION -->\n",
    "\n",
    "\n",
    "\n",
    "## Summary of Inspections Data\n",
    "\n",
    "We have done a lot in this project! Below are some examples of what we have learned about the inspections data through some cool visualizations!\n",
    "\n",
    "- We found that the records are at the inspection level and that we have inspections for multiple years.\n",
    "- We also found that many restaurants have more than one inspection a year.\n",
    "- By joining the business and inspection data, we identified the name of the restaurant with the worst rating and optionally the names of the restaurants with the best rating.\n",
    "- We identified the restaurant that had the largest swing in rating over time.\n",
    "- We also examined the change of scores over time! Many restaurants are not actually doing better."
   ]
  },
  {
   "cell_type": "markdown",
   "metadata": {
    "deletable": false,
    "editable": false
   },
   "source": [
    "<!-- BEGIN QUESTION -->\n",
    "\n",
    "<br/><br/><br/>\n",
    "\n",
    "---\n",
    "\n",
    "<br/><br/><br/>\n",
    "\n",
    "# 8: Open Ended Question \n",
    "## Question 8a\n",
    "\n",
    "### Compute Something Interesting\n",
    "\n",
    "Play with the data and try to compute something interesting about the data. Please try to use at least one of groupby, pivot, or merge (or all of the above).  \n",
    "\n",
    "Please show your work in the cell below and describe in words what you found in the same cell. This question will be graded leniently but good solutions may be used to create future homework problems.\n",
    "\n",
    "### Grading ###\n",
    "\n",
    "Since the question is more open ended, we will have a more relaxed rubric, classifying your answers into the following three categories:\n",
    "\n",
    "- **Great** (4 points): Uses a combination of pandas operations (such as groupby, pivot, merge) to answer a relevant question about the data. The text description provides a reasonable interpretation of the result.\n",
    "- **Passing** (1-3 points): Computation is flawed or very simple. The text description is incomplete but makes some sense.\n",
    "- **Unsatisfactory** (0 points): No computation is performed, or a computation with completely wrong results.\n",
    "\n",
    "\n",
    "**Please have both your code and your explanation in the same one cell below. Any work in any other cell will not be graded.**\n",
    "\n",
    "\n",
    "<!--\n",
    "BEGIN QUESTION\n",
    "name: q8a\n",
    "points: 4\n",
    "manual: True\n",
    "-->\n",
    "\n"
   ]
  },
  {
   "cell_type": "code",
   "execution_count": 90,
   "metadata": {},
   "outputs": [
    {
     "data": {
      "text/plain": [
       "iid                     100010_20190403\n",
       "date             04/03/2019 12:00:00 AM\n",
       "score                               100\n",
       "type              Routine - Unscheduled\n",
       "bid                              100010\n",
       "timestamp           2019-04-03 00:00:00\n",
       "year                               2019\n",
       "Missing Score                     False\n",
       "Name: 1, dtype: object"
      ]
     },
     "execution_count": 90,
     "metadata": {},
     "output_type": "execute_result"
    }
   ],
   "source": [
    "#YOUR CODE HERE\n",
    "merge_3_18 = merge_3[merge_3['year']==2018]\n",
    "sorted_count= merge_3_18.groupby('bid').size().to_frame().rename(columns={0:'count'}).sort_values('count', ascending=False)\n",
    "count_risk= sorted_count.merge(merge_3_18, how='inner', left_on='bid', right_on='bid')\n",
    "count_risk[['bid', 'count', 'risk_category']].head(20)\n",
    "\n",
    "ins.iloc[0]\n",
    "\n",
    "#YOUR EXPLANATION HERE (in a comment)\n",
    "\n",
    "# I am curious about if there's any association between the risk category and number of times being inspected in a year(2018),\n",
    "# so I filtered out the year and counted the numbers of time a restaurant being inspected, then merged it with the \n",
    "# risk category to see if restaurants in high risk are being inspected more times . However, from looking at the dataframe\n",
    "# I see no obvious trend in these two variables."
   ]
  },
  {
   "cell_type": "markdown",
   "metadata": {},
   "source": [
    "<!-- END QUESTION -->\n",
    "\n",
    "\n",
    "\n",
    "<br/><br/><br/><br/>\n",
    "\n",
    "---\n",
    "\n",
    "<br/><br/>\n",
    "\n",
    "## Question 8b \n",
    "\n",
    "### Create some more cool visualizations!\n",
    "\n",
    "<br/>"
   ]
  },
  {
   "cell_type": "markdown",
   "metadata": {},
   "source": [
    "Play with the data, and try to produce some visualizations to answer one question that you find interesting regarding the data. You might want to use `merge`/`groupby`/`pivot` to process the data before creating visualizations.\n",
    "\n",
    "Please show your work in the cells below (feel free to use extra cells if you want), and describe in words what you found in the same cell. This question will be graded leniently, but good solutions may be used to create future homework problems. \n",
    "\n",
    "\n"
   ]
  },
  {
   "cell_type": "markdown",
   "metadata": {
    "deletable": false,
    "editable": false
   },
   "source": [
    "<!-- BEGIN QUESTION -->\n",
    "\n",
    "### Grading ###\n",
    "\n",
    "Since the question is more open ended, we will have a more relaxed rubric, classifying your answers into the following three categories:\n",
    "\n",
    "- **Great** (4 points): The chart is well designed, and the data computation is correct. The text written articulates a reasonable metric and correctly describes the relevant insight and answer to the question you are interested in.\n",
    "- **Passing** (1-3 points): A chart is produced but with some flaws such as bad encoding. The text written is incomplete but makes some sense.\n",
    "- **Unsatisfactory** (0 points): No chart is created, or a chart with completely wrong results.\n",
    "\n",
    "We will lean towards being generous with the grading. We might also either discuss in discussion or post on Piazza some examplar analysis you have done (with your permission)!\n",
    "\n",
    "You should have the following in your answers:\n",
    "* a few visualizations; Please limit your visualizations to 5 plots.\n",
    "* a few sentences (not too long please!)\n",
    "\n",
    "Please note that you will only receive support in OH and Piazza for Matplotlib and seaborn questions. However, you may use some other Python libraries to help you create you visualizations. If you do so, make sure it is compatible with the PDF export (e.g., Plotly does not create PDFs properly, which we need for Gradescope).\n",
    "\n",
    "<!--\n",
    "BEGIN QUESTION\n",
    "name: q8b\n",
    "points: 4\n",
    "manual: True\n",
    "-->"
   ]
  },
  {
   "cell_type": "code",
   "execution_count": 91,
   "metadata": {},
   "outputs": [
    {
     "data": {
      "image/png": "[encoded data removed]",
      "text/plain": [
       "<Figure size 432x288 with 1 Axes>"
      ]
     },
     "metadata": {},
     "output_type": "display_data"
    }
   ],
   "source": [
    "# YOUR DATA PROCESSING AND PLOTTING HERE\n",
    "a = count_risk[['bid', 'count', 'risk_category']].groupby('risk_category').sum().sort_values('count', ascending=False)\n",
    "risk_cat = np.array(a.index)\n",
    "counts = np.array(a['count'])\n",
    "plt.barh(risk_cat, counts, height=0.7)\n",
    "plt.xlabel('Total Numbers of Inspection')\n",
    "plt.ylabel('Risk Category')\n",
    "plt.title('Total Numbers of Inspection per Risk Category in 2018')\n",
    "plt.show()\n",
    "\n",
    "# YOUR EXPLANATION HERE (in a comment)\n",
    "# From part(a) I wanted to find if there's a relationship between risk category and the number of \n",
    "# inspection per year for a restaurant. Just by looking at the dataframe, I see no obvious trend, and I wanted to \n",
    "# use it to make a plot to confirm my observation. I grouped the risk category and summed up the total inspection counts\n",
    "# in each category. I found that actually restaurants that fell into the low risk category had more inspections, \n",
    "# and there were less inspections for high risk category restaurants."
   ]
  },
  {
   "cell_type": "markdown",
   "metadata": {
    "deletable": false,
    "editable": false
   },
   "source": [
    "<!-- END QUESTION -->"
   ]
  },
  {
   "cell_type": "code",
   "execution_count": 92,
   "metadata": {},
   "outputs": [],
   "source": [
    "# THIS CELL AND ANY CELLS ADDED BELOW WILL NOT BE GRADED"
   ]
  },
  {
   "cell_type": "markdown",
   "metadata": {},
   "source": [
    "## Congratulations! You have finished Project 1! ##"
   ]
  },
  {
   "cell_type": "markdown",
   "metadata": {
    "deletable": false,
    "editable": false
   },
   "source": [
    "---\n",
    "\n",
    "To double-check your work, the cell below will rerun all of the autograder tests."
   ]
  },
  {
   "cell_type": "code",
   "execution_count": 93,
   "metadata": {
    "deletable": false,
    "editable": false
   },
   "outputs": [
    {
     "data": {
      "text/html": [
       "<p><strong>q1a:</strong></p>\n",
       "\n",
       "    \n",
       "    \n",
       "        <p>All tests passed!</p>\n",
       "    \n",
       "    \n",
       "\n",
       "<p><strong>q1d:</strong></p>\n",
       "\n",
       "    \n",
       "    \n",
       "        <p>All tests passed!</p>\n",
       "    \n",
       "    \n",
       "\n",
       "<p><strong>q2a:</strong></p>\n",
       "\n",
       "    \n",
       "    \n",
       "        <p>All tests passed!</p>\n",
       "    \n",
       "    \n",
       "\n",
       "<p><strong>q2b:</strong></p>\n",
       "\n",
       "    \n",
       "    \n",
       "        <p>All tests passed!</p>\n",
       "    \n",
       "    \n",
       "\n",
       "<p><strong>q2ci:</strong></p>\n",
       "\n",
       "    \n",
       "    \n",
       "        <p>All tests passed!</p>\n",
       "    \n",
       "    \n",
       "\n",
       "<p><strong>q2cii:</strong></p>\n",
       "\n",
       "    \n",
       "    \n",
       "        <p>All tests passed!</p>\n",
       "    \n",
       "    \n",
       "\n",
       "<p><strong>q2d:</strong></p>\n",
       "\n",
       "    \n",
       "    \n",
       "        <p>All tests passed!</p>\n",
       "    \n",
       "    \n",
       "\n",
       "<p><strong>q3a:</strong></p>\n",
       "\n",
       "    \n",
       "    \n",
       "        <p>All tests passed!</p>\n",
       "    \n",
       "    \n",
       "\n",
       "<p><strong>q3b:</strong></p>\n",
       "\n",
       "    \n",
       "    \n",
       "        <p>All tests passed!</p>\n",
       "    \n",
       "    \n",
       "\n",
       "<p><strong>q3ci:</strong></p>\n",
       "\n",
       "    \n",
       "    \n",
       "        <p>All tests passed!</p>\n",
       "    \n",
       "    \n",
       "\n",
       "<p><strong>q3cii:</strong></p>\n",
       "\n",
       "    \n",
       "    \n",
       "        <p>All tests passed!</p>\n",
       "    \n",
       "    \n",
       "\n",
       "<p><strong>q3d:</strong></p>\n",
       "\n",
       "    \n",
       "    \n",
       "        <p>All tests passed!</p>\n",
       "    \n",
       "    \n",
       "\n",
       "<p><strong>q3e:</strong></p>\n",
       "\n",
       "    \n",
       "    \n",
       "        <p>All tests passed!</p>\n",
       "    \n",
       "    \n",
       "\n",
       "<p><strong>q3f:</strong></p>\n",
       "\n",
       "    \n",
       "    \n",
       "        <p>All tests passed!</p>\n",
       "    \n",
       "    \n",
       "\n",
       "<p><strong>q4a:</strong></p>\n",
       "\n",
       "    \n",
       "    \n",
       "        <p>All tests passed!</p>\n",
       "    \n",
       "    \n",
       "\n",
       "<p><strong>q4bi:</strong></p>\n",
       "\n",
       "    \n",
       "    \n",
       "        <p>All tests passed!</p>\n",
       "    \n",
       "    \n",
       "\n",
       "<p><strong>q4bii:</strong></p>\n",
       "\n",
       "    \n",
       "    \n",
       "        <p>All tests passed!</p>\n",
       "    \n",
       "    \n",
       "\n",
       "<p><strong>q4biii:</strong></p>\n",
       "\n",
       "    \n",
       "    \n",
       "        <p>All tests passed!</p>\n",
       "    \n",
       "    \n",
       "\n",
       "<p><strong>q4ci:</strong></p>\n",
       "\n",
       "    \n",
       "    \n",
       "        <p>All tests passed!</p>\n",
       "    \n",
       "    \n",
       "\n",
       "<p><strong>q4cii:</strong></p>\n",
       "\n",
       "    \n",
       "    \n",
       "        <p>All tests passed!</p>\n",
       "    \n",
       "    \n",
       "\n",
       "<p><strong>q4ciii:</strong></p>\n",
       "\n",
       "    \n",
       "    \n",
       "        <p>All tests passed!</p>\n",
       "    \n",
       "    \n",
       "\n",
       "<p><strong>q4civ:</strong></p>\n",
       "\n",
       "    \n",
       "    \n",
       "        <p>All tests passed!</p>\n",
       "    \n",
       "    \n",
       "\n",
       "<p><strong>q4di:</strong></p>\n",
       "\n",
       "    \n",
       "    \n",
       "        <p>All tests passed!</p>\n",
       "    \n",
       "    \n",
       "\n",
       "<p><strong>q4dii:</strong></p>\n",
       "\n",
       "    \n",
       "    \n",
       "        <p>All tests passed!</p>\n",
       "    \n",
       "    \n",
       "\n",
       "<p><strong>q4e:</strong></p>\n",
       "\n",
       "    \n",
       "    \n",
       "        <p>All tests passed!</p>\n",
       "    \n",
       "    \n",
       "\n",
       "<p><strong>q5a:</strong></p>\n",
       "\n",
       "    \n",
       "    \n",
       "        <p>All tests passed!</p>\n",
       "    \n",
       "    \n",
       "\n",
       "<p><strong>q5b:</strong></p>\n",
       "\n",
       "    \n",
       "    \n",
       "        <p>All tests passed!</p>\n",
       "    \n",
       "    \n",
       "\n",
       "<p><strong>q5c:</strong></p>\n",
       "\n",
       "    \n",
       "    \n",
       "        <p>All tests passed!</p>\n",
       "    \n",
       "    \n",
       "\n",
       "<p><strong>q7a:</strong></p>\n",
       "\n",
       "    \n",
       "    \n",
       "        <p>All tests passed!</p>\n",
       "    \n",
       "    \n",
       "\n",
       "<p><strong>q7b:</strong></p>\n",
       "\n",
       "    \n",
       "    \n",
       "        <p>All tests passed!</p>\n",
       "    \n",
       "    \n",
       "\n",
       "<p><strong>q7ci:</strong></p>\n",
       "\n",
       "    \n",
       "    \n",
       "        <p>All tests passed!</p>\n",
       "    \n",
       "    \n",
       "\n"
      ],
      "text/plain": [
       "q1a:\n",
       "\n",
       "    All tests passed!\n",
       "    \n",
       "\n",
       "q1d:\n",
       "\n",
       "    All tests passed!\n",
       "    \n",
       "\n",
       "q2a:\n",
       "\n",
       "    All tests passed!\n",
       "    \n",
       "\n",
       "q2b:\n",
       "\n",
       "    All tests passed!\n",
       "    \n",
       "\n",
       "q2ci:\n",
       "\n",
       "    All tests passed!\n",
       "    \n",
       "\n",
       "q2cii:\n",
       "\n",
       "    All tests passed!\n",
       "    \n",
       "\n",
       "q2d:\n",
       "\n",
       "    All tests passed!\n",
       "    \n",
       "\n",
       "q3a:\n",
       "\n",
       "    All tests passed!\n",
       "    \n",
       "\n",
       "q3b:\n",
       "\n",
       "    All tests passed!\n",
       "    \n",
       "\n",
       "q3ci:\n",
       "\n",
       "    All tests passed!\n",
       "    \n",
       "\n",
       "q3cii:\n",
       "\n",
       "    All tests passed!\n",
       "    \n",
       "\n",
       "q3d:\n",
       "\n",
       "    All tests passed!\n",
       "    \n",
       "\n",
       "q3e:\n",
       "\n",
       "    All tests passed!\n",
       "    \n",
       "\n",
       "q3f:\n",
       "\n",
       "    All tests passed!\n",
       "    \n",
       "\n",
       "q4a:\n",
       "\n",
       "    All tests passed!\n",
       "    \n",
       "\n",
       "q4bi:\n",
       "\n",
       "    All tests passed!\n",
       "    \n",
       "\n",
       "q4bii:\n",
       "\n",
       "    All tests passed!\n",
       "    \n",
       "\n",
       "q4biii:\n",
       "\n",
       "    All tests passed!\n",
       "    \n",
       "\n",
       "q4ci:\n",
       "\n",
       "    All tests passed!\n",
       "    \n",
       "\n",
       "q4cii:\n",
       "\n",
       "    All tests passed!\n",
       "    \n",
       "\n",
       "q4ciii:\n",
       "\n",
       "    All tests passed!\n",
       "    \n",
       "\n",
       "q4civ:\n",
       "\n",
       "    All tests passed!\n",
       "    \n",
       "\n",
       "q4di:\n",
       "\n",
       "    All tests passed!\n",
       "    \n",
       "\n",
       "q4dii:\n",
       "\n",
       "    All tests passed!\n",
       "    \n",
       "\n",
       "q4e:\n",
       "\n",
       "    All tests passed!\n",
       "    \n",
       "\n",
       "q5a:\n",
       "\n",
       "    All tests passed!\n",
       "    \n",
       "\n",
       "q5b:\n",
       "\n",
       "    All tests passed!\n",
       "    \n",
       "\n",
       "q5c:\n",
       "\n",
       "    All tests passed!\n",
       "    \n",
       "\n",
       "q7a:\n",
       "\n",
       "    All tests passed!\n",
       "    \n",
       "\n",
       "q7b:\n",
       "\n",
       "    All tests passed!\n",
       "    \n",
       "\n",
       "q7ci:\n",
       "\n",
       "    All tests passed!\n",
       "    \n"
      ]
     },
     "execution_count": 93,
     "metadata": {},
     "output_type": "execute_result"
    }
   ],
   "source": [
    "grader.check_all()"
   ]
  },
  {
   "cell_type": "markdown",
   "metadata": {
    "deletable": false,
    "editable": false
   },
   "source": [
    "## Submission\n",
    "\n",
    "Make sure you have run all cells in your notebook in order before running the cell below, so that all images/graphs appear in the output. The cell below will generate a zip file for you to submit. **Please save before exporting!**"
   ]
  },
  {
   "cell_type": "code",
   "execution_count": 94,
   "metadata": {
    "deletable": false,
    "editable": false
   },
   "outputs": [
    {
     "data": {
      "text/html": [
       "\n",
       "                <p>Your submission has been exported. Click <a href=\"proj1.zip\" target=\"_blank\">here</a> \n",
       "                to download the zip file.</p>\n",
       "                "
      ],
      "text/plain": [
       "<IPython.core.display.HTML object>"
      ]
     },
     "metadata": {},
     "output_type": "display_data"
    }
   ],
   "source": [
    "# Save your notebook first, then run this cell to export your submission.\n",
    "grader.export(\"proj1.ipynb\")"
   ]
  },
  {
   "cell_type": "markdown",
   "metadata": {},
   "source": [
    " "
   ]
  }
 ],
 "metadata": {
  "celltoolbar": "Create Assignment",
  "kernelspec": {
   "display_name": "Python 3",
   "language": "python",
   "name": "python3"
  },
  "language_info": {
   "codemirror_mode": {
    "name": "ipython",
    "version": 3
   },
   "file_extension": ".py",
   "mimetype": "text/x-python",
   "name": "python",
   "nbconvert_exporter": "python",
   "pygments_lexer": "ipython3",
   "version": "3.8.1"
  }
 },
 "nbformat": 4,
 "nbformat_minor": 4
}
